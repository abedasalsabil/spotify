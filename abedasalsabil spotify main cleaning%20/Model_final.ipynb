{
 "cells": [
  {
   "cell_type": "code",
   "execution_count": 3,
   "id": "10bc7487",
   "metadata": {},
   "outputs": [],
   "source": [
    "# Importing our dependencies\n",
    "import pandas as pd\n",
    "from pyspark import SparkFiles\n",
    "import findspark\n",
    "findspark.init()\n",
    "from pyspark.sql import SparkSession"
   ]
  },
  {
   "cell_type": "code",
   "execution_count": 4,
   "id": "3dc0928b",
   "metadata": {},
   "outputs": [
    {
     "name": "stdout",
     "output_type": "stream",
     "text": [
      "23/06/13 10:12:26 WARN Utils: Your hostname, Sumaiyas-MacBook-Air.local resolves to a loopback address: 127.0.0.1; using 10.0.0.72 instead (on interface en0)\n",
      "23/06/13 10:12:26 WARN Utils: Set SPARK_LOCAL_IP if you need to bind to another address\n"
     ]
    },
    {
     "name": "stderr",
     "output_type": "stream",
     "text": [
      "Setting default log level to \"WARN\".\n",
      "To adjust logging level use sc.setLogLevel(newLevel). For SparkR, use setLogLevel(newLevel).\n"
     ]
    },
    {
     "name": "stdout",
     "output_type": "stream",
     "text": [
      "23/06/13 10:12:27 WARN NativeCodeLoader: Unable to load native-hadoop library for your platform... using builtin-java classes where applicable\n",
      "23/06/13 10:12:28 WARN Utils: Service 'SparkUI' could not bind on port 4040. Attempting port 4041.\n",
      "23/06/13 10:12:28 WARN Utils: Service 'SparkUI' could not bind on port 4041. Attempting port 4042.\n"
     ]
    }
   ],
   "source": [
    "# Creating a spark session\n",
    "spark = SparkSession.builder.appName(\"SparkSQL\").getOrCreate()"
   ]
  },
  {
   "cell_type": "code",
   "execution_count": 5,
   "id": "a614dcd7",
   "metadata": {},
   "outputs": [
    {
     "name": "stderr",
     "output_type": "stream",
     "text": [
      "                                                                                \r"
     ]
    },
    {
     "name": "stdout",
     "output_type": "stream",
     "text": [
      "+--------------------+--------------------+----------+----------+------------+------+----+--------+-----------+------------+----------------+--------+-------+-------+--------------------+\n",
      "|          track.name|          album_name|album_type|popularity|danceability|energy| key|loudness|speechiness|acousticness|instrumentalness|liveness|valence|  tempo|              artist|\n",
      "+--------------------+--------------------+----------+----------+------------+------+----+--------+-----------+------------+----------------+--------+-------+-------+--------------------+\n",
      "|#Sarkanbaltsarkanais|#Sarkanbaltsarkanais|    single|      38.0|       0.738| 0.785|11.0|  -5.003|      0.104|      0.0608|             0.0|   0.403|  0.626|110.118|   Bermudu Divstūris|\n",
      "|  'Til We Meet Again|MY WORLD - The 3r...|    single|      63.0|       0.474| 0.857| 5.0|  -2.577|     0.0571|       0.134|             0.0|   0.113|  0.552| 155.71|               aespa|\n",
      "|               00:00|               00:00|    single|      60.0|       0.563| 0.572| 4.0|  -8.769|      0.125|        0.64|         0.00227|     0.1|  0.392| 95.013|            Lartiste|\n",
      "|                0321|                0321|    single|      67.0|       0.658| 0.417| 2.0|  -6.485|     0.0366|       0.625|             0.0|   0.132| 0.0748|171.974|             space x|\n",
      "|       085 - Ao Vivo|  Pode Crê (Ao Vivo)|     album|      83.0|        0.85| 0.655| 2.0|  -2.891|     0.0298|       0.211|             0.0|   0.952|  0.797|106.031|        MC Rogerinho|\n",
      "|                   1|                   1|    single|      68.0|       0.832| 0.617| 5.0|  -8.412|      0.055|      0.0911|         1.73E-5|   0.123|  0.608|125.994|             Broiler|\n",
      "|            10 AF 10|                 600|     album|      42.0|       0.542| 0.513| 1.0|  -6.683|      0.236|      0.0707|         1.79E-4|    0.31|   0.35|100.762|              Daniil|\n",
      "|          10 minutes|          10 minutes|    single|      64.0|       0.597| 0.494|11.0|  -8.263|      0.469|       0.189|         1.55E-6|  0.0813|  0.504|139.889|                 PLK|\n",
      "|            100 OPPS|            100 OPPS|    single|      73.0|        0.77| 0.578| 1.0|  -3.726|     0.0977|      0.0522|             0.0|  0.0795|   0.66| 151.24|               Shiva|\n",
      "|            100 lány|            100 lány|    single|      41.0|       0.847| 0.607| 1.0|  -8.057|      0.212|       0.444|         2.72E-6|  0.0956|  0.613| 110.04|              VALMAR|\n",
      "|               10:35|               DRIVE|     album|      75.0|       0.696| 0.793| 8.0|  -5.733|      0.097|      0.0683|         3.78E-6|    0.18|  0.698|120.003|              Tiësto|\n",
      "|                10MG|                10MG|    single|      75.0|       0.737| 0.488| 1.0|  -9.751|      0.196|       0.595|         1.53E-5|   0.103|  0.248|127.124|              Motive|\n",
      "| 115万キロのフィルム|      エスカパレード|     album|      74.0|       0.516| 0.791| 3.0|  -1.927|     0.0318|     0.00345|             0.0|   0.141|   0.48| 96.921|OFFICIAL HIGE DAN...|\n",
      "|                  17|     Ceramics Runway|    single|      74.0|       0.748| 0.837|10.0|  -4.783|      0.161|       0.155|         0.00426|   0.126|   0.97|150.073|               ADAAM|\n",
      "|               17 år|  Och vinnaren är...|     album|      68.0|        0.76| 0.675| 1.0|  -6.299|     0.0254|       0.244|         8.42E-6|   0.105|  0.783|106.942|     Veronica Maggio|\n",
      "|17. Mai er vi så ...|17. Mai er vi så ...|    single|      58.0|       0.652| 0.593| 4.0|  -8.957|      0.363|       0.151|           0.073|   0.472|  0.624|127.928|        RykkinnFella|\n",
      "|              17.mai|SÅ KLART DET GJØR...|     album|      45.0|       0.641| 0.674|10.0|  -9.184|     0.0879|        0.49|         1.97E-4|   0.283|  0.227|119.895|               Ramón|\n",
      "|1700 Waiting (Rad...|1700 Waiting (Rad...|    single|      20.0|       0.703| 0.714| 0.0|  -5.341|     0.0305|      0.0108|             0.0|   0.296|  0.289|100.047|            DJ CHRXN|\n",
      "|                  18|       FOUR (Deluxe)|     album|      83.0|       0.681| 0.582| 6.0|   -7.76|     0.0313|        0.22|             0.0|   0.119|  0.221|124.038|       One Direction|\n",
      "|              1Trago|              1Trago|    single|      78.0|       0.669| 0.829| 0.0|  -5.008|     0.0369|      0.0253|             0.0|  0.0635|  0.369|121.978|         Danna Paola|\n",
      "+--------------------+--------------------+----------+----------+------------+------+----+--------+-----------+------------+----------------+--------+-------+-------+--------------------+\n",
      "only showing top 20 rows\n",
      "\n"
     ]
    }
   ],
   "source": [
    "# Importing and reading the clean data using spark\n",
    "clean_df = spark.read.csv(\"../abedasalsabil spotify main cleaning%20/cleaning/Resources/clean_May_tracks.csv\", header=True, inferSchema=True)\n",
    "\n",
    "# Showing DataFrame\n",
    "clean_df.show()"
   ]
  },
  {
   "cell_type": "code",
   "execution_count": 6,
   "id": "8167feac",
   "metadata": {},
   "outputs": [],
   "source": [
    "# Creating our temporary view\n",
    "clean_df.createOrReplaceTempView('spotify')"
   ]
  },
  {
   "cell_type": "code",
   "execution_count": 7,
   "id": "9ccae1a0",
   "metadata": {},
   "outputs": [
    {
     "name": "stdout",
     "output_type": "stream",
     "text": [
      "+------------+---------------+\n",
      "|      artist|number_of_songs|\n",
      "+------------+---------------+\n",
      "|    Azahriah|             21|\n",
      "|    Måneskin|             18|\n",
      "|       RICTA|             17|\n",
      "|       Separ|             16|\n",
      "| Hafdís Huld|             15|\n",
      "|   BLACKPINK|             15|\n",
      "|Taylor Swift|             14|\n",
      "|  Emis Killa|             14|\n",
      "|      FLY LO|             14|\n",
      "|   Baby Gang|             14|\n",
      "+------------+---------------+\n",
      "\n"
     ]
    }
   ],
   "source": [
    "# Most number of songs released per artist - top 10\n",
    "spark.sql(\"\"\"\n",
    "  SELECT\n",
    "    artist,\n",
    "    count(*) AS number_of_songs\n",
    "  FROM spotify\n",
    "  GROUP BY artist\n",
    "  ORDER BY 2 DESC\n",
    "  LIMIT 10\n",
    "  \"\"\").show()"
   ]
  },
  {
   "cell_type": "code",
   "execution_count": 8,
   "id": "bc0f1b94",
   "metadata": {},
   "outputs": [],
   "source": [
    "# Converting spark dataframe to pandas dataframe\n",
    "track_df = clean_df.toPandas()"
   ]
  },
  {
   "cell_type": "code",
   "execution_count": 9,
   "id": "1db7b612",
   "metadata": {},
   "outputs": [
    {
     "data": {
      "text/plain": [
       "track.name           object\n",
       "album_name           object\n",
       "album_type           object\n",
       "popularity           object\n",
       "danceability         object\n",
       "energy              float64\n",
       "key                 float64\n",
       "loudness            float64\n",
       "speechiness         float64\n",
       "acousticness        float64\n",
       "instrumentalness    float64\n",
       "liveness            float64\n",
       "valence             float64\n",
       "tempo               float64\n",
       "artist               object\n",
       "dtype: object"
      ]
     },
     "execution_count": 9,
     "metadata": {},
     "output_type": "execute_result"
    }
   ],
   "source": [
    "track_df.dtypes"
   ]
  },
  {
   "cell_type": "code",
   "execution_count": 10,
   "id": "0659786d",
   "metadata": {},
   "outputs": [
    {
     "data": {
      "text/plain": [
       "63.0            88\n",
       "56.0            85\n",
       "64.0            81\n",
       "74.0            78\n",
       "73.0            78\n",
       "                ..\n",
       "98.0             1\n",
       "10.0             1\n",
       "13.0             1\n",
       " Vol. 10\"\")\"     1\n",
       "100.0            1\n",
       "Name: popularity, Length: 101, dtype: int64"
      ]
     },
     "execution_count": 10,
     "metadata": {},
     "output_type": "execute_result"
    }
   ],
   "source": [
    "track_df['popularity'].value_counts()"
   ]
  },
  {
   "cell_type": "code",
   "execution_count": 11,
   "id": "d86bcfc4",
   "metadata": {},
   "outputs": [],
   "source": [
    "track_df = track_df[~track_df['popularity'].str.contains(' ')]"
   ]
  },
  {
   "cell_type": "code",
   "execution_count": 12,
   "id": "2743a018",
   "metadata": {},
   "outputs": [],
   "source": [
    "track_df['popularity'] = track_df['popularity'].astype(float)\n",
    "track_df['danceability'] = track_df['danceability'].astype(float)"
   ]
  },
  {
   "attachments": {},
   "cell_type": "markdown",
   "id": "15bc1c6e",
   "metadata": {},
   "source": [
    "# Feature Engineering -\n",
    "Since our goal is to be able to identify which tracks will be popular, we need to feature engineer a new column by binarizing the popularity column. To be able to do this, we need to decide on a cut-off point of popularity score which if a song stays above this cut-off point it will be considered \"popular\" and if it stays below it will be considered \"not popular\". We can start off by taking a look at the distribution of the popularity score distribution."
   ]
  },
  {
   "cell_type": "code",
   "execution_count": 13,
   "id": "88071c8c",
   "metadata": {},
   "outputs": [],
   "source": [
    "import matplotlib.pyplot as plt\n",
    "import seaborn as sns"
   ]
  },
  {
   "cell_type": "code",
   "execution_count": 14,
   "id": "d3b89141",
   "metadata": {},
   "outputs": [
    {
     "data": {
      "text/html": [
       "<div>\n",
       "<style scoped>\n",
       "    .dataframe tbody tr th:only-of-type {\n",
       "        vertical-align: middle;\n",
       "    }\n",
       "\n",
       "    .dataframe tbody tr th {\n",
       "        vertical-align: top;\n",
       "    }\n",
       "\n",
       "    .dataframe thead th {\n",
       "        text-align: right;\n",
       "    }\n",
       "</style>\n",
       "<table border=\"1\" class=\"dataframe\">\n",
       "  <thead>\n",
       "    <tr style=\"text-align: right;\">\n",
       "      <th></th>\n",
       "      <th>popularity</th>\n",
       "      <th>danceability</th>\n",
       "      <th>energy</th>\n",
       "      <th>key</th>\n",
       "      <th>loudness</th>\n",
       "      <th>speechiness</th>\n",
       "      <th>acousticness</th>\n",
       "      <th>instrumentalness</th>\n",
       "      <th>liveness</th>\n",
       "      <th>valence</th>\n",
       "      <th>tempo</th>\n",
       "    </tr>\n",
       "  </thead>\n",
       "  <tbody>\n",
       "    <tr>\n",
       "      <th>popularity</th>\n",
       "      <td>1.000000</td>\n",
       "      <td>-0.054423</td>\n",
       "      <td>0.016424</td>\n",
       "      <td>-0.007676</td>\n",
       "      <td>0.159569</td>\n",
       "      <td>-0.158958</td>\n",
       "      <td>-0.010214</td>\n",
       "      <td>-0.027113</td>\n",
       "      <td>0.023117</td>\n",
       "      <td>-0.040645</td>\n",
       "      <td>0.033167</td>\n",
       "    </tr>\n",
       "    <tr>\n",
       "      <th>danceability</th>\n",
       "      <td>-0.054423</td>\n",
       "      <td>1.000000</td>\n",
       "      <td>0.125778</td>\n",
       "      <td>0.043556</td>\n",
       "      <td>0.070837</td>\n",
       "      <td>0.169038</td>\n",
       "      <td>-0.187504</td>\n",
       "      <td>-0.017882</td>\n",
       "      <td>-0.119558</td>\n",
       "      <td>0.369787</td>\n",
       "      <td>-0.146266</td>\n",
       "    </tr>\n",
       "    <tr>\n",
       "      <th>energy</th>\n",
       "      <td>0.016424</td>\n",
       "      <td>0.125778</td>\n",
       "      <td>1.000000</td>\n",
       "      <td>0.034755</td>\n",
       "      <td>0.700485</td>\n",
       "      <td>0.008383</td>\n",
       "      <td>-0.533418</td>\n",
       "      <td>-0.060217</td>\n",
       "      <td>0.167635</td>\n",
       "      <td>0.336553</td>\n",
       "      <td>0.081133</td>\n",
       "    </tr>\n",
       "    <tr>\n",
       "      <th>key</th>\n",
       "      <td>-0.007676</td>\n",
       "      <td>0.043556</td>\n",
       "      <td>0.034755</td>\n",
       "      <td>1.000000</td>\n",
       "      <td>0.030573</td>\n",
       "      <td>0.029615</td>\n",
       "      <td>-0.033034</td>\n",
       "      <td>-0.001755</td>\n",
       "      <td>0.004458</td>\n",
       "      <td>0.075491</td>\n",
       "      <td>0.020454</td>\n",
       "    </tr>\n",
       "    <tr>\n",
       "      <th>loudness</th>\n",
       "      <td>0.159569</td>\n",
       "      <td>0.070837</td>\n",
       "      <td>0.700485</td>\n",
       "      <td>0.030573</td>\n",
       "      <td>1.000000</td>\n",
       "      <td>-0.067835</td>\n",
       "      <td>-0.363211</td>\n",
       "      <td>-0.220618</td>\n",
       "      <td>0.111077</td>\n",
       "      <td>0.252590</td>\n",
       "      <td>0.052744</td>\n",
       "    </tr>\n",
       "    <tr>\n",
       "      <th>speechiness</th>\n",
       "      <td>-0.158958</td>\n",
       "      <td>0.169038</td>\n",
       "      <td>0.008383</td>\n",
       "      <td>0.029615</td>\n",
       "      <td>-0.067835</td>\n",
       "      <td>1.000000</td>\n",
       "      <td>-0.005330</td>\n",
       "      <td>-0.045710</td>\n",
       "      <td>-0.018776</td>\n",
       "      <td>0.058101</td>\n",
       "      <td>0.054575</td>\n",
       "    </tr>\n",
       "    <tr>\n",
       "      <th>acousticness</th>\n",
       "      <td>-0.010214</td>\n",
       "      <td>-0.187504</td>\n",
       "      <td>-0.533418</td>\n",
       "      <td>-0.033034</td>\n",
       "      <td>-0.363211</td>\n",
       "      <td>-0.005330</td>\n",
       "      <td>1.000000</td>\n",
       "      <td>-0.010252</td>\n",
       "      <td>-0.039812</td>\n",
       "      <td>-0.142881</td>\n",
       "      <td>-0.045792</td>\n",
       "    </tr>\n",
       "    <tr>\n",
       "      <th>instrumentalness</th>\n",
       "      <td>-0.027113</td>\n",
       "      <td>-0.017882</td>\n",
       "      <td>-0.060217</td>\n",
       "      <td>-0.001755</td>\n",
       "      <td>-0.220618</td>\n",
       "      <td>-0.045710</td>\n",
       "      <td>-0.010252</td>\n",
       "      <td>1.000000</td>\n",
       "      <td>-0.030214</td>\n",
       "      <td>-0.083187</td>\n",
       "      <td>0.014306</td>\n",
       "    </tr>\n",
       "    <tr>\n",
       "      <th>liveness</th>\n",
       "      <td>0.023117</td>\n",
       "      <td>-0.119558</td>\n",
       "      <td>0.167635</td>\n",
       "      <td>0.004458</td>\n",
       "      <td>0.111077</td>\n",
       "      <td>-0.018776</td>\n",
       "      <td>-0.039812</td>\n",
       "      <td>-0.030214</td>\n",
       "      <td>1.000000</td>\n",
       "      <td>0.065367</td>\n",
       "      <td>0.028622</td>\n",
       "    </tr>\n",
       "    <tr>\n",
       "      <th>valence</th>\n",
       "      <td>-0.040645</td>\n",
       "      <td>0.369787</td>\n",
       "      <td>0.336553</td>\n",
       "      <td>0.075491</td>\n",
       "      <td>0.252590</td>\n",
       "      <td>0.058101</td>\n",
       "      <td>-0.142881</td>\n",
       "      <td>-0.083187</td>\n",
       "      <td>0.065367</td>\n",
       "      <td>1.000000</td>\n",
       "      <td>0.048473</td>\n",
       "    </tr>\n",
       "    <tr>\n",
       "      <th>tempo</th>\n",
       "      <td>0.033167</td>\n",
       "      <td>-0.146266</td>\n",
       "      <td>0.081133</td>\n",
       "      <td>0.020454</td>\n",
       "      <td>0.052744</td>\n",
       "      <td>0.054575</td>\n",
       "      <td>-0.045792</td>\n",
       "      <td>0.014306</td>\n",
       "      <td>0.028622</td>\n",
       "      <td>0.048473</td>\n",
       "      <td>1.000000</td>\n",
       "    </tr>\n",
       "  </tbody>\n",
       "</table>\n",
       "</div>"
      ],
      "text/plain": [
       "                  popularity  danceability    energy       key  loudness  \\\n",
       "popularity          1.000000     -0.054423  0.016424 -0.007676  0.159569   \n",
       "danceability       -0.054423      1.000000  0.125778  0.043556  0.070837   \n",
       "energy              0.016424      0.125778  1.000000  0.034755  0.700485   \n",
       "key                -0.007676      0.043556  0.034755  1.000000  0.030573   \n",
       "loudness            0.159569      0.070837  0.700485  0.030573  1.000000   \n",
       "speechiness        -0.158958      0.169038  0.008383  0.029615 -0.067835   \n",
       "acousticness       -0.010214     -0.187504 -0.533418 -0.033034 -0.363211   \n",
       "instrumentalness   -0.027113     -0.017882 -0.060217 -0.001755 -0.220618   \n",
       "liveness            0.023117     -0.119558  0.167635  0.004458  0.111077   \n",
       "valence            -0.040645      0.369787  0.336553  0.075491  0.252590   \n",
       "tempo               0.033167     -0.146266  0.081133  0.020454  0.052744   \n",
       "\n",
       "                  speechiness  acousticness  instrumentalness  liveness  \\\n",
       "popularity          -0.158958     -0.010214         -0.027113  0.023117   \n",
       "danceability         0.169038     -0.187504         -0.017882 -0.119558   \n",
       "energy               0.008383     -0.533418         -0.060217  0.167635   \n",
       "key                  0.029615     -0.033034         -0.001755  0.004458   \n",
       "loudness            -0.067835     -0.363211         -0.220618  0.111077   \n",
       "speechiness          1.000000     -0.005330         -0.045710 -0.018776   \n",
       "acousticness        -0.005330      1.000000         -0.010252 -0.039812   \n",
       "instrumentalness    -0.045710     -0.010252          1.000000 -0.030214   \n",
       "liveness            -0.018776     -0.039812         -0.030214  1.000000   \n",
       "valence              0.058101     -0.142881         -0.083187  0.065367   \n",
       "tempo                0.054575     -0.045792          0.014306  0.028622   \n",
       "\n",
       "                   valence     tempo  \n",
       "popularity       -0.040645  0.033167  \n",
       "danceability      0.369787 -0.146266  \n",
       "energy            0.336553  0.081133  \n",
       "key               0.075491  0.020454  \n",
       "loudness          0.252590  0.052744  \n",
       "speechiness       0.058101  0.054575  \n",
       "acousticness     -0.142881 -0.045792  \n",
       "instrumentalness -0.083187  0.014306  \n",
       "liveness          0.065367  0.028622  \n",
       "valence           1.000000  0.048473  \n",
       "tempo             0.048473  1.000000  "
      ]
     },
     "execution_count": 14,
     "metadata": {},
     "output_type": "execute_result"
    }
   ],
   "source": [
    "track_df.corr()"
   ]
  },
  {
   "cell_type": "code",
   "execution_count": 15,
   "id": "0c5bb932",
   "metadata": {},
   "outputs": [
    {
     "data": {
      "image/png": "[encoded data removed]",
      "text/plain": [
       "<Figure size 640x480 with 2 Axes>"
      ]
     },
     "metadata": {},
     "output_type": "display_data"
    }
   ],
   "source": [
    "# Creating a heatmap to visualize correlations \n",
    "ax = sns.heatmap(track_df.corr(), annot=False)"
   ]
  },
  {
   "cell_type": "code",
   "execution_count": 16,
   "id": "2368e72a",
   "metadata": {},
   "outputs": [
    {
     "data": {
      "image/png": "[encoded data removed]",
      "text/plain": [
       "<Figure size 640x480 with 1 Axes>"
      ]
     },
     "metadata": {},
     "output_type": "display_data"
    },
    {
     "name": "stdout",
     "output_type": "stream",
     "text": [
      "Mean Popularity: 63.281999324552515\n",
      "Median Popularity: 65.0\n",
      "75th Percentile Popularity: 77.0\n"
     ]
    }
   ],
   "source": [
    "# Distribution of popularity\n",
    "\n",
    "import matplotlib.pyplot as plt\n",
    "\n",
    "# Plot a histogram of the 'popularity' feature\n",
    "plt.hist(track_df['popularity'], bins=20)\n",
    "plt.xlabel('Popularity')\n",
    "plt.ylabel('Frequency')\n",
    "plt.title('Distribution of Popularity')\n",
    "plt.show()\n",
    "\n",
    "# Calculate summary statistics\n",
    "popularity_mean = track_df['popularity'].mean()\n",
    "popularity_median = track_df['popularity'].median()\n",
    "popularity_percentile = track_df['popularity'].quantile(0.75)\n",
    "\n",
    "print(\"Mean Popularity:\", popularity_mean)\n",
    "print(\"Median Popularity:\", popularity_median)\n",
    "print(\"75th Percentile Popularity:\", popularity_percentile)"
   ]
  },
  {
   "cell_type": "code",
   "execution_count": 17,
   "id": "54c5d335",
   "metadata": {},
   "outputs": [
    {
     "data": {
      "text/html": [
       "<div>\n",
       "<style scoped>\n",
       "    .dataframe tbody tr th:only-of-type {\n",
       "        vertical-align: middle;\n",
       "    }\n",
       "\n",
       "    .dataframe tbody tr th {\n",
       "        vertical-align: top;\n",
       "    }\n",
       "\n",
       "    .dataframe thead th {\n",
       "        text-align: right;\n",
       "    }\n",
       "</style>\n",
       "<table border=\"1\" class=\"dataframe\">\n",
       "  <thead>\n",
       "    <tr style=\"text-align: right;\">\n",
       "      <th></th>\n",
       "      <th>track.name</th>\n",
       "      <th>album_name</th>\n",
       "      <th>album_type</th>\n",
       "      <th>popularity</th>\n",
       "      <th>danceability</th>\n",
       "      <th>energy</th>\n",
       "      <th>key</th>\n",
       "      <th>loudness</th>\n",
       "      <th>speechiness</th>\n",
       "      <th>acousticness</th>\n",
       "      <th>instrumentalness</th>\n",
       "      <th>liveness</th>\n",
       "      <th>valence</th>\n",
       "      <th>tempo</th>\n",
       "      <th>artist</th>\n",
       "      <th>is_popular</th>\n",
       "    </tr>\n",
       "  </thead>\n",
       "  <tbody>\n",
       "    <tr>\n",
       "      <th>0</th>\n",
       "      <td>#Sarkanbaltsarkanais</td>\n",
       "      <td>#Sarkanbaltsarkanais</td>\n",
       "      <td>single</td>\n",
       "      <td>38.0</td>\n",
       "      <td>0.738</td>\n",
       "      <td>0.785</td>\n",
       "      <td>11.0</td>\n",
       "      <td>-5.003</td>\n",
       "      <td>0.1040</td>\n",
       "      <td>0.0608</td>\n",
       "      <td>0.00000</td>\n",
       "      <td>0.403</td>\n",
       "      <td>0.6260</td>\n",
       "      <td>110.118</td>\n",
       "      <td>Bermudu Divstūris</td>\n",
       "      <td>0</td>\n",
       "    </tr>\n",
       "    <tr>\n",
       "      <th>1</th>\n",
       "      <td>'Til We Meet Again</td>\n",
       "      <td>MY WORLD - The 3rd Mini Album</td>\n",
       "      <td>single</td>\n",
       "      <td>63.0</td>\n",
       "      <td>0.474</td>\n",
       "      <td>0.857</td>\n",
       "      <td>5.0</td>\n",
       "      <td>-2.577</td>\n",
       "      <td>0.0571</td>\n",
       "      <td>0.1340</td>\n",
       "      <td>0.00000</td>\n",
       "      <td>0.113</td>\n",
       "      <td>0.5520</td>\n",
       "      <td>155.710</td>\n",
       "      <td>aespa</td>\n",
       "      <td>0</td>\n",
       "    </tr>\n",
       "    <tr>\n",
       "      <th>2</th>\n",
       "      <td>00:00</td>\n",
       "      <td>00:00</td>\n",
       "      <td>single</td>\n",
       "      <td>60.0</td>\n",
       "      <td>0.563</td>\n",
       "      <td>0.572</td>\n",
       "      <td>4.0</td>\n",
       "      <td>-8.769</td>\n",
       "      <td>0.1250</td>\n",
       "      <td>0.6400</td>\n",
       "      <td>0.00227</td>\n",
       "      <td>0.100</td>\n",
       "      <td>0.3920</td>\n",
       "      <td>95.013</td>\n",
       "      <td>Lartiste</td>\n",
       "      <td>0</td>\n",
       "    </tr>\n",
       "    <tr>\n",
       "      <th>3</th>\n",
       "      <td>0321</td>\n",
       "      <td>0321</td>\n",
       "      <td>single</td>\n",
       "      <td>67.0</td>\n",
       "      <td>0.658</td>\n",
       "      <td>0.417</td>\n",
       "      <td>2.0</td>\n",
       "      <td>-6.485</td>\n",
       "      <td>0.0366</td>\n",
       "      <td>0.6250</td>\n",
       "      <td>0.00000</td>\n",
       "      <td>0.132</td>\n",
       "      <td>0.0748</td>\n",
       "      <td>171.974</td>\n",
       "      <td>space x</td>\n",
       "      <td>1</td>\n",
       "    </tr>\n",
       "    <tr>\n",
       "      <th>4</th>\n",
       "      <td>085 - Ao Vivo</td>\n",
       "      <td>Pode Crê (Ao Vivo)</td>\n",
       "      <td>album</td>\n",
       "      <td>83.0</td>\n",
       "      <td>0.850</td>\n",
       "      <td>0.655</td>\n",
       "      <td>2.0</td>\n",
       "      <td>-2.891</td>\n",
       "      <td>0.0298</td>\n",
       "      <td>0.2110</td>\n",
       "      <td>0.00000</td>\n",
       "      <td>0.952</td>\n",
       "      <td>0.7970</td>\n",
       "      <td>106.031</td>\n",
       "      <td>MC Rogerinho</td>\n",
       "      <td>1</td>\n",
       "    </tr>\n",
       "  </tbody>\n",
       "</table>\n",
       "</div>"
      ],
      "text/plain": [
       "             track.name                     album_name album_type  popularity  \\\n",
       "0  #Sarkanbaltsarkanais           #Sarkanbaltsarkanais     single        38.0   \n",
       "1    'Til We Meet Again  MY WORLD - The 3rd Mini Album     single        63.0   \n",
       "2                 00:00                          00:00     single        60.0   \n",
       "3                  0321                           0321     single        67.0   \n",
       "4         085 - Ao Vivo             Pode Crê (Ao Vivo)      album        83.0   \n",
       "\n",
       "   danceability  energy   key  loudness  speechiness  acousticness  \\\n",
       "0         0.738   0.785  11.0    -5.003       0.1040        0.0608   \n",
       "1         0.474   0.857   5.0    -2.577       0.0571        0.1340   \n",
       "2         0.563   0.572   4.0    -8.769       0.1250        0.6400   \n",
       "3         0.658   0.417   2.0    -6.485       0.0366        0.6250   \n",
       "4         0.850   0.655   2.0    -2.891       0.0298        0.2110   \n",
       "\n",
       "   instrumentalness  liveness  valence    tempo             artist  is_popular  \n",
       "0           0.00000     0.403   0.6260  110.118  Bermudu Divstūris           0  \n",
       "1           0.00000     0.113   0.5520  155.710              aespa           0  \n",
       "2           0.00227     0.100   0.3920   95.013           Lartiste           0  \n",
       "3           0.00000     0.132   0.0748  171.974            space x           1  \n",
       "4           0.00000     0.952   0.7970  106.031       MC Rogerinho           1  "
      ]
     },
     "execution_count": 17,
     "metadata": {},
     "output_type": "execute_result"
    }
   ],
   "source": [
    "#creating is_popular column with our cutoff point\n",
    "track_df['is_popular']=(track_df['popularity']>=65).astype('int')\n",
    "track_df.head()"
   ]
  },
  {
   "cell_type": "code",
   "execution_count": 18,
   "id": "d4dcd07a",
   "metadata": {},
   "outputs": [
    {
     "data": {
      "text/html": [
       "<div>\n",
       "<style scoped>\n",
       "    .dataframe tbody tr th:only-of-type {\n",
       "        vertical-align: middle;\n",
       "    }\n",
       "\n",
       "    .dataframe tbody tr th {\n",
       "        vertical-align: top;\n",
       "    }\n",
       "\n",
       "    .dataframe thead th {\n",
       "        text-align: right;\n",
       "    }\n",
       "</style>\n",
       "<table border=\"1\" class=\"dataframe\">\n",
       "  <thead>\n",
       "    <tr style=\"text-align: right;\">\n",
       "      <th></th>\n",
       "      <th>track.name</th>\n",
       "      <th>album_name</th>\n",
       "      <th>album_type</th>\n",
       "      <th>danceability</th>\n",
       "      <th>energy</th>\n",
       "      <th>key</th>\n",
       "      <th>loudness</th>\n",
       "      <th>speechiness</th>\n",
       "      <th>acousticness</th>\n",
       "      <th>instrumentalness</th>\n",
       "      <th>liveness</th>\n",
       "      <th>valence</th>\n",
       "      <th>tempo</th>\n",
       "      <th>artist</th>\n",
       "      <th>is_popular</th>\n",
       "    </tr>\n",
       "  </thead>\n",
       "  <tbody>\n",
       "    <tr>\n",
       "      <th>0</th>\n",
       "      <td>#Sarkanbaltsarkanais</td>\n",
       "      <td>#Sarkanbaltsarkanais</td>\n",
       "      <td>single</td>\n",
       "      <td>0.738</td>\n",
       "      <td>0.785</td>\n",
       "      <td>11.0</td>\n",
       "      <td>-5.003</td>\n",
       "      <td>0.1040</td>\n",
       "      <td>0.0608</td>\n",
       "      <td>0.00000</td>\n",
       "      <td>0.403</td>\n",
       "      <td>0.6260</td>\n",
       "      <td>110.118</td>\n",
       "      <td>Bermudu Divstūris</td>\n",
       "      <td>0</td>\n",
       "    </tr>\n",
       "    <tr>\n",
       "      <th>1</th>\n",
       "      <td>'Til We Meet Again</td>\n",
       "      <td>MY WORLD - The 3rd Mini Album</td>\n",
       "      <td>single</td>\n",
       "      <td>0.474</td>\n",
       "      <td>0.857</td>\n",
       "      <td>5.0</td>\n",
       "      <td>-2.577</td>\n",
       "      <td>0.0571</td>\n",
       "      <td>0.1340</td>\n",
       "      <td>0.00000</td>\n",
       "      <td>0.113</td>\n",
       "      <td>0.5520</td>\n",
       "      <td>155.710</td>\n",
       "      <td>aespa</td>\n",
       "      <td>0</td>\n",
       "    </tr>\n",
       "    <tr>\n",
       "      <th>2</th>\n",
       "      <td>00:00</td>\n",
       "      <td>00:00</td>\n",
       "      <td>single</td>\n",
       "      <td>0.563</td>\n",
       "      <td>0.572</td>\n",
       "      <td>4.0</td>\n",
       "      <td>-8.769</td>\n",
       "      <td>0.1250</td>\n",
       "      <td>0.6400</td>\n",
       "      <td>0.00227</td>\n",
       "      <td>0.100</td>\n",
       "      <td>0.3920</td>\n",
       "      <td>95.013</td>\n",
       "      <td>Lartiste</td>\n",
       "      <td>0</td>\n",
       "    </tr>\n",
       "    <tr>\n",
       "      <th>3</th>\n",
       "      <td>0321</td>\n",
       "      <td>0321</td>\n",
       "      <td>single</td>\n",
       "      <td>0.658</td>\n",
       "      <td>0.417</td>\n",
       "      <td>2.0</td>\n",
       "      <td>-6.485</td>\n",
       "      <td>0.0366</td>\n",
       "      <td>0.6250</td>\n",
       "      <td>0.00000</td>\n",
       "      <td>0.132</td>\n",
       "      <td>0.0748</td>\n",
       "      <td>171.974</td>\n",
       "      <td>space x</td>\n",
       "      <td>1</td>\n",
       "    </tr>\n",
       "    <tr>\n",
       "      <th>4</th>\n",
       "      <td>085 - Ao Vivo</td>\n",
       "      <td>Pode Crê (Ao Vivo)</td>\n",
       "      <td>album</td>\n",
       "      <td>0.850</td>\n",
       "      <td>0.655</td>\n",
       "      <td>2.0</td>\n",
       "      <td>-2.891</td>\n",
       "      <td>0.0298</td>\n",
       "      <td>0.2110</td>\n",
       "      <td>0.00000</td>\n",
       "      <td>0.952</td>\n",
       "      <td>0.7970</td>\n",
       "      <td>106.031</td>\n",
       "      <td>MC Rogerinho</td>\n",
       "      <td>1</td>\n",
       "    </tr>\n",
       "  </tbody>\n",
       "</table>\n",
       "</div>"
      ],
      "text/plain": [
       "             track.name                     album_name album_type  \\\n",
       "0  #Sarkanbaltsarkanais           #Sarkanbaltsarkanais     single   \n",
       "1    'Til We Meet Again  MY WORLD - The 3rd Mini Album     single   \n",
       "2                 00:00                          00:00     single   \n",
       "3                  0321                           0321     single   \n",
       "4         085 - Ao Vivo             Pode Crê (Ao Vivo)      album   \n",
       "\n",
       "   danceability  energy   key  loudness  speechiness  acousticness  \\\n",
       "0         0.738   0.785  11.0    -5.003       0.1040        0.0608   \n",
       "1         0.474   0.857   5.0    -2.577       0.0571        0.1340   \n",
       "2         0.563   0.572   4.0    -8.769       0.1250        0.6400   \n",
       "3         0.658   0.417   2.0    -6.485       0.0366        0.6250   \n",
       "4         0.850   0.655   2.0    -2.891       0.0298        0.2110   \n",
       "\n",
       "   instrumentalness  liveness  valence    tempo             artist  is_popular  \n",
       "0           0.00000     0.403   0.6260  110.118  Bermudu Divstūris           0  \n",
       "1           0.00000     0.113   0.5520  155.710              aespa           0  \n",
       "2           0.00227     0.100   0.3920   95.013           Lartiste           0  \n",
       "3           0.00000     0.132   0.0748  171.974            space x           1  \n",
       "4           0.00000     0.952   0.7970  106.031       MC Rogerinho           1  "
      ]
     },
     "execution_count": 18,
     "metadata": {},
     "output_type": "execute_result"
    }
   ],
   "source": [
    "#dropping popularity score column since we will not be using it\n",
    "track_df.drop(['popularity'], axis=1, inplace=True)\n",
    "track_df.head()"
   ]
  },
  {
   "cell_type": "code",
   "execution_count": 19,
   "id": "44ef0bdf",
   "metadata": {},
   "outputs": [
    {
     "data": {
      "text/plain": [
       "1    1525\n",
       "0    1436\n",
       "Name: is_popular, dtype: int64"
      ]
     },
     "execution_count": 19,
     "metadata": {},
     "output_type": "execute_result"
    }
   ],
   "source": [
    "track_df[\"is_popular\"].value_counts()"
   ]
  },
  {
   "attachments": {},
   "cell_type": "markdown",
   "id": "c24f8b12",
   "metadata": {},
   "source": [
    "# Logistic Regression Model with the Original Data"
   ]
  },
  {
   "cell_type": "code",
   "execution_count": 62,
   "id": "acc47420",
   "metadata": {},
   "outputs": [],
   "source": [
    "import numpy as np\n",
    "from sklearn.model_selection import train_test_split\n",
    "from sklearn.preprocessing import StandardScaler\n",
    "from sklearn.linear_model import LogisticRegression\n",
    "from sklearn.metrics import balanced_accuracy_score, confusion_matrix, classification_report\n",
    "#import tensorflow as tf"
   ]
  },
  {
   "cell_type": "code",
   "execution_count": 63,
   "id": "5804f9a6",
   "metadata": {},
   "outputs": [],
   "source": [
    "#Split the data into features (X) and target (y)\n",
    "y = track_df[['is_popular']]\n",
    "X = track_df[['speechiness','acousticness','liveness','valence','energy','loudness']]"
   ]
  },
  {
   "cell_type": "code",
   "execution_count": 64,
   "id": "422c9487",
   "metadata": {},
   "outputs": [],
   "source": [
    "# Import the train_test_learn module\n",
    "from sklearn.model_selection import train_test_split\n",
    "\n",
    "# Split the data using train_test_split\n",
    "# Assign a random_state of 1 to the function\n",
    "x_train,x_test,y_train,y_test= train_test_split(X,y)"
   ]
  },
  {
   "cell_type": "code",
   "execution_count": 65,
   "id": "63eb8808",
   "metadata": {},
   "outputs": [
    {
     "name": "stderr",
     "output_type": "stream",
     "text": [
      "/Users/sumaiyanathani/opt/anaconda3/lib/python3.9/site-packages/sklearn/utils/validation.py:1143: DataConversionWarning: A column-vector y was passed when a 1d array was expected. Please change the shape of y to (n_samples, ), for example using ravel().\n",
      "  y = column_or_1d(y, warn=True)\n"
     ]
    }
   ],
   "source": [
    "# Import the LogisticRegression module from SKLearn\n",
    "from sklearn.linear_model import LogisticRegression\n",
    "\n",
    "# Instantiate the Logistic Regression model\n",
    "# Assign a random_state parameter of 1 to the model\n",
    "logistic_regression_model = LogisticRegression(random_state=1)\n",
    "\n",
    "# Fit the model using training data\n",
    "lr_model = logistic_regression_model.fit(x_train, y_train)"
   ]
  },
  {
   "cell_type": "code",
   "execution_count": 66,
   "id": "a48aed88",
   "metadata": {},
   "outputs": [],
   "source": [
    "# Make a prediction using the testing data\n",
    "testing_predictions = lr_model.predict(x_test)"
   ]
  },
  {
   "cell_type": "code",
   "execution_count": 67,
   "id": "66e3a179",
   "metadata": {},
   "outputs": [
    {
     "name": "stdout",
     "output_type": "stream",
     "text": [
      "Training Data Score: 0.6135135135135135\n",
      "Testing Data Score: 0.6153846153846154\n",
      "Balanced Accuracy Score: 0.6118011289875578\n"
     ]
    }
   ],
   "source": [
    "# Print the balanced_accuracy score of the model\n",
    "print(f\"Training Data Score: {lr_model.score(x_train, y_train)}\")\n",
    "print(f\"Testing Data Score: {lr_model.score(x_test, y_test)}\")\n",
    "\n",
    "from sklearn.metrics import accuracy_score\n",
    "print(f\"Balanced Accuracy Score: {balanced_accuracy_score(y_test, testing_predictions)}\")"
   ]
  },
  {
   "cell_type": "code",
   "execution_count": 68,
   "id": "3fc2319e",
   "metadata": {},
   "outputs": [
    {
     "name": "stdout",
     "output_type": "stream",
     "text": [
      "[[181 177]\n",
      " [108 275]]\n"
     ]
    }
   ],
   "source": [
    "# Generate a confusion matrix for the model\n",
    "from sklearn.metrics import confusion_matrix\n",
    "\n",
    "testing_matrix = confusion_matrix(y_test, testing_predictions)\n",
    "print(testing_matrix)"
   ]
  },
  {
   "cell_type": "code",
   "execution_count": 69,
   "id": "ae768563",
   "metadata": {},
   "outputs": [
    {
     "name": "stdout",
     "output_type": "stream",
     "text": [
      "              precision    recall  f1-score   support\n",
      "\n",
      "           0       0.63      0.51      0.56       358\n",
      "           1       0.61      0.72      0.66       383\n",
      "\n",
      "    accuracy                           0.62       741\n",
      "   macro avg       0.62      0.61      0.61       741\n",
      "weighted avg       0.62      0.62      0.61       741\n",
      "\n"
     ]
    }
   ],
   "source": [
    "# Print the classification report for the model\n",
    "testing_report = classification_report(y_test, testing_predictions)\n",
    "\n",
    "print(testing_report)"
   ]
  },
  {
   "attachments": {},
   "cell_type": "markdown",
   "id": "75d8b066",
   "metadata": {},
   "source": [
    "For the \"0\" label (NOT POPULAR), the precision is 0.63, indicating that the model  predicts not popular track with a precision of 63%. For the \"1\" label (popular), the precision is 0.61, meaning that when the model predicts popular track, it is correct around 61% of the time.\n",
    "\n",
    "For the \"0\" label (Not popular), the recall is 0.51, . For the \"1\" label (POPULAR), the recall is 0.72, meaning that the model captures approximately 72% of the actual popular track.\n",
    "\n",
    "Overall, the logistic regression model demonstrates  predictive performance for both the \"0\" and \"1\" labels."
   ]
  },
  {
   "attachments": {},
   "cell_type": "markdown",
   "id": "da251157",
   "metadata": {},
   "source": [
    "# Predict a Logistic Regression Model with Resampled Training Data"
   ]
  },
  {
   "cell_type": "code",
   "execution_count": 70,
   "id": "1357b9ff",
   "metadata": {},
   "outputs": [],
   "source": [
    "# Import the RandomOverSampler module form imbalanced-learn\n",
    "from imblearn.over_sampling import RandomOverSampler\n",
    "\n",
    "# Instantiate the random oversampler model\n",
    "# # Assign a random_state parameter of 1 to the model\n",
    "ROS = RandomOverSampler(random_state=1)\n",
    "\n",
    "# Fit the original training data to the random_oversampler model\n",
    "x_resampled, y_resampled= ROS.fit_resample(x_train, y_train)"
   ]
  },
  {
   "cell_type": "code",
   "execution_count": 71,
   "id": "becff54f",
   "metadata": {},
   "outputs": [
    {
     "data": {
      "text/plain": [
       "is_popular\n",
       "0             1142\n",
       "1             1142\n",
       "dtype: int64"
      ]
     },
     "execution_count": 71,
     "metadata": {},
     "output_type": "execute_result"
    }
   ],
   "source": [
    "# Count the distinct values of the resampled labels data\n",
    "y_resampled.value_counts()"
   ]
  },
  {
   "cell_type": "code",
   "execution_count": 72,
   "id": "64db3b94",
   "metadata": {},
   "outputs": [
    {
     "name": "stderr",
     "output_type": "stream",
     "text": [
      "/Users/sumaiyanathani/opt/anaconda3/lib/python3.9/site-packages/sklearn/utils/validation.py:1143: DataConversionWarning: A column-vector y was passed when a 1d array was expected. Please change the shape of y to (n_samples, ), for example using ravel().\n",
      "  y = column_or_1d(y, warn=True)\n"
     ]
    }
   ],
   "source": [
    "# Instantiate the Logistic Regression model\n",
    "# Assign a random_state parameter of 1 to the model\n",
    "from sklearn.linear_model import LogisticRegression\n",
    "ros_model = LogisticRegression(solver='lbfgs', random_state=1)\n",
    "\n",
    "\n",
    "# Fit the model using the resampled training data\n",
    "ros_model.fit(x_resampled, y_resampled)\n",
    "\n",
    "\n",
    "# Make a prediction using the testing data\n",
    "y_prediction = ros_model.predict(x_test)"
   ]
  },
  {
   "cell_type": "code",
   "execution_count": 73,
   "id": "3bfa8128",
   "metadata": {},
   "outputs": [
    {
     "name": "stdout",
     "output_type": "stream",
     "text": [
      "Training Data Score: 0.6099099099099099\n",
      "Testing Data Score: 0.6126855600539811\n",
      "Balanced Accuracy Score: 0.6104664731537262\n"
     ]
    }
   ],
   "source": [
    "# Print the balanced_accuracy score of the model \n",
    "print(f\"Training Data Score: {ros_model.score(x_train, y_train)}\")\n",
    "print(f\"Testing Data Score: {ros_model.score(x_test, y_test)}\")\n",
    "\n",
    "from sklearn.metrics import accuracy_score\n",
    "# Display the accuracy score for the test dataset.\n",
    "print(f\"Balanced Accuracy Score: {balanced_accuracy_score(y_test, y_prediction)}\")"
   ]
  },
  {
   "cell_type": "code",
   "execution_count": 74,
   "id": "a8c0032e",
   "metadata": {},
   "outputs": [
    {
     "name": "stdout",
     "output_type": "stream",
     "text": [
      "[[195 163]\n",
      " [124 259]]\n"
     ]
    }
   ],
   "source": [
    "# Generate a confusion matrix for the model\n",
    "from sklearn.metrics import confusion_matrix\n",
    "ros_testing_matrix = confusion_matrix(y_test, y_prediction)\n",
    "print(ros_testing_matrix)"
   ]
  },
  {
   "cell_type": "code",
   "execution_count": 75,
   "id": "cb07b8f7",
   "metadata": {},
   "outputs": [
    {
     "name": "stdout",
     "output_type": "stream",
     "text": [
      "              precision    recall  f1-score   support\n",
      "\n",
      "           0       0.61      0.54      0.58       358\n",
      "           1       0.61      0.68      0.64       383\n",
      "\n",
      "    accuracy                           0.61       741\n",
      "   macro avg       0.61      0.61      0.61       741\n",
      "weighted avg       0.61      0.61      0.61       741\n",
      "\n"
     ]
    }
   ],
   "source": [
    "# Print the classification report for the model\n",
    "ros_testing_report = classification_report(y_test, y_prediction)\n",
    "\n",
    "print(ros_testing_report)"
   ]
  },
  {
   "attachments": {},
   "cell_type": "markdown",
   "id": "0ef1cfa2",
   "metadata": {},
   "source": [
    "# NeuralNetwork"
   ]
  },
  {
   "cell_type": "code",
   "execution_count": 23,
   "id": "59b6dbf6",
   "metadata": {},
   "outputs": [],
   "source": [
    "#Split the data into features (X) and target (y)\n",
    "y = track_df[['is_popular']]\n",
    "X = track_df[['speechiness','acousticness','liveness','valence','energy','loudness']]"
   ]
  },
  {
   "cell_type": "code",
   "execution_count": 24,
   "id": "88eb3b2f",
   "metadata": {},
   "outputs": [],
   "source": [
    "# Split the preprocessed data into a training and testing dataset\n",
    "X_train, X_test, y_train, y_test = train_test_split(X, y, random_state=78)"
   ]
  },
  {
   "cell_type": "code",
   "execution_count": 25,
   "id": "162b9342",
   "metadata": {},
   "outputs": [],
   "source": [
    "# Create a StandardScaler instances\n",
    "scaler = StandardScaler()\n",
    "\n",
    "# Fit the StandardScaler\n",
    "X_scaler = scaler.fit(X_train)\n",
    "\n",
    "# Scale the data\n",
    "X_train_scaled = X_scaler.transform(X_train)\n",
    "X_test_scaled = X_scaler.transform(X_test)"
   ]
  },
  {
   "cell_type": "code",
   "execution_count": 26,
   "id": "4973c3ab",
   "metadata": {
    "scrolled": true
   },
   "outputs": [
    {
     "name": "stdout",
     "output_type": "stream",
     "text": [
      "Model: \"sequential\"\n",
      "_________________________________________________________________\n",
      " Layer (type)                Output Shape              Param #   \n",
      "=================================================================\n",
      " dense (Dense)               (None, 9)                 63        \n",
      "                                                                 \n",
      " dense_1 (Dense)             (None, 18)                180       \n",
      "                                                                 \n",
      " dense_2 (Dense)             (None, 1)                 19        \n",
      "                                                                 \n",
      "=================================================================\n",
      "Total params: 262\n",
      "Trainable params: 262\n",
      "Non-trainable params: 0\n",
      "_________________________________________________________________\n"
     ]
    }
   ],
   "source": [
    "# Define the model - deep neural net, i.e., the number of input features and hidden nodes for each layer.\n",
    "number_input_features = len(X_train_scaled[0])\n",
    "hidden_nodes_layer1 = 9\n",
    "hidden_nodes_layer2 = 18\n",
    "\n",
    "nn = tf.keras.models.Sequential()\n",
    "\n",
    "# First hidden layer\n",
    "nn.add(tf.keras.layers.Dense(units=hidden_nodes_layer1, input_dim=number_input_features, activation=\"relu\"))\n",
    "\n",
    "# Second hidden layer\n",
    "nn.add(tf.keras.layers.Dense(units=hidden_nodes_layer2, activation=\"relu\"))\n",
    "\n",
    "# Output layer\n",
    "nn.add(tf.keras.layers.Dense(units=1, activation=\"sigmoid\"))\n",
    "\n",
    "# Check the structure of the model\n",
    "nn.summary()"
   ]
  },
  {
   "cell_type": "code",
   "execution_count": 27,
   "id": "c8baa8ed",
   "metadata": {},
   "outputs": [],
   "source": [
    "# Compile the model\n",
    "nn.compile(loss=\"binary_crossentropy\", optimizer=\"adam\", metrics=[\"accuracy\"])"
   ]
  },
  {
   "cell_type": "code",
   "execution_count": 28,
   "id": "00718d0d",
   "metadata": {},
   "outputs": [
    {
     "name": "stdout",
     "output_type": "stream",
     "text": [
      "Epoch 1/100\n",
      "70/70 [==============================] - 1s 1ms/step - loss: 0.7161 - accuracy: 0.5079\n",
      "Epoch 2/100\n",
      "70/70 [==============================] - 0s 2ms/step - loss: 0.6863 - accuracy: 0.5398\n",
      "Epoch 3/100\n",
      "70/70 [==============================] - 0s 2ms/step - loss: 0.6807 - accuracy: 0.5552\n",
      "Epoch 4/100\n",
      "70/70 [==============================] - 0s 2ms/step - loss: 0.6767 - accuracy: 0.5718\n",
      "Epoch 5/100\n",
      "70/70 [==============================] - 0s 2ms/step - loss: 0.6734 - accuracy: 0.5795\n",
      "Epoch 6/100\n",
      "70/70 [==============================] - 0s 1ms/step - loss: 0.6709 - accuracy: 0.6015\n",
      "Epoch 7/100\n",
      "70/70 [==============================] - 0s 2ms/step - loss: 0.6692 - accuracy: 0.5970\n",
      "Epoch 8/100\n",
      "70/70 [==============================] - 0s 2ms/step - loss: 0.6673 - accuracy: 0.6051\n",
      "Epoch 9/100\n",
      "70/70 [==============================] - 0s 1ms/step - loss: 0.6657 - accuracy: 0.6011\n",
      "Epoch 10/100\n",
      "70/70 [==============================] - 0s 1ms/step - loss: 0.6644 - accuracy: 0.6024\n",
      "Epoch 11/100\n",
      "70/70 [==============================] - 0s 2ms/step - loss: 0.6632 - accuracy: 0.6105\n",
      "Epoch 12/100\n",
      "70/70 [==============================] - 0s 2ms/step - loss: 0.6620 - accuracy: 0.6024\n",
      "Epoch 13/100\n",
      "70/70 [==============================] - 0s 1ms/step - loss: 0.6607 - accuracy: 0.6119\n",
      "Epoch 14/100\n",
      "70/70 [==============================] - 0s 1ms/step - loss: 0.6595 - accuracy: 0.6087\n",
      "Epoch 15/100\n",
      "70/70 [==============================] - 0s 2ms/step - loss: 0.6588 - accuracy: 0.6114\n",
      "Epoch 16/100\n",
      "70/70 [==============================] - 0s 2ms/step - loss: 0.6580 - accuracy: 0.6119\n",
      "Epoch 17/100\n",
      "70/70 [==============================] - 0s 1ms/step - loss: 0.6571 - accuracy: 0.6141\n",
      "Epoch 18/100\n",
      "70/70 [==============================] - 0s 1ms/step - loss: 0.6557 - accuracy: 0.6123\n",
      "Epoch 19/100\n",
      "70/70 [==============================] - 0s 1ms/step - loss: 0.6553 - accuracy: 0.6182\n",
      "Epoch 20/100\n",
      "70/70 [==============================] - 0s 2ms/step - loss: 0.6545 - accuracy: 0.6159\n",
      "Epoch 21/100\n",
      "70/70 [==============================] - 0s 1ms/step - loss: 0.6542 - accuracy: 0.6159\n",
      "Epoch 22/100\n",
      "70/70 [==============================] - 0s 1ms/step - loss: 0.6540 - accuracy: 0.6177\n",
      "Epoch 23/100\n",
      "70/70 [==============================] - 0s 1ms/step - loss: 0.6529 - accuracy: 0.6195\n",
      "Epoch 24/100\n",
      "70/70 [==============================] - 0s 2ms/step - loss: 0.6526 - accuracy: 0.6213\n",
      "Epoch 25/100\n",
      "70/70 [==============================] - 0s 1ms/step - loss: 0.6519 - accuracy: 0.6159\n",
      "Epoch 26/100\n",
      "70/70 [==============================] - 0s 1ms/step - loss: 0.6514 - accuracy: 0.6195\n",
      "Epoch 27/100\n",
      "70/70 [==============================] - 0s 2ms/step - loss: 0.6512 - accuracy: 0.6200\n",
      "Epoch 28/100\n",
      "70/70 [==============================] - 0s 1ms/step - loss: 0.6509 - accuracy: 0.6213\n",
      "Epoch 29/100\n",
      "70/70 [==============================] - 0s 1ms/step - loss: 0.6504 - accuracy: 0.6213\n",
      "Epoch 30/100\n",
      "70/70 [==============================] - 0s 2ms/step - loss: 0.6502 - accuracy: 0.6164\n",
      "Epoch 31/100\n",
      "70/70 [==============================] - 0s 2ms/step - loss: 0.6502 - accuracy: 0.6200\n",
      "Epoch 32/100\n",
      "70/70 [==============================] - 0s 2ms/step - loss: 0.6493 - accuracy: 0.6195\n",
      "Epoch 33/100\n",
      "70/70 [==============================] - 0s 1ms/step - loss: 0.6499 - accuracy: 0.6249\n",
      "Epoch 34/100\n",
      "70/70 [==============================] - 0s 1ms/step - loss: 0.6486 - accuracy: 0.6267\n",
      "Epoch 35/100\n",
      "70/70 [==============================] - 0s 1ms/step - loss: 0.6485 - accuracy: 0.6209\n",
      "Epoch 36/100\n",
      "70/70 [==============================] - 0s 1ms/step - loss: 0.6481 - accuracy: 0.6254\n",
      "Epoch 37/100\n",
      "70/70 [==============================] - 0s 1ms/step - loss: 0.6477 - accuracy: 0.6267\n",
      "Epoch 38/100\n",
      "70/70 [==============================] - 0s 1ms/step - loss: 0.6478 - accuracy: 0.6240\n",
      "Epoch 39/100\n",
      "70/70 [==============================] - 0s 1ms/step - loss: 0.6472 - accuracy: 0.6249\n",
      "Epoch 40/100\n",
      "70/70 [==============================] - 0s 2ms/step - loss: 0.6470 - accuracy: 0.6249\n",
      "Epoch 41/100\n",
      "70/70 [==============================] - 0s 2ms/step - loss: 0.6469 - accuracy: 0.6249\n",
      "Epoch 42/100\n",
      "70/70 [==============================] - 0s 1ms/step - loss: 0.6464 - accuracy: 0.6245\n",
      "Epoch 43/100\n",
      "70/70 [==============================] - 0s 1ms/step - loss: 0.6461 - accuracy: 0.6240\n",
      "Epoch 44/100\n",
      "70/70 [==============================] - 0s 2ms/step - loss: 0.6461 - accuracy: 0.6245\n",
      "Epoch 45/100\n",
      "70/70 [==============================] - 0s 2ms/step - loss: 0.6461 - accuracy: 0.6258\n",
      "Epoch 46/100\n",
      "70/70 [==============================] - 0s 1ms/step - loss: 0.6454 - accuracy: 0.6249\n",
      "Epoch 47/100\n",
      "70/70 [==============================] - 0s 1ms/step - loss: 0.6452 - accuracy: 0.6231\n",
      "Epoch 48/100\n",
      "70/70 [==============================] - 0s 1ms/step - loss: 0.6453 - accuracy: 0.6276\n",
      "Epoch 49/100\n",
      "70/70 [==============================] - 0s 1ms/step - loss: 0.6442 - accuracy: 0.6281\n",
      "Epoch 50/100\n",
      "70/70 [==============================] - 0s 2ms/step - loss: 0.6447 - accuracy: 0.6245\n",
      "Epoch 51/100\n",
      "70/70 [==============================] - 0s 2ms/step - loss: 0.6441 - accuracy: 0.6272\n",
      "Epoch 52/100\n",
      "70/70 [==============================] - 0s 1ms/step - loss: 0.6441 - accuracy: 0.6294\n",
      "Epoch 53/100\n",
      "70/70 [==============================] - 0s 2ms/step - loss: 0.6435 - accuracy: 0.6303\n",
      "Epoch 54/100\n",
      "70/70 [==============================] - 0s 1ms/step - loss: 0.6434 - accuracy: 0.6330\n",
      "Epoch 55/100\n",
      "70/70 [==============================] - 0s 1ms/step - loss: 0.6433 - accuracy: 0.6290\n",
      "Epoch 56/100\n",
      "70/70 [==============================] - 0s 1ms/step - loss: 0.6427 - accuracy: 0.6290\n",
      "Epoch 57/100\n",
      "70/70 [==============================] - 0s 1ms/step - loss: 0.6432 - accuracy: 0.6317\n",
      "Epoch 58/100\n",
      "70/70 [==============================] - 0s 2ms/step - loss: 0.6425 - accuracy: 0.6335\n",
      "Epoch 59/100\n",
      "70/70 [==============================] - 0s 1ms/step - loss: 0.6424 - accuracy: 0.6330\n",
      "Epoch 60/100\n",
      "70/70 [==============================] - 0s 1ms/step - loss: 0.6424 - accuracy: 0.6294\n",
      "Epoch 61/100\n",
      "70/70 [==============================] - 0s 1ms/step - loss: 0.6425 - accuracy: 0.6267\n",
      "Epoch 62/100\n",
      "70/70 [==============================] - 0s 1ms/step - loss: 0.6420 - accuracy: 0.6326\n",
      "Epoch 63/100\n",
      "70/70 [==============================] - 0s 1ms/step - loss: 0.6421 - accuracy: 0.6294\n",
      "Epoch 64/100\n",
      "70/70 [==============================] - 0s 1ms/step - loss: 0.6418 - accuracy: 0.6367\n",
      "Epoch 65/100\n",
      "70/70 [==============================] - 0s 1ms/step - loss: 0.6419 - accuracy: 0.6312\n",
      "Epoch 66/100\n",
      "70/70 [==============================] - 0s 1ms/step - loss: 0.6405 - accuracy: 0.6348\n",
      "Epoch 67/100\n",
      "70/70 [==============================] - 0s 1ms/step - loss: 0.6413 - accuracy: 0.6335\n",
      "Epoch 68/100\n",
      "70/70 [==============================] - 0s 1ms/step - loss: 0.6411 - accuracy: 0.6335\n",
      "Epoch 69/100\n",
      "70/70 [==============================] - 0s 1ms/step - loss: 0.6408 - accuracy: 0.6389\n",
      "Epoch 70/100\n",
      "70/70 [==============================] - 0s 1ms/step - loss: 0.6405 - accuracy: 0.6376\n",
      "Epoch 71/100\n",
      "70/70 [==============================] - 0s 1ms/step - loss: 0.6410 - accuracy: 0.6344\n",
      "Epoch 72/100\n",
      "70/70 [==============================] - 0s 1ms/step - loss: 0.6405 - accuracy: 0.6330\n",
      "Epoch 73/100\n",
      "70/70 [==============================] - 0s 1ms/step - loss: 0.6401 - accuracy: 0.6376\n",
      "Epoch 74/100\n",
      "70/70 [==============================] - 0s 1ms/step - loss: 0.6405 - accuracy: 0.6376\n",
      "Epoch 75/100\n",
      "70/70 [==============================] - 0s 1ms/step - loss: 0.6404 - accuracy: 0.6394\n",
      "Epoch 76/100\n",
      "70/70 [==============================] - 0s 1ms/step - loss: 0.6395 - accuracy: 0.6416\n",
      "Epoch 77/100\n",
      "70/70 [==============================] - 0s 1ms/step - loss: 0.6401 - accuracy: 0.6348\n",
      "Epoch 78/100\n",
      "70/70 [==============================] - 0s 2ms/step - loss: 0.6396 - accuracy: 0.6330\n",
      "Epoch 79/100\n",
      "70/70 [==============================] - 0s 1ms/step - loss: 0.6392 - accuracy: 0.6348\n",
      "Epoch 80/100\n",
      "70/70 [==============================] - 0s 1ms/step - loss: 0.6399 - accuracy: 0.6385\n",
      "Epoch 81/100\n",
      "70/70 [==============================] - 0s 1ms/step - loss: 0.6392 - accuracy: 0.6380\n",
      "Epoch 82/100\n",
      "70/70 [==============================] - 0s 1ms/step - loss: 0.6390 - accuracy: 0.6394\n",
      "Epoch 83/100\n",
      "70/70 [==============================] - 0s 1ms/step - loss: 0.6385 - accuracy: 0.6371\n",
      "Epoch 84/100\n",
      "70/70 [==============================] - 0s 1ms/step - loss: 0.6387 - accuracy: 0.6362\n",
      "Epoch 85/100\n",
      "70/70 [==============================] - 0s 1ms/step - loss: 0.6386 - accuracy: 0.6394\n",
      "Epoch 86/100\n",
      "70/70 [==============================] - 0s 1ms/step - loss: 0.6377 - accuracy: 0.6403\n",
      "Epoch 87/100\n",
      "70/70 [==============================] - 0s 1ms/step - loss: 0.6375 - accuracy: 0.6376\n",
      "Epoch 88/100\n",
      "70/70 [==============================] - 0s 1ms/step - loss: 0.6377 - accuracy: 0.6348\n",
      "Epoch 89/100\n",
      "70/70 [==============================] - 0s 2ms/step - loss: 0.6371 - accuracy: 0.6376\n",
      "Epoch 90/100\n",
      "70/70 [==============================] - 0s 1ms/step - loss: 0.6370 - accuracy: 0.6421\n",
      "Epoch 91/100\n",
      "70/70 [==============================] - 0s 1ms/step - loss: 0.6374 - accuracy: 0.6416\n",
      "Epoch 92/100\n",
      "70/70 [==============================] - 0s 1ms/step - loss: 0.6367 - accuracy: 0.6376\n",
      "Epoch 93/100\n",
      "70/70 [==============================] - 0s 1ms/step - loss: 0.6362 - accuracy: 0.6367\n",
      "Epoch 94/100\n",
      "70/70 [==============================] - 0s 1ms/step - loss: 0.6361 - accuracy: 0.6344\n",
      "Epoch 95/100\n",
      "70/70 [==============================] - 0s 1ms/step - loss: 0.6361 - accuracy: 0.6425\n",
      "Epoch 96/100\n",
      "70/70 [==============================] - 0s 1ms/step - loss: 0.6357 - accuracy: 0.6380\n",
      "Epoch 97/100\n",
      "70/70 [==============================] - 0s 1ms/step - loss: 0.6355 - accuracy: 0.6376\n",
      "Epoch 98/100\n",
      "70/70 [==============================] - 0s 1ms/step - loss: 0.6352 - accuracy: 0.6367\n",
      "Epoch 99/100\n",
      "70/70 [==============================] - 0s 1ms/step - loss: 0.6352 - accuracy: 0.6348\n",
      "Epoch 100/100\n",
      "70/70 [==============================] - 0s 1ms/step - loss: 0.6351 - accuracy: 0.6353\n"
     ]
    }
   ],
   "source": [
    "# Train the model\n",
    "fit_model = nn.fit(X_train_scaled,y_train,epochs=100)"
   ]
  },
  {
   "cell_type": "code",
   "execution_count": 29,
   "id": "bae9f54e",
   "metadata": {},
   "outputs": [
    {
     "name": "stdout",
     "output_type": "stream",
     "text": [
      "24/24 - 0s - loss: 0.6481 - accuracy: 0.6046 - 244ms/epoch - 10ms/step\n",
      "Loss: 0.6481249332427979, Accuracy: 0.6045883893966675\n"
     ]
    }
   ],
   "source": [
    "# Evaluate the model using the test data\n",
    "model_loss, model_accuracy = nn.evaluate(X_test_scaled,y_test,verbose=2)\n",
    "print(f\"Loss: {model_loss}, Accuracy: {model_accuracy}\")"
   ]
  },
  {
   "cell_type": "code",
   "execution_count": 30,
   "id": "64a423c2",
   "metadata": {},
   "outputs": [
    {
     "data": {
      "text/plain": [
       "<matplotlib.axes._subplots.AxesSubplot at 0x17c1c591408>"
      ]
     },
     "execution_count": 30,
     "metadata": {},
     "output_type": "execute_result"
    },
    {
     "data": {
      "image/png": "[encoded data removed]",
      "text/plain": [
       "<Figure size 432x288 with 1 Axes>"
      ]
     },
     "metadata": {
      "needs_background": "light"
     },
     "output_type": "display_data"
    }
   ],
   "source": [
    "# plotting the accuracy\n",
    "history_df = pd.DataFrame(fit_model.history, index = range(1, len(fit_model.history['loss'])+1))\n",
    "history_df.plot(y = 'accuracy')"
   ]
  },
  {
   "attachments": {},
   "cell_type": "markdown",
   "id": "bb1522af",
   "metadata": {},
   "source": [
    "cutoff = 65 ,layer1 = 9 : activation function = relu layer2 = 18 : activation function = relu\n",
    "\n",
    "Loss: 0.654283881187439, Accuracy: 0.6126855611801147\n",
    "\n",
    "A loss value of 65 indicates that the model can be further optimized. The accuracy percent shows that 61% of the model's predicted values align with the true values in the original dataset."
   ]
  },
  {
   "attachments": {},
   "cell_type": "markdown",
   "id": "80f0522f",
   "metadata": {},
   "source": [
    "# Adding hidden layer"
   ]
  },
  {
   "cell_type": "code",
   "execution_count": 31,
   "id": "fa13e96e",
   "metadata": {},
   "outputs": [
    {
     "name": "stdout",
     "output_type": "stream",
     "text": [
      "Model: \"sequential_1\"\n",
      "_________________________________________________________________\n",
      " Layer (type)                Output Shape              Param #   \n",
      "=================================================================\n",
      " dense_3 (Dense)             (None, 9)                 63        \n",
      "                                                                 \n",
      " dense_4 (Dense)             (None, 18)                180       \n",
      "                                                                 \n",
      " dense_5 (Dense)             (None, 27)                513       \n",
      "                                                                 \n",
      " dense_6 (Dense)             (None, 1)                 28        \n",
      "                                                                 \n",
      "=================================================================\n",
      "Total params: 784\n",
      "Trainable params: 784\n",
      "Non-trainable params: 0\n",
      "_________________________________________________________________\n"
     ]
    }
   ],
   "source": [
    "\n",
    "\n",
    "# Define the model - deep neural net, i.e., the number of input features and hidden nodes for each layer.\n",
    "number_input_features = len(X_train_scaled[0])\n",
    "hidden_nodes_layer1 = 9\n",
    "hidden_nodes_layer2 = 18\n",
    "hidden_nodes_layer3 = 27\n",
    "\n",
    "nn = tf.keras.models.Sequential()\n",
    "\n",
    "# First hidden layer\n",
    "nn.add(tf.keras.layers.Dense(units=hidden_nodes_layer1, input_dim=number_input_features, activation=\"relu\"))\n",
    "\n",
    "# Second hidden layer\n",
    "nn.add(tf.keras.layers.Dense(units=hidden_nodes_layer2, activation=\"relu\"))\n",
    "\n",
    "# Third hidden layer\n",
    "nn.add(tf.keras.layers.Dense(units=hidden_nodes_layer3, activation=\"relu\"))\n",
    "\n",
    "\n",
    "\n",
    "\n",
    "\n",
    "# Output layer\n",
    "nn.add(tf.keras.layers.Dense(units=1, activation=\"sigmoid\"))\n",
    "\n",
    "# Check the structure of the model\n",
    "nn.summary()"
   ]
  },
  {
   "cell_type": "code",
   "execution_count": 32,
   "id": "ca70f55d",
   "metadata": {},
   "outputs": [],
   "source": [
    "# Compile the model\n",
    "nn.compile(loss=\"binary_crossentropy\", optimizer=\"adam\", metrics=[\"accuracy\"])"
   ]
  },
  {
   "cell_type": "code",
   "execution_count": 33,
   "id": "0c1fafc2",
   "metadata": {},
   "outputs": [
    {
     "name": "stdout",
     "output_type": "stream",
     "text": [
      "Epoch 1/100\n",
      "70/70 [==============================] - 1s 2ms/step - loss: 0.6909 - accuracy: 0.5254\n",
      "Epoch 2/100\n",
      "70/70 [==============================] - 0s 2ms/step - loss: 0.6814 - accuracy: 0.5763\n",
      "Epoch 3/100\n",
      "70/70 [==============================] - 0s 2ms/step - loss: 0.6742 - accuracy: 0.5966\n",
      "Epoch 4/100\n",
      "70/70 [==============================] - 0s 2ms/step - loss: 0.6678 - accuracy: 0.6060\n",
      "Epoch 5/100\n",
      "70/70 [==============================] - 0s 2ms/step - loss: 0.6638 - accuracy: 0.6029\n",
      "Epoch 6/100\n",
      "70/70 [==============================] - 0s 2ms/step - loss: 0.6600 - accuracy: 0.6119\n",
      "Epoch 7/100\n",
      "70/70 [==============================] - 0s 2ms/step - loss: 0.6569 - accuracy: 0.6155\n",
      "Epoch 8/100\n",
      "70/70 [==============================] - 0s 2ms/step - loss: 0.6556 - accuracy: 0.6110\n",
      "Epoch 9/100\n",
      "70/70 [==============================] - 0s 2ms/step - loss: 0.6546 - accuracy: 0.6213\n",
      "Epoch 10/100\n",
      "70/70 [==============================] - 0s 2ms/step - loss: 0.6520 - accuracy: 0.6150\n",
      "Epoch 11/100\n",
      "70/70 [==============================] - 0s 2ms/step - loss: 0.6513 - accuracy: 0.6195\n",
      "Epoch 12/100\n",
      "70/70 [==============================] - 0s 2ms/step - loss: 0.6505 - accuracy: 0.6173\n",
      "Epoch 13/100\n",
      "70/70 [==============================] - 0s 2ms/step - loss: 0.6497 - accuracy: 0.6218\n",
      "Epoch 14/100\n",
      "70/70 [==============================] - 0s 2ms/step - loss: 0.6486 - accuracy: 0.6213\n",
      "Epoch 15/100\n",
      "70/70 [==============================] - 0s 2ms/step - loss: 0.6479 - accuracy: 0.6240\n",
      "Epoch 16/100\n",
      "70/70 [==============================] - 0s 2ms/step - loss: 0.6476 - accuracy: 0.6240\n",
      "Epoch 17/100\n",
      "70/70 [==============================] - 0s 2ms/step - loss: 0.6470 - accuracy: 0.6227\n",
      "Epoch 18/100\n",
      "70/70 [==============================] - 0s 2ms/step - loss: 0.6462 - accuracy: 0.6227\n",
      "Epoch 19/100\n",
      "70/70 [==============================] - 0s 2ms/step - loss: 0.6448 - accuracy: 0.6317\n",
      "Epoch 20/100\n",
      "70/70 [==============================] - 0s 1ms/step - loss: 0.6444 - accuracy: 0.6308\n",
      "Epoch 21/100\n",
      "70/70 [==============================] - 0s 2ms/step - loss: 0.6436 - accuracy: 0.6303\n",
      "Epoch 22/100\n",
      "70/70 [==============================] - 0s 2ms/step - loss: 0.6446 - accuracy: 0.6222\n",
      "Epoch 23/100\n",
      "70/70 [==============================] - 0s 2ms/step - loss: 0.6429 - accuracy: 0.6240\n",
      "Epoch 24/100\n",
      "70/70 [==============================] - 0s 2ms/step - loss: 0.6429 - accuracy: 0.6326\n",
      "Epoch 25/100\n",
      "70/70 [==============================] - 0s 2ms/step - loss: 0.6411 - accuracy: 0.6321\n",
      "Epoch 26/100\n",
      "70/70 [==============================] - 0s 2ms/step - loss: 0.6403 - accuracy: 0.6335\n",
      "Epoch 27/100\n",
      "70/70 [==============================] - 0s 1ms/step - loss: 0.6405 - accuracy: 0.6344\n",
      "Epoch 28/100\n",
      "70/70 [==============================] - 0s 2ms/step - loss: 0.6398 - accuracy: 0.6303\n",
      "Epoch 29/100\n",
      "70/70 [==============================] - 0s 2ms/step - loss: 0.6393 - accuracy: 0.6335\n",
      "Epoch 30/100\n",
      "70/70 [==============================] - 0s 2ms/step - loss: 0.6381 - accuracy: 0.6326\n",
      "Epoch 31/100\n",
      "70/70 [==============================] - 0s 2ms/step - loss: 0.6390 - accuracy: 0.6326\n",
      "Epoch 32/100\n",
      "70/70 [==============================] - 0s 2ms/step - loss: 0.6381 - accuracy: 0.6398\n",
      "Epoch 33/100\n",
      "70/70 [==============================] - 0s 2ms/step - loss: 0.6368 - accuracy: 0.6362\n",
      "Epoch 34/100\n",
      "70/70 [==============================] - 0s 2ms/step - loss: 0.6370 - accuracy: 0.6353\n",
      "Epoch 35/100\n",
      "70/70 [==============================] - 0s 2ms/step - loss: 0.6362 - accuracy: 0.6367\n",
      "Epoch 36/100\n",
      "70/70 [==============================] - 0s 2ms/step - loss: 0.6367 - accuracy: 0.6371\n",
      "Epoch 37/100\n",
      "70/70 [==============================] - 0s 2ms/step - loss: 0.6350 - accuracy: 0.6339\n",
      "Epoch 38/100\n",
      "70/70 [==============================] - 0s 1ms/step - loss: 0.6351 - accuracy: 0.6371\n",
      "Epoch 39/100\n",
      "70/70 [==============================] - 0s 2ms/step - loss: 0.6347 - accuracy: 0.6407\n",
      "Epoch 40/100\n",
      "70/70 [==============================] - 0s 1ms/step - loss: 0.6337 - accuracy: 0.6335\n",
      "Epoch 41/100\n",
      "70/70 [==============================] - 0s 2ms/step - loss: 0.6351 - accuracy: 0.6317\n",
      "Epoch 42/100\n",
      "70/70 [==============================] - 0s 2ms/step - loss: 0.6327 - accuracy: 0.6385\n",
      "Epoch 43/100\n",
      "70/70 [==============================] - 0s 2ms/step - loss: 0.6326 - accuracy: 0.6434\n",
      "Epoch 44/100\n",
      "70/70 [==============================] - 0s 2ms/step - loss: 0.6323 - accuracy: 0.6357\n",
      "Epoch 45/100\n",
      "70/70 [==============================] - 0s 2ms/step - loss: 0.6317 - accuracy: 0.6380\n",
      "Epoch 46/100\n",
      "70/70 [==============================] - 0s 2ms/step - loss: 0.6309 - accuracy: 0.6376\n",
      "Epoch 47/100\n",
      "70/70 [==============================] - 0s 2ms/step - loss: 0.6309 - accuracy: 0.6430\n",
      "Epoch 48/100\n",
      "70/70 [==============================] - 0s 2ms/step - loss: 0.6310 - accuracy: 0.6407\n",
      "Epoch 49/100\n",
      "70/70 [==============================] - 0s 2ms/step - loss: 0.6315 - accuracy: 0.6439\n",
      "Epoch 50/100\n",
      "70/70 [==============================] - 0s 2ms/step - loss: 0.6307 - accuracy: 0.6357\n",
      "Epoch 51/100\n",
      "70/70 [==============================] - 0s 2ms/step - loss: 0.6285 - accuracy: 0.6421\n",
      "Epoch 52/100\n",
      "70/70 [==============================] - 0s 2ms/step - loss: 0.6290 - accuracy: 0.6407\n",
      "Epoch 53/100\n",
      "70/70 [==============================] - 0s 2ms/step - loss: 0.6285 - accuracy: 0.6385\n",
      "Epoch 54/100\n",
      "70/70 [==============================] - 0s 1ms/step - loss: 0.6273 - accuracy: 0.6357\n",
      "Epoch 55/100\n",
      "70/70 [==============================] - 0s 2ms/step - loss: 0.6274 - accuracy: 0.6434\n",
      "Epoch 56/100\n",
      "70/70 [==============================] - 0s 2ms/step - loss: 0.6267 - accuracy: 0.6398\n",
      "Epoch 57/100\n",
      "70/70 [==============================] - 0s 2ms/step - loss: 0.6289 - accuracy: 0.6412\n",
      "Epoch 58/100\n",
      "70/70 [==============================] - 0s 2ms/step - loss: 0.6266 - accuracy: 0.6461\n",
      "Epoch 59/100\n",
      "70/70 [==============================] - 0s 2ms/step - loss: 0.6271 - accuracy: 0.6475\n",
      "Epoch 60/100\n",
      "70/70 [==============================] - 0s 1ms/step - loss: 0.6279 - accuracy: 0.6448\n",
      "Epoch 61/100\n",
      "70/70 [==============================] - 0s 2ms/step - loss: 0.6263 - accuracy: 0.6416\n",
      "Epoch 62/100\n",
      "70/70 [==============================] - 0s 1ms/step - loss: 0.6257 - accuracy: 0.6394\n",
      "Epoch 63/100\n",
      "70/70 [==============================] - 0s 2ms/step - loss: 0.6245 - accuracy: 0.6466\n",
      "Epoch 64/100\n",
      "70/70 [==============================] - 0s 2ms/step - loss: 0.6256 - accuracy: 0.6380\n",
      "Epoch 65/100\n",
      "70/70 [==============================] - 0s 2ms/step - loss: 0.6229 - accuracy: 0.6461\n",
      "Epoch 66/100\n",
      "70/70 [==============================] - 0s 2ms/step - loss: 0.6251 - accuracy: 0.6457\n",
      "Epoch 67/100\n",
      "70/70 [==============================] - 0s 1ms/step - loss: 0.6230 - accuracy: 0.6470\n",
      "Epoch 68/100\n",
      "70/70 [==============================] - 0s 1ms/step - loss: 0.6243 - accuracy: 0.6479\n",
      "Epoch 69/100\n",
      "70/70 [==============================] - 0s 2ms/step - loss: 0.6241 - accuracy: 0.6461\n",
      "Epoch 70/100\n",
      "70/70 [==============================] - 0s 2ms/step - loss: 0.6221 - accuracy: 0.6403\n",
      "Epoch 71/100\n",
      "70/70 [==============================] - 0s 2ms/step - loss: 0.6226 - accuracy: 0.6376\n",
      "Epoch 72/100\n",
      "70/70 [==============================] - 0s 2ms/step - loss: 0.6222 - accuracy: 0.6425\n",
      "Epoch 73/100\n",
      "70/70 [==============================] - 0s 2ms/step - loss: 0.6226 - accuracy: 0.6421\n",
      "Epoch 74/100\n",
      "70/70 [==============================] - 0s 1ms/step - loss: 0.6209 - accuracy: 0.6457\n",
      "Epoch 75/100\n",
      "70/70 [==============================] - 0s 2ms/step - loss: 0.6228 - accuracy: 0.6443\n",
      "Epoch 76/100\n",
      "70/70 [==============================] - 0s 2ms/step - loss: 0.6203 - accuracy: 0.6457\n",
      "Epoch 77/100\n",
      "70/70 [==============================] - 0s 2ms/step - loss: 0.6202 - accuracy: 0.6457\n",
      "Epoch 78/100\n",
      "70/70 [==============================] - 0s 2ms/step - loss: 0.6196 - accuracy: 0.6506\n",
      "Epoch 79/100\n",
      "70/70 [==============================] - 0s 2ms/step - loss: 0.6203 - accuracy: 0.6497\n",
      "Epoch 80/100\n",
      "70/70 [==============================] - 0s 2ms/step - loss: 0.6213 - accuracy: 0.6488\n",
      "Epoch 81/100\n",
      "70/70 [==============================] - 0s 1ms/step - loss: 0.6195 - accuracy: 0.6457\n",
      "Epoch 82/100\n",
      "70/70 [==============================] - 0s 2ms/step - loss: 0.6184 - accuracy: 0.6506\n",
      "Epoch 83/100\n",
      "70/70 [==============================] - 0s 2ms/step - loss: 0.6170 - accuracy: 0.6511\n",
      "Epoch 84/100\n",
      "70/70 [==============================] - 0s 1ms/step - loss: 0.6184 - accuracy: 0.6533\n",
      "Epoch 85/100\n",
      "70/70 [==============================] - 0s 1ms/step - loss: 0.6172 - accuracy: 0.6524\n",
      "Epoch 86/100\n",
      "70/70 [==============================] - 0s 1ms/step - loss: 0.6165 - accuracy: 0.6515\n",
      "Epoch 87/100\n",
      "70/70 [==============================] - 0s 2ms/step - loss: 0.6169 - accuracy: 0.6488\n",
      "Epoch 88/100\n",
      "70/70 [==============================] - 0s 1ms/step - loss: 0.6173 - accuracy: 0.6502\n",
      "Epoch 89/100\n",
      "70/70 [==============================] - 0s 1ms/step - loss: 0.6159 - accuracy: 0.6556\n",
      "Epoch 90/100\n",
      "70/70 [==============================] - 0s 1ms/step - loss: 0.6161 - accuracy: 0.6524\n",
      "Epoch 91/100\n",
      "70/70 [==============================] - 0s 1ms/step - loss: 0.6154 - accuracy: 0.6511\n",
      "Epoch 92/100\n",
      "70/70 [==============================] - 0s 2ms/step - loss: 0.6158 - accuracy: 0.6547\n",
      "Epoch 93/100\n",
      "70/70 [==============================] - 0s 1ms/step - loss: 0.6158 - accuracy: 0.6524\n",
      "Epoch 94/100\n",
      "70/70 [==============================] - 0s 2ms/step - loss: 0.6159 - accuracy: 0.6569\n",
      "Epoch 95/100\n",
      "70/70 [==============================] - 0s 2ms/step - loss: 0.6152 - accuracy: 0.6497\n",
      "Epoch 96/100\n",
      "70/70 [==============================] - 0s 1ms/step - loss: 0.6149 - accuracy: 0.6506\n",
      "Epoch 97/100\n",
      "70/70 [==============================] - 0s 2ms/step - loss: 0.6140 - accuracy: 0.6515\n",
      "Epoch 98/100\n",
      "70/70 [==============================] - 0s 2ms/step - loss: 0.6128 - accuracy: 0.6605\n",
      "Epoch 99/100\n",
      "70/70 [==============================] - 0s 2ms/step - loss: 0.6142 - accuracy: 0.6542\n",
      "Epoch 100/100\n",
      "70/70 [==============================] - 0s 1ms/step - loss: 0.6143 - accuracy: 0.6565\n"
     ]
    }
   ],
   "source": [
    "# Train the model\n",
    "fit_model = nn.fit(X_train_scaled,y_train,epochs=100)"
   ]
  },
  {
   "cell_type": "code",
   "execution_count": 34,
   "id": "252cc37d",
   "metadata": {},
   "outputs": [
    {
     "name": "stdout",
     "output_type": "stream",
     "text": [
      "24/24 - 0s - loss: 0.6508 - accuracy: 0.6154 - 207ms/epoch - 9ms/step\n",
      "Loss: 0.6507761478424072, Accuracy: 0.6153846383094788\n"
     ]
    }
   ],
   "source": [
    "#Evaluate the model using the test data\n",
    "model_loss, model_accuracy = nn.evaluate(X_test_scaled,y_test,verbose=2)\n",
    "print(f\"Loss: {model_loss}, Accuracy: {model_accuracy}\")"
   ]
  },
  {
   "attachments": {},
   "cell_type": "markdown",
   "id": "6dfb7cb4",
   "metadata": {},
   "source": [
    "# Changing activation"
   ]
  },
  {
   "cell_type": "code",
   "execution_count": 35,
   "id": "2e57b332",
   "metadata": {},
   "outputs": [
    {
     "name": "stdout",
     "output_type": "stream",
     "text": [
      "Model: \"sequential_2\"\n",
      "_________________________________________________________________\n",
      " Layer (type)                Output Shape              Param #   \n",
      "=================================================================\n",
      " dense_7 (Dense)             (None, 9)                 63        \n",
      "                                                                 \n",
      " dense_8 (Dense)             (None, 18)                180       \n",
      "                                                                 \n",
      " dense_9 (Dense)             (None, 81)                1539      \n",
      "                                                                 \n",
      " dense_10 (Dense)            (None, 1)                 82        \n",
      "                                                                 \n",
      "=================================================================\n",
      "Total params: 1,864\n",
      "Trainable params: 1,864\n",
      "Non-trainable params: 0\n",
      "_________________________________________________________________\n"
     ]
    }
   ],
   "source": [
    "# Define the model - deep neural net, i.e., the number of input features and hidden nodes for each layer.\n",
    "number_input_features = len(X_train_scaled[0])\n",
    "hidden_nodes_layer1 = 9\n",
    "hidden_nodes_layer2 = 18\n",
    "hidden_nodes_layer3 = 81\n",
    "\n",
    "\n",
    "nn = tf.keras.models.Sequential()\n",
    "\n",
    "# First hidden layer\n",
    "nn.add(tf.keras.layers.Dense(units=hidden_nodes_layer1, input_dim=number_input_features, activation=\"relu\"))\n",
    "\n",
    "# Second hidden layer\n",
    "nn.add(tf.keras.layers.Dense(units=hidden_nodes_layer2, activation=\"tanh\"))\n",
    "\n",
    "# Third hidden layer\n",
    "nn.add(tf.keras.layers.Dense(units=hidden_nodes_layer3, activation=\"tanh\"))\n",
    "\n",
    "\n",
    "\n",
    "\n",
    "# Output layer\n",
    "nn.add(tf.keras.layers.Dense(units=1, activation=\"sigmoid\"))\n",
    "\n",
    "# Check the structure of the model\n",
    "nn.summary()"
   ]
  },
  {
   "cell_type": "code",
   "execution_count": 36,
   "id": "3a235b9b",
   "metadata": {},
   "outputs": [],
   "source": [
    "# Compile the model\n",
    "nn.compile(loss=\"binary_crossentropy\", optimizer=\"adam\", metrics=[\"accuracy\"])"
   ]
  },
  {
   "cell_type": "code",
   "execution_count": 37,
   "id": "9de92024",
   "metadata": {},
   "outputs": [
    {
     "name": "stdout",
     "output_type": "stream",
     "text": [
      "Epoch 1/100\n",
      "70/70 [==============================] - 1s 2ms/step - loss: 0.6750 - accuracy: 0.5745\n",
      "Epoch 2/100\n",
      "70/70 [==============================] - 0s 2ms/step - loss: 0.6688 - accuracy: 0.5925\n",
      "Epoch 3/100\n",
      "70/70 [==============================] - 0s 2ms/step - loss: 0.6677 - accuracy: 0.5921\n",
      "Epoch 4/100\n",
      "70/70 [==============================] - 0s 2ms/step - loss: 0.6660 - accuracy: 0.5952\n",
      "Epoch 5/100\n",
      "70/70 [==============================] - 0s 2ms/step - loss: 0.6647 - accuracy: 0.6024\n",
      "Epoch 6/100\n",
      "70/70 [==============================] - 0s 2ms/step - loss: 0.6640 - accuracy: 0.6029\n",
      "Epoch 7/100\n",
      "70/70 [==============================] - 0s 2ms/step - loss: 0.6632 - accuracy: 0.5993\n",
      "Epoch 8/100\n",
      "70/70 [==============================] - 0s 2ms/step - loss: 0.6634 - accuracy: 0.6047\n",
      "Epoch 9/100\n",
      "70/70 [==============================] - 0s 2ms/step - loss: 0.6613 - accuracy: 0.6092\n",
      "Epoch 10/100\n",
      "70/70 [==============================] - 0s 2ms/step - loss: 0.6613 - accuracy: 0.6024\n",
      "Epoch 11/100\n",
      "70/70 [==============================] - 0s 2ms/step - loss: 0.6600 - accuracy: 0.5984\n",
      "Epoch 12/100\n",
      "70/70 [==============================] - 0s 2ms/step - loss: 0.6603 - accuracy: 0.6006\n",
      "Epoch 13/100\n",
      "70/70 [==============================] - 0s 2ms/step - loss: 0.6592 - accuracy: 0.6024\n",
      "Epoch 14/100\n",
      "70/70 [==============================] - 0s 1ms/step - loss: 0.6580 - accuracy: 0.6096\n",
      "Epoch 15/100\n",
      "70/70 [==============================] - 0s 2ms/step - loss: 0.6590 - accuracy: 0.6029\n",
      "Epoch 16/100\n",
      "70/70 [==============================] - 0s 2ms/step - loss: 0.6566 - accuracy: 0.6137\n",
      "Epoch 17/100\n",
      "70/70 [==============================] - 0s 2ms/step - loss: 0.6563 - accuracy: 0.6159\n",
      "Epoch 18/100\n",
      "70/70 [==============================] - 0s 2ms/step - loss: 0.6565 - accuracy: 0.6078\n",
      "Epoch 19/100\n",
      "70/70 [==============================] - 0s 2ms/step - loss: 0.6567 - accuracy: 0.6119\n",
      "Epoch 20/100\n",
      "70/70 [==============================] - 0s 2ms/step - loss: 0.6553 - accuracy: 0.6123\n",
      "Epoch 21/100\n",
      "70/70 [==============================] - 0s 2ms/step - loss: 0.6565 - accuracy: 0.6051\n",
      "Epoch 22/100\n",
      "70/70 [==============================] - 0s 2ms/step - loss: 0.6543 - accuracy: 0.6186\n",
      "Epoch 23/100\n",
      "70/70 [==============================] - 0s 2ms/step - loss: 0.6533 - accuracy: 0.6177\n",
      "Epoch 24/100\n",
      "70/70 [==============================] - 0s 2ms/step - loss: 0.6532 - accuracy: 0.6114\n",
      "Epoch 25/100\n",
      "70/70 [==============================] - 0s 2ms/step - loss: 0.6519 - accuracy: 0.6128\n",
      "Epoch 26/100\n",
      "70/70 [==============================] - 0s 2ms/step - loss: 0.6525 - accuracy: 0.6191\n",
      "Epoch 27/100\n",
      "70/70 [==============================] - 0s 2ms/step - loss: 0.6516 - accuracy: 0.6236\n",
      "Epoch 28/100\n",
      "70/70 [==============================] - 0s 2ms/step - loss: 0.6509 - accuracy: 0.6209\n",
      "Epoch 29/100\n",
      "70/70 [==============================] - 0s 2ms/step - loss: 0.6517 - accuracy: 0.6191\n",
      "Epoch 30/100\n",
      "70/70 [==============================] - 0s 2ms/step - loss: 0.6508 - accuracy: 0.6164\n",
      "Epoch 31/100\n",
      "70/70 [==============================] - 0s 2ms/step - loss: 0.6510 - accuracy: 0.6186\n",
      "Epoch 32/100\n",
      "70/70 [==============================] - 0s 2ms/step - loss: 0.6491 - accuracy: 0.6227\n",
      "Epoch 33/100\n",
      "70/70 [==============================] - 0s 2ms/step - loss: 0.6512 - accuracy: 0.6240\n",
      "Epoch 34/100\n",
      "70/70 [==============================] - 0s 2ms/step - loss: 0.6497 - accuracy: 0.6204\n",
      "Epoch 35/100\n",
      "70/70 [==============================] - 0s 2ms/step - loss: 0.6498 - accuracy: 0.6236\n",
      "Epoch 36/100\n",
      "70/70 [==============================] - 0s 2ms/step - loss: 0.6490 - accuracy: 0.6272\n",
      "Epoch 37/100\n",
      "70/70 [==============================] - 0s 2ms/step - loss: 0.6473 - accuracy: 0.6290\n",
      "Epoch 38/100\n",
      "70/70 [==============================] - 0s 2ms/step - loss: 0.6489 - accuracy: 0.6281\n",
      "Epoch 39/100\n",
      "70/70 [==============================] - 0s 2ms/step - loss: 0.6470 - accuracy: 0.6222\n",
      "Epoch 40/100\n",
      "70/70 [==============================] - 0s 2ms/step - loss: 0.6466 - accuracy: 0.6209\n",
      "Epoch 41/100\n",
      "70/70 [==============================] - 0s 2ms/step - loss: 0.6475 - accuracy: 0.6240\n",
      "Epoch 42/100\n",
      "70/70 [==============================] - 0s 2ms/step - loss: 0.6467 - accuracy: 0.6308\n",
      "Epoch 43/100\n",
      "70/70 [==============================] - 0s 2ms/step - loss: 0.6467 - accuracy: 0.6249\n",
      "Epoch 44/100\n",
      "70/70 [==============================] - 0s 2ms/step - loss: 0.6451 - accuracy: 0.6272\n",
      "Epoch 45/100\n",
      "70/70 [==============================] - 0s 2ms/step - loss: 0.6455 - accuracy: 0.6231\n",
      "Epoch 46/100\n",
      "70/70 [==============================] - 0s 2ms/step - loss: 0.6459 - accuracy: 0.6335\n",
      "Epoch 47/100\n",
      "70/70 [==============================] - 0s 2ms/step - loss: 0.6443 - accuracy: 0.6263\n",
      "Epoch 48/100\n",
      "70/70 [==============================] - 0s 2ms/step - loss: 0.6441 - accuracy: 0.6267\n",
      "Epoch 49/100\n",
      "70/70 [==============================] - 0s 2ms/step - loss: 0.6432 - accuracy: 0.6285\n",
      "Epoch 50/100\n",
      "70/70 [==============================] - 0s 2ms/step - loss: 0.6451 - accuracy: 0.6312\n",
      "Epoch 51/100\n",
      "70/70 [==============================] - 0s 2ms/step - loss: 0.6436 - accuracy: 0.6272\n",
      "Epoch 52/100\n",
      "70/70 [==============================] - 0s 2ms/step - loss: 0.6437 - accuracy: 0.6285\n",
      "Epoch 53/100\n",
      "70/70 [==============================] - 0s 2ms/step - loss: 0.6447 - accuracy: 0.6294\n",
      "Epoch 54/100\n",
      "70/70 [==============================] - 0s 2ms/step - loss: 0.6429 - accuracy: 0.6276\n",
      "Epoch 55/100\n",
      "70/70 [==============================] - 0s 2ms/step - loss: 0.6432 - accuracy: 0.6335\n",
      "Epoch 56/100\n",
      "70/70 [==============================] - 0s 2ms/step - loss: 0.6443 - accuracy: 0.6254\n",
      "Epoch 57/100\n",
      "70/70 [==============================] - 0s 1ms/step - loss: 0.6432 - accuracy: 0.6204\n",
      "Epoch 58/100\n",
      "70/70 [==============================] - 0s 1ms/step - loss: 0.6430 - accuracy: 0.6294\n",
      "Epoch 59/100\n",
      "70/70 [==============================] - 0s 2ms/step - loss: 0.6432 - accuracy: 0.6321\n",
      "Epoch 60/100\n",
      "70/70 [==============================] - 0s 2ms/step - loss: 0.6418 - accuracy: 0.6276\n",
      "Epoch 61/100\n",
      "70/70 [==============================] - 0s 2ms/step - loss: 0.6415 - accuracy: 0.6258\n",
      "Epoch 62/100\n",
      "70/70 [==============================] - 0s 2ms/step - loss: 0.6406 - accuracy: 0.6245\n",
      "Epoch 63/100\n",
      "70/70 [==============================] - 0s 2ms/step - loss: 0.6430 - accuracy: 0.6308\n",
      "Epoch 64/100\n",
      "70/70 [==============================] - 0s 2ms/step - loss: 0.6405 - accuracy: 0.6294\n",
      "Epoch 65/100\n",
      "70/70 [==============================] - 0s 2ms/step - loss: 0.6407 - accuracy: 0.6281\n",
      "Epoch 66/100\n",
      "70/70 [==============================] - 0s 2ms/step - loss: 0.6432 - accuracy: 0.6249\n",
      "Epoch 67/100\n",
      "70/70 [==============================] - 0s 2ms/step - loss: 0.6403 - accuracy: 0.6227\n",
      "Epoch 68/100\n",
      "70/70 [==============================] - 0s 2ms/step - loss: 0.6408 - accuracy: 0.6276\n",
      "Epoch 69/100\n",
      "70/70 [==============================] - 0s 2ms/step - loss: 0.6402 - accuracy: 0.6376\n",
      "Epoch 70/100\n",
      "70/70 [==============================] - 0s 2ms/step - loss: 0.6410 - accuracy: 0.6231\n",
      "Epoch 71/100\n",
      "70/70 [==============================] - 0s 1ms/step - loss: 0.6410 - accuracy: 0.6272\n",
      "Epoch 72/100\n",
      "70/70 [==============================] - 0s 2ms/step - loss: 0.6405 - accuracy: 0.6294\n",
      "Epoch 73/100\n",
      "70/70 [==============================] - 0s 2ms/step - loss: 0.6406 - accuracy: 0.6326\n",
      "Epoch 74/100\n",
      "70/70 [==============================] - 0s 2ms/step - loss: 0.6407 - accuracy: 0.6258\n",
      "Epoch 75/100\n",
      "70/70 [==============================] - 0s 2ms/step - loss: 0.6385 - accuracy: 0.6312\n",
      "Epoch 76/100\n",
      "70/70 [==============================] - 0s 2ms/step - loss: 0.6392 - accuracy: 0.6272\n",
      "Epoch 77/100\n",
      "70/70 [==============================] - 0s 2ms/step - loss: 0.6383 - accuracy: 0.6353\n",
      "Epoch 78/100\n",
      "70/70 [==============================] - 0s 2ms/step - loss: 0.6397 - accuracy: 0.6299\n",
      "Epoch 79/100\n",
      "70/70 [==============================] - 0s 2ms/step - loss: 0.6393 - accuracy: 0.6339\n",
      "Epoch 80/100\n",
      "70/70 [==============================] - 0s 2ms/step - loss: 0.6386 - accuracy: 0.6285\n",
      "Epoch 81/100\n",
      "70/70 [==============================] - 0s 2ms/step - loss: 0.6408 - accuracy: 0.6312\n",
      "Epoch 82/100\n",
      "70/70 [==============================] - 0s 2ms/step - loss: 0.6385 - accuracy: 0.6380\n",
      "Epoch 83/100\n",
      "70/70 [==============================] - 0s 1ms/step - loss: 0.6408 - accuracy: 0.6263\n",
      "Epoch 84/100\n",
      "70/70 [==============================] - 0s 1ms/step - loss: 0.6390 - accuracy: 0.6326\n",
      "Epoch 85/100\n",
      "70/70 [==============================] - 0s 1ms/step - loss: 0.6385 - accuracy: 0.6299\n",
      "Epoch 86/100\n",
      "70/70 [==============================] - 0s 1ms/step - loss: 0.6383 - accuracy: 0.6330\n",
      "Epoch 87/100\n",
      "70/70 [==============================] - 0s 1ms/step - loss: 0.6375 - accuracy: 0.6294\n",
      "Epoch 88/100\n",
      "70/70 [==============================] - 0s 1ms/step - loss: 0.6376 - accuracy: 0.6367\n",
      "Epoch 89/100\n",
      "70/70 [==============================] - 0s 2ms/step - loss: 0.6378 - accuracy: 0.6258\n",
      "Epoch 90/100\n",
      "70/70 [==============================] - 0s 2ms/step - loss: 0.6380 - accuracy: 0.6317\n",
      "Epoch 91/100\n",
      "70/70 [==============================] - 0s 2ms/step - loss: 0.6375 - accuracy: 0.6380\n",
      "Epoch 92/100\n",
      "70/70 [==============================] - 0s 2ms/step - loss: 0.6371 - accuracy: 0.6285\n",
      "Epoch 93/100\n",
      "70/70 [==============================] - 0s 1ms/step - loss: 0.6377 - accuracy: 0.6290\n",
      "Epoch 94/100\n",
      "70/70 [==============================] - 0s 1ms/step - loss: 0.6384 - accuracy: 0.6321\n",
      "Epoch 95/100\n",
      "70/70 [==============================] - 0s 2ms/step - loss: 0.6369 - accuracy: 0.6317\n",
      "Epoch 96/100\n",
      "70/70 [==============================] - 0s 2ms/step - loss: 0.6373 - accuracy: 0.6303\n",
      "Epoch 97/100\n",
      "70/70 [==============================] - 0s 2ms/step - loss: 0.6362 - accuracy: 0.6371\n",
      "Epoch 98/100\n",
      "70/70 [==============================] - 0s 2ms/step - loss: 0.6361 - accuracy: 0.6308\n",
      "Epoch 99/100\n",
      "70/70 [==============================] - 0s 2ms/step - loss: 0.6366 - accuracy: 0.6299\n",
      "Epoch 100/100\n",
      "70/70 [==============================] - 0s 1ms/step - loss: 0.6367 - accuracy: 0.6281\n"
     ]
    }
   ],
   "source": [
    "# Train the model\n",
    "fit_model = nn.fit(X_train_scaled,y_train,epochs=100)"
   ]
  },
  {
   "cell_type": "code",
   "execution_count": 38,
   "id": "28d66f20",
   "metadata": {},
   "outputs": [
    {
     "name": "stdout",
     "output_type": "stream",
     "text": [
      "24/24 - 0s - loss: 0.6425 - accuracy: 0.6221 - 218ms/epoch - 9ms/step\n",
      "Loss: 0.6425341367721558, Accuracy: 0.6221322417259216\n"
     ]
    }
   ],
   "source": [
    "#Evaluate the model using the test data\n",
    "model_loss, model_accuracy = nn.evaluate(X_test_scaled,y_test,verbose=2)\n",
    "print(f\"Loss: {model_loss}, Accuracy: {model_accuracy}\")"
   ]
  },
  {
   "cell_type": "code",
   "execution_count": 39,
   "id": "b588fbb5",
   "metadata": {},
   "outputs": [],
   "source": [
    "# Export our model to HDF5 file\n",
    "nn.save('Model/Model.h5')"
   ]
  },
  {
   "attachments": {},
   "cell_type": "markdown",
   "id": "000feaa2",
   "metadata": {},
   "source": [
    "# random forest "
   ]
  },
  {
   "cell_type": "code",
   "execution_count": 76,
   "id": "3fb52492",
   "metadata": {},
   "outputs": [
    {
     "name": "stdout",
     "output_type": "stream",
     "text": [
      "Random Forest Accuracy: 0.581787521079258\n"
     ]
    }
   ],
   "source": [
    "from sklearn.ensemble import RandomForestClassifier\n",
    "# Update X with the 'loudness' and 'energy' columns\n",
    "X = track_df[['speechiness','acousticness','liveness','valence','energy','loudness']]\n",
    "\n",
    "# Update y with the target variable column\n",
    "y = track_df['is_popular'].values\n",
    "X_train, X_test, y_train, y_test = train_test_split(X, y, test_size=0.2, random_state=42)\n",
    "\n",
    "# Train Random Forest model\n",
    "rf_model = RandomForestClassifier()\n",
    "rf_model.fit(X_train, y_train)\n",
    "rf_predictions = rf_model.predict(X_test)\n",
    "rf_accuracy = accuracy_score(y_test, rf_predictions)\n",
    "# Print the accuracies of the three models\n",
    "print(\"Random Forest Accuracy:\", rf_accuracy)"
   ]
  },
  {
   "cell_type": "code",
   "execution_count": 77,
   "id": "968c7dca",
   "metadata": {},
   "outputs": [
    {
     "data": {
      "text/plain": [
       "[(0.19101229032077624, 'loudness'),\n",
       " (0.17813083290798945, 'speechiness'),\n",
       " (0.16431360086293684, 'energy'),\n",
       " (0.16101037253360215, 'acousticness'),\n",
       " (0.15493985458775805, 'valence'),\n",
       " (0.15059304878693716, 'liveness')]"
      ]
     },
     "execution_count": 77,
     "metadata": {},
     "output_type": "execute_result"
    }
   ],
   "source": [
    "importances = rf_model.feature_importances_\n",
    "# We can sort the features by their importance\n",
    "sorted(zip(rf_model.feature_importances_, X.columns), reverse=True)"
   ]
  },
  {
   "cell_type": "code",
   "execution_count": 78,
   "id": "5d15eb58",
   "metadata": {},
   "outputs": [
    {
     "data": {
      "text/plain": [
       "<AxesSubplot:title={'center':'Features Importances'}, ylabel='1'>"
      ]
     },
     "execution_count": 78,
     "metadata": {},
     "output_type": "execute_result"
    },
    {
     "data": {
      "image/png": "[encoded data removed]",
      "text/plain": [
       "<Figure size 640x480 with 1 Axes>"
      ]
     },
     "metadata": {},
     "output_type": "display_data"
    }
   ],
   "source": [
    "importances_df = pd.DataFrame(sorted(zip(rf_model.feature_importances_, X.columns), reverse=True))\n",
    "importances_df.set_index(importances_df[1], inplace=True)\n",
    "importances_df.drop(columns=1, inplace=True)\n",
    "importances_df.rename(columns={0: 'Feature Importances'}, inplace=True)\n",
    "importances_sorted = importances_df.sort_values(by='Feature Importances')\n",
    "importances_sorted.plot(kind='barh', color='lightgreen', title= 'Features Importances', legend=False)"
   ]
  }
 ],
 "metadata": {
  "kernelspec": {
   "display_name": "base",
   "language": "python",
   "name": "python3"
  },
  "language_info": {
   "codemirror_mode": {
    "name": "ipython",
    "version": 3
   },
   "file_extension": ".py",
   "mimetype": "text/x-python",
   "name": "python",
   "nbconvert_exporter": "python",
   "pygments_lexer": "ipython3",
   "version": "3.9.13"
  }
 },
 "nbformat": 4,
 "nbformat_minor": 5
}
