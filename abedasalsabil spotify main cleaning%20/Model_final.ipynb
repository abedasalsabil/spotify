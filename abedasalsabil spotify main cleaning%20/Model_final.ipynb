{
  "cells": [
    {
      "cell_type": "code",
      "source": [
        "import os\n",
        "# Finding and entering the latest version of spark 3.x\n",
        "spark_version = 'spark-3.3.2'\n",
        "os.environ['SPARK_VERSION']=spark_version\n",
        "\n",
        "# Installing Spark and Java\n",
        "!apt-get update\n",
        "!apt-get install openjdk-11-jdk-headless -qq > /dev/null\n",
        "!wget -q http://www.apache.org/dist/spark/$SPARK_VERSION/$SPARK_VERSION-bin-hadoop3.tgz\n",
        "!tar xf $SPARK_VERSION-bin-hadoop3.tgz\n",
        "!pip install -q findspark\n",
        "\n",
        "# Settin Environment Variables\n",
        "os.environ[\"JAVA_HOME\"] = \"/usr/lib/jvm/java-11-openjdk-amd64\"\n",
        "os.environ[\"SPARK_HOME\"] = f\"/content/{spark_version}-bin-hadoop3\"\n",
        "\n",
        "# Starting a SparkSession\n",
        "import findspark\n",
        "findspark.init()"
      ],
      "metadata": {
        "colab": {
          "base_uri": "https://localhost:8080/"
        },
        "id": "bC4e3Ihgfr9w",
        "outputId": "fd3c728e-76bd-4b32-d24e-724445c5aa8a"
      },
      "id": "bC4e3Ihgfr9w",
      "execution_count": 175,
      "outputs": [
        {
          "output_type": "stream",
          "name": "stdout",
          "text": [
            "Hit:1 https://developer.download.nvidia.com/compute/cuda/repos/ubuntu2004/x86_64  InRelease\n",
            "Get:2 https://cloud.r-project.org/bin/linux/ubuntu focal-cran40/ InRelease [3,622 B]\n",
            "Get:3 http://security.ubuntu.com/ubuntu focal-security InRelease [114 kB]\n",
            "Hit:4 http://archive.ubuntu.com/ubuntu focal InRelease\n",
            "Hit:5 http://ppa.launchpad.net/c2d4u.team/c2d4u4.0+/ubuntu focal InRelease\n",
            "Get:6 http://archive.ubuntu.com/ubuntu focal-updates InRelease [114 kB]\n",
            "Hit:7 http://ppa.launchpad.net/cran/libgit2/ubuntu focal InRelease\n",
            "Hit:8 http://ppa.launchpad.net/deadsnakes/ppa/ubuntu focal InRelease\n",
            "Get:9 http://archive.ubuntu.com/ubuntu focal-backports InRelease [108 kB]\n",
            "Hit:10 http://ppa.launchpad.net/graphics-drivers/ppa/ubuntu focal InRelease\n",
            "Hit:11 http://ppa.launchpad.net/ubuntugis/ppa/ubuntu focal InRelease\n",
            "Fetched 340 kB in 3s (129 kB/s)\n",
            "Reading package lists... Done\n"
          ]
        }
      ]
    },
    {
      "cell_type": "code",
      "execution_count": 176,
      "id": "10bc7487",
      "metadata": {
        "id": "10bc7487"
      },
      "outputs": [],
      "source": [
        "# Importing our dependencies\n",
        "import pandas as pd\n",
        "from pyspark import SparkFiles\n",
        "import findspark\n",
        "findspark.init()\n",
        "from pyspark.sql import SparkSession"
      ]
    },
    {
      "cell_type": "code",
      "execution_count": 177,
      "id": "3dc0928b",
      "metadata": {
        "id": "3dc0928b"
      },
      "outputs": [],
      "source": [
        "# Creating a spark session\n",
        "spark = SparkSession.builder.appName(\"SparkSQL\").getOrCreate()"
      ]
    },
    {
      "cell_type": "code",
      "execution_count": 178,
      "id": "a614dcd7",
      "metadata": {
        "colab": {
          "base_uri": "https://localhost:8080/"
        },
        "id": "a614dcd7",
        "outputId": "0b0abf3c-f336-4297-e5d6-43aaf9b61fc4"
      },
      "outputs": [
        {
          "output_type": "stream",
          "name": "stdout",
          "text": [
            "+--------------------+--------------------+----------+----------+------------+------+----+--------+-----------+------------+----------------+--------+-------+-------+--------------------+\n",
            "|          track.name|          album_name|album_type|popularity|danceability|energy| key|loudness|speechiness|acousticness|instrumentalness|liveness|valence|  tempo|              artist|\n",
            "+--------------------+--------------------+----------+----------+------------+------+----+--------+-----------+------------+----------------+--------+-------+-------+--------------------+\n",
            "|#Sarkanbaltsarkanais|#Sarkanbaltsarkanais|    single|      38.0|       0.738| 0.785|11.0|  -5.003|      0.104|      0.0608|             0.0|   0.403|  0.626|110.118|   Bermudu Divstūris|\n",
            "|  'Til We Meet Again|MY WORLD - The 3r...|    single|      63.0|       0.474| 0.857| 5.0|  -2.577|     0.0571|       0.134|             0.0|   0.113|  0.552| 155.71|               aespa|\n",
            "|               00:00|               00:00|    single|      60.0|       0.563| 0.572| 4.0|  -8.769|      0.125|        0.64|         0.00227|     0.1|  0.392| 95.013|            Lartiste|\n",
            "|                0321|                0321|    single|      67.0|       0.658| 0.417| 2.0|  -6.485|     0.0366|       0.625|             0.0|   0.132| 0.0748|171.974|             space x|\n",
            "|       085 - Ao Vivo|  Pode Crê (Ao Vivo)|     album|      83.0|        0.85| 0.655| 2.0|  -2.891|     0.0298|       0.211|             0.0|   0.952|  0.797|106.031|        MC Rogerinho|\n",
            "|                   1|                   1|    single|      68.0|       0.832| 0.617| 5.0|  -8.412|      0.055|      0.0911|         1.73E-5|   0.123|  0.608|125.994|             Broiler|\n",
            "|            10 AF 10|                 600|     album|      42.0|       0.542| 0.513| 1.0|  -6.683|      0.236|      0.0707|         1.79E-4|    0.31|   0.35|100.762|              Daniil|\n",
            "|          10 minutes|          10 minutes|    single|      64.0|       0.597| 0.494|11.0|  -8.263|      0.469|       0.189|         1.55E-6|  0.0813|  0.504|139.889|                 PLK|\n",
            "|            100 OPPS|            100 OPPS|    single|      73.0|        0.77| 0.578| 1.0|  -3.726|     0.0977|      0.0522|             0.0|  0.0795|   0.66| 151.24|               Shiva|\n",
            "|            100 lány|            100 lány|    single|      41.0|       0.847| 0.607| 1.0|  -8.057|      0.212|       0.444|         2.72E-6|  0.0956|  0.613| 110.04|              VALMAR|\n",
            "|               10:35|               DRIVE|     album|      75.0|       0.696| 0.793| 8.0|  -5.733|      0.097|      0.0683|         3.78E-6|    0.18|  0.698|120.003|              Tiësto|\n",
            "|                10MG|                10MG|    single|      75.0|       0.737| 0.488| 1.0|  -9.751|      0.196|       0.595|         1.53E-5|   0.103|  0.248|127.124|              Motive|\n",
            "| 115万キロのフィルム|      エスカパレード|     album|      74.0|       0.516| 0.791| 3.0|  -1.927|     0.0318|     0.00345|             0.0|   0.141|   0.48| 96.921|OFFICIAL HIGE DAN...|\n",
            "|                  17|     Ceramics Runway|    single|      74.0|       0.748| 0.837|10.0|  -4.783|      0.161|       0.155|         0.00426|   0.126|   0.97|150.073|               ADAAM|\n",
            "|               17 år|  Och vinnaren är...|     album|      68.0|        0.76| 0.675| 1.0|  -6.299|     0.0254|       0.244|         8.42E-6|   0.105|  0.783|106.942|     Veronica Maggio|\n",
            "|17. Mai er vi så ...|17. Mai er vi så ...|    single|      58.0|       0.652| 0.593| 4.0|  -8.957|      0.363|       0.151|           0.073|   0.472|  0.624|127.928|        RykkinnFella|\n",
            "|              17.mai|SÅ KLART DET GJØR...|     album|      45.0|       0.641| 0.674|10.0|  -9.184|     0.0879|        0.49|         1.97E-4|   0.283|  0.227|119.895|               Ramón|\n",
            "|1700 Waiting (Rad...|1700 Waiting (Rad...|    single|      20.0|       0.703| 0.714| 0.0|  -5.341|     0.0305|      0.0108|             0.0|   0.296|  0.289|100.047|            DJ CHRXN|\n",
            "|                  18|       FOUR (Deluxe)|     album|      83.0|       0.681| 0.582| 6.0|   -7.76|     0.0313|        0.22|             0.0|   0.119|  0.221|124.038|       One Direction|\n",
            "|              1Trago|              1Trago|    single|      78.0|       0.669| 0.829| 0.0|  -5.008|     0.0369|      0.0253|             0.0|  0.0635|  0.369|121.978|         Danna Paola|\n",
            "+--------------------+--------------------+----------+----------+------------+------+----+--------+-----------+------------+----------------+--------+-------+-------+--------------------+\n",
            "only showing top 20 rows\n",
            "\n"
          ]
        }
      ],
      "source": [
        "# Importing and reading the clean data using spark\n",
        "clean_df = spark.read.csv(\"/content/clean_May_tracks.csv\", header=True, inferSchema=True)\n",
        "\n",
        "# Showing DataFrame\n",
        "clean_df.show()"
      ]
    },
    {
      "cell_type": "code",
      "execution_count": 179,
      "id": "8167feac",
      "metadata": {
        "id": "8167feac"
      },
      "outputs": [],
      "source": [
        "# Creating our temporary view\n",
        "clean_df.createOrReplaceTempView('spotify')"
      ]
    },
    {
      "cell_type": "code",
      "execution_count": 180,
      "id": "9ccae1a0",
      "metadata": {
        "colab": {
          "base_uri": "https://localhost:8080/"
        },
        "id": "9ccae1a0",
        "outputId": "e8f315fe-534b-45ab-bd87-1abe0649602e"
      },
      "outputs": [
        {
          "output_type": "stream",
          "name": "stdout",
          "text": [
            "+------------+---------------+\n",
            "|      artist|number_of_songs|\n",
            "+------------+---------------+\n",
            "|    Azahriah|             21|\n",
            "|    Måneskin|             18|\n",
            "|       RICTA|             17|\n",
            "|       Separ|             16|\n",
            "| Hafdís Huld|             15|\n",
            "|   BLACKPINK|             15|\n",
            "|Taylor Swift|             14|\n",
            "|  Emis Killa|             14|\n",
            "|      FLY LO|             14|\n",
            "|   Baby Gang|             14|\n",
            "+------------+---------------+\n",
            "\n"
          ]
        }
      ],
      "source": [
        "# Most number of songs released per artist - top 10\n",
        "spark.sql(\"\"\"\n",
        "  SELECT\n",
        "    artist,\n",
        "    count(*) AS number_of_songs\n",
        "  FROM spotify\n",
        "  GROUP BY artist\n",
        "  ORDER BY 2 DESC\n",
        "  LIMIT 10\n",
        "  \"\"\").show()"
      ]
    },
    {
      "cell_type": "code",
      "execution_count": 181,
      "id": "bc0f1b94",
      "metadata": {
        "id": "bc0f1b94"
      },
      "outputs": [],
      "source": [
        "# Converting spark dataframe to pandas dataframe\n",
        "track_df = clean_df.toPandas()"
      ]
    },
    {
      "cell_type": "code",
      "execution_count": 182,
      "id": "1db7b612",
      "metadata": {
        "colab": {
          "base_uri": "https://localhost:8080/"
        },
        "id": "1db7b612",
        "outputId": "6963b024-31b6-407d-c97c-4e42aae1e292"
      },
      "outputs": [
        {
          "output_type": "execute_result",
          "data": {
            "text/plain": [
              "track.name           object\n",
              "album_name           object\n",
              "album_type           object\n",
              "popularity           object\n",
              "danceability         object\n",
              "energy              float64\n",
              "key                 float64\n",
              "loudness            float64\n",
              "speechiness         float64\n",
              "acousticness        float64\n",
              "instrumentalness    float64\n",
              "liveness            float64\n",
              "valence             float64\n",
              "tempo               float64\n",
              "artist               object\n",
              "dtype: object"
            ]
          },
          "metadata": {},
          "execution_count": 182
        }
      ],
      "source": [
        "# Checking the data types\n",
        "track_df.dtypes"
      ]
    },
    {
      "cell_type": "code",
      "execution_count": 183,
      "id": "0659786d",
      "metadata": {
        "colab": {
          "base_uri": "https://localhost:8080/"
        },
        "id": "0659786d",
        "outputId": "5f47a599-c73a-4c4a-fccf-5f1db538f38b"
      },
      "outputs": [
        {
          "output_type": "execute_result",
          "data": {
            "text/plain": [
              "63.0            88\n",
              "56.0            85\n",
              "64.0            81\n",
              "74.0            78\n",
              "73.0            78\n",
              "                ..\n",
              "98.0             1\n",
              "10.0             1\n",
              "13.0             1\n",
              " Vol. 10\"\")\"     1\n",
              "100.0            1\n",
              "Name: popularity, Length: 101, dtype: int64"
            ]
          },
          "metadata": {},
          "execution_count": 183
        }
      ],
      "source": [
        "# Checking unique popularity values - found string in one of the rows\n",
        "track_df['popularity'].value_counts()"
      ]
    },
    {
      "cell_type": "code",
      "execution_count": 184,
      "id": "d86bcfc4",
      "metadata": {
        "id": "d86bcfc4"
      },
      "outputs": [],
      "source": [
        "# Removing the row with popularity value as a string\n",
        "track_df = track_df[~track_df['popularity'].str.contains(' ')]"
      ]
    },
    {
      "cell_type": "code",
      "execution_count": 185,
      "id": "2743a018",
      "metadata": {
        "id": "2743a018"
      },
      "outputs": [],
      "source": [
        "# Converting popularity and danceability to float data types\n",
        "track_df['popularity'] = track_df['popularity'].astype(float)\n",
        "track_df['danceability'] = track_df['danceability'].astype(float)"
      ]
    },
    {
      "cell_type": "code",
      "source": [],
      "metadata": {
        "id": "nFHV7RAT1SKF"
      },
      "id": "nFHV7RAT1SKF",
      "execution_count": null,
      "outputs": []
    },
    {
      "cell_type": "markdown",
      "id": "15bc1c6e",
      "metadata": {
        "id": "15bc1c6e"
      },
      "source": [
        "# Feature Engineering -\n",
        "Since our goal is to be able to identify which tracks will be popular, we need to feature engineer a new column by binarizing the popularity column. To be able to do this, we need to decide on a cut-off point of popularity score which if a song stays above this cut-off point it will be considered \"popular\" and if it stays below it will be considered \"not popular\". We can start off by taking a look at the distribution of the popularity score distribution."
      ]
    },
    {
      "cell_type": "code",
      "execution_count": 186,
      "id": "88071c8c",
      "metadata": {
        "id": "88071c8c"
      },
      "outputs": [],
      "source": [
        "# Importing libraries\n",
        "import matplotlib.pyplot as plt\n",
        "import seaborn as sns"
      ]
    },
    {
      "cell_type": "code",
      "execution_count": 187,
      "id": "d3b89141",
      "metadata": {
        "colab": {
          "base_uri": "https://localhost:8080/",
          "height": 450
        },
        "id": "d3b89141",
        "outputId": "9b64c161-5513-4c8d-e8e3-b78dcf44a6da"
      },
      "outputs": [
        {
          "output_type": "stream",
          "name": "stderr",
          "text": [
            "<ipython-input-187-3ecc36483fe5>:2: FutureWarning: The default value of numeric_only in DataFrame.corr is deprecated. In a future version, it will default to False. Select only valid columns or specify the value of numeric_only to silence this warning.\n",
            "  track_df.corr()\n"
          ]
        },
        {
          "output_type": "execute_result",
          "data": {
            "text/plain": [
              "                  popularity  danceability    energy       key  loudness  \\\n",
              "popularity          1.000000     -0.054423  0.016424 -0.007676  0.159569   \n",
              "danceability       -0.054423      1.000000  0.125778  0.043556  0.070837   \n",
              "energy              0.016424      0.125778  1.000000  0.034755  0.700485   \n",
              "key                -0.007676      0.043556  0.034755  1.000000  0.030573   \n",
              "loudness            0.159569      0.070837  0.700485  0.030573  1.000000   \n",
              "speechiness        -0.158958      0.169038  0.008383  0.029615 -0.067835   \n",
              "acousticness       -0.010214     -0.187504 -0.533418 -0.033034 -0.363211   \n",
              "instrumentalness   -0.027113     -0.017882 -0.060217 -0.001755 -0.220618   \n",
              "liveness            0.023117     -0.119558  0.167635  0.004458  0.111077   \n",
              "valence            -0.040645      0.369787  0.336553  0.075491  0.252590   \n",
              "tempo               0.033167     -0.146266  0.081133  0.020454  0.052744   \n",
              "\n",
              "                  speechiness  acousticness  instrumentalness  liveness  \\\n",
              "popularity          -0.158958     -0.010214         -0.027113  0.023117   \n",
              "danceability         0.169038     -0.187504         -0.017882 -0.119558   \n",
              "energy               0.008383     -0.533418         -0.060217  0.167635   \n",
              "key                  0.029615     -0.033034         -0.001755  0.004458   \n",
              "loudness            -0.067835     -0.363211         -0.220618  0.111077   \n",
              "speechiness          1.000000     -0.005330         -0.045710 -0.018776   \n",
              "acousticness        -0.005330      1.000000         -0.010252 -0.039812   \n",
              "instrumentalness    -0.045710     -0.010252          1.000000 -0.030214   \n",
              "liveness            -0.018776     -0.039812         -0.030214  1.000000   \n",
              "valence              0.058101     -0.142881         -0.083187  0.065367   \n",
              "tempo                0.054575     -0.045792          0.014306  0.028622   \n",
              "\n",
              "                   valence     tempo  \n",
              "popularity       -0.040645  0.033167  \n",
              "danceability      0.369787 -0.146266  \n",
              "energy            0.336553  0.081133  \n",
              "key               0.075491  0.020454  \n",
              "loudness          0.252590  0.052744  \n",
              "speechiness       0.058101  0.054575  \n",
              "acousticness     -0.142881 -0.045792  \n",
              "instrumentalness -0.083187  0.014306  \n",
              "liveness          0.065367  0.028622  \n",
              "valence           1.000000  0.048473  \n",
              "tempo             0.048473  1.000000  "
            ],
            "text/html": [
              "\n",
              "  <div id=\"df-6ec3256f-2886-48aa-9e78-984d3e45d7d5\">\n",
              "    <div class=\"colab-df-container\">\n",
              "      <div>\n",
              "<style scoped>\n",
              "    .dataframe tbody tr th:only-of-type {\n",
              "        vertical-align: middle;\n",
              "    }\n",
              "\n",
              "    .dataframe tbody tr th {\n",
              "        vertical-align: top;\n",
              "    }\n",
              "\n",
              "    .dataframe thead th {\n",
              "        text-align: right;\n",
              "    }\n",
              "</style>\n",
              "<table border=\"1\" class=\"dataframe\">\n",
              "  <thead>\n",
              "    <tr style=\"text-align: right;\">\n",
              "      <th></th>\n",
              "      <th>popularity</th>\n",
              "      <th>danceability</th>\n",
              "      <th>energy</th>\n",
              "      <th>key</th>\n",
              "      <th>loudness</th>\n",
              "      <th>speechiness</th>\n",
              "      <th>acousticness</th>\n",
              "      <th>instrumentalness</th>\n",
              "      <th>liveness</th>\n",
              "      <th>valence</th>\n",
              "      <th>tempo</th>\n",
              "    </tr>\n",
              "  </thead>\n",
              "  <tbody>\n",
              "    <tr>\n",
              "      <th>popularity</th>\n",
              "      <td>1.000000</td>\n",
              "      <td>-0.054423</td>\n",
              "      <td>0.016424</td>\n",
              "      <td>-0.007676</td>\n",
              "      <td>0.159569</td>\n",
              "      <td>-0.158958</td>\n",
              "      <td>-0.010214</td>\n",
              "      <td>-0.027113</td>\n",
              "      <td>0.023117</td>\n",
              "      <td>-0.040645</td>\n",
              "      <td>0.033167</td>\n",
              "    </tr>\n",
              "    <tr>\n",
              "      <th>danceability</th>\n",
              "      <td>-0.054423</td>\n",
              "      <td>1.000000</td>\n",
              "      <td>0.125778</td>\n",
              "      <td>0.043556</td>\n",
              "      <td>0.070837</td>\n",
              "      <td>0.169038</td>\n",
              "      <td>-0.187504</td>\n",
              "      <td>-0.017882</td>\n",
              "      <td>-0.119558</td>\n",
              "      <td>0.369787</td>\n",
              "      <td>-0.146266</td>\n",
              "    </tr>\n",
              "    <tr>\n",
              "      <th>energy</th>\n",
              "      <td>0.016424</td>\n",
              "      <td>0.125778</td>\n",
              "      <td>1.000000</td>\n",
              "      <td>0.034755</td>\n",
              "      <td>0.700485</td>\n",
              "      <td>0.008383</td>\n",
              "      <td>-0.533418</td>\n",
              "      <td>-0.060217</td>\n",
              "      <td>0.167635</td>\n",
              "      <td>0.336553</td>\n",
              "      <td>0.081133</td>\n",
              "    </tr>\n",
              "    <tr>\n",
              "      <th>key</th>\n",
              "      <td>-0.007676</td>\n",
              "      <td>0.043556</td>\n",
              "      <td>0.034755</td>\n",
              "      <td>1.000000</td>\n",
              "      <td>0.030573</td>\n",
              "      <td>0.029615</td>\n",
              "      <td>-0.033034</td>\n",
              "      <td>-0.001755</td>\n",
              "      <td>0.004458</td>\n",
              "      <td>0.075491</td>\n",
              "      <td>0.020454</td>\n",
              "    </tr>\n",
              "    <tr>\n",
              "      <th>loudness</th>\n",
              "      <td>0.159569</td>\n",
              "      <td>0.070837</td>\n",
              "      <td>0.700485</td>\n",
              "      <td>0.030573</td>\n",
              "      <td>1.000000</td>\n",
              "      <td>-0.067835</td>\n",
              "      <td>-0.363211</td>\n",
              "      <td>-0.220618</td>\n",
              "      <td>0.111077</td>\n",
              "      <td>0.252590</td>\n",
              "      <td>0.052744</td>\n",
              "    </tr>\n",
              "    <tr>\n",
              "      <th>speechiness</th>\n",
              "      <td>-0.158958</td>\n",
              "      <td>0.169038</td>\n",
              "      <td>0.008383</td>\n",
              "      <td>0.029615</td>\n",
              "      <td>-0.067835</td>\n",
              "      <td>1.000000</td>\n",
              "      <td>-0.005330</td>\n",
              "      <td>-0.045710</td>\n",
              "      <td>-0.018776</td>\n",
              "      <td>0.058101</td>\n",
              "      <td>0.054575</td>\n",
              "    </tr>\n",
              "    <tr>\n",
              "      <th>acousticness</th>\n",
              "      <td>-0.010214</td>\n",
              "      <td>-0.187504</td>\n",
              "      <td>-0.533418</td>\n",
              "      <td>-0.033034</td>\n",
              "      <td>-0.363211</td>\n",
              "      <td>-0.005330</td>\n",
              "      <td>1.000000</td>\n",
              "      <td>-0.010252</td>\n",
              "      <td>-0.039812</td>\n",
              "      <td>-0.142881</td>\n",
              "      <td>-0.045792</td>\n",
              "    </tr>\n",
              "    <tr>\n",
              "      <th>instrumentalness</th>\n",
              "      <td>-0.027113</td>\n",
              "      <td>-0.017882</td>\n",
              "      <td>-0.060217</td>\n",
              "      <td>-0.001755</td>\n",
              "      <td>-0.220618</td>\n",
              "      <td>-0.045710</td>\n",
              "      <td>-0.010252</td>\n",
              "      <td>1.000000</td>\n",
              "      <td>-0.030214</td>\n",
              "      <td>-0.083187</td>\n",
              "      <td>0.014306</td>\n",
              "    </tr>\n",
              "    <tr>\n",
              "      <th>liveness</th>\n",
              "      <td>0.023117</td>\n",
              "      <td>-0.119558</td>\n",
              "      <td>0.167635</td>\n",
              "      <td>0.004458</td>\n",
              "      <td>0.111077</td>\n",
              "      <td>-0.018776</td>\n",
              "      <td>-0.039812</td>\n",
              "      <td>-0.030214</td>\n",
              "      <td>1.000000</td>\n",
              "      <td>0.065367</td>\n",
              "      <td>0.028622</td>\n",
              "    </tr>\n",
              "    <tr>\n",
              "      <th>valence</th>\n",
              "      <td>-0.040645</td>\n",
              "      <td>0.369787</td>\n",
              "      <td>0.336553</td>\n",
              "      <td>0.075491</td>\n",
              "      <td>0.252590</td>\n",
              "      <td>0.058101</td>\n",
              "      <td>-0.142881</td>\n",
              "      <td>-0.083187</td>\n",
              "      <td>0.065367</td>\n",
              "      <td>1.000000</td>\n",
              "      <td>0.048473</td>\n",
              "    </tr>\n",
              "    <tr>\n",
              "      <th>tempo</th>\n",
              "      <td>0.033167</td>\n",
              "      <td>-0.146266</td>\n",
              "      <td>0.081133</td>\n",
              "      <td>0.020454</td>\n",
              "      <td>0.052744</td>\n",
              "      <td>0.054575</td>\n",
              "      <td>-0.045792</td>\n",
              "      <td>0.014306</td>\n",
              "      <td>0.028622</td>\n",
              "      <td>0.048473</td>\n",
              "      <td>1.000000</td>\n",
              "    </tr>\n",
              "  </tbody>\n",
              "</table>\n",
              "</div>\n",
              "      <button class=\"colab-df-convert\" onclick=\"convertToInteractive('df-6ec3256f-2886-48aa-9e78-984d3e45d7d5')\"\n",
              "              title=\"Convert this dataframe to an interactive table.\"\n",
              "              style=\"display:none;\">\n",
              "        \n",
              "  <svg xmlns=\"http://www.w3.org/2000/svg\" height=\"24px\"viewBox=\"0 0 24 24\"\n",
              "       width=\"24px\">\n",
              "    <path d=\"M0 0h24v24H0V0z\" fill=\"none\"/>\n",
              "    <path d=\"M18.56 5.44l.94 2.06.94-2.06 2.06-.94-2.06-.94-.94-2.06-.94 2.06-2.06.94zm-11 1L8.5 8.5l.94-2.06 2.06-.94-2.06-.94L8.5 2.5l-.94 2.06-2.06.94zm10 10l.94 2.06.94-2.06 2.06-.94-2.06-.94-.94-2.06-.94 2.06-2.06.94z\"/><path d=\"M17.41 7.96l-1.37-1.37c-.4-.4-.92-.59-1.43-.59-.52 0-1.04.2-1.43.59L10.3 9.45l-7.72 7.72c-.78.78-.78 2.05 0 2.83L4 21.41c.39.39.9.59 1.41.59.51 0 1.02-.2 1.41-.59l7.78-7.78 2.81-2.81c.8-.78.8-2.07 0-2.86zM5.41 20L4 18.59l7.72-7.72 1.47 1.35L5.41 20z\"/>\n",
              "  </svg>\n",
              "      </button>\n",
              "      \n",
              "  <style>\n",
              "    .colab-df-container {\n",
              "      display:flex;\n",
              "      flex-wrap:wrap;\n",
              "      gap: 12px;\n",
              "    }\n",
              "\n",
              "    .colab-df-convert {\n",
              "      background-color: #E8F0FE;\n",
              "      border: none;\n",
              "      border-radius: 50%;\n",
              "      cursor: pointer;\n",
              "      display: none;\n",
              "      fill: #1967D2;\n",
              "      height: 32px;\n",
              "      padding: 0 0 0 0;\n",
              "      width: 32px;\n",
              "    }\n",
              "\n",
              "    .colab-df-convert:hover {\n",
              "      background-color: #E2EBFA;\n",
              "      box-shadow: 0px 1px 2px rgba(60, 64, 67, 0.3), 0px 1px 3px 1px rgba(60, 64, 67, 0.15);\n",
              "      fill: #174EA6;\n",
              "    }\n",
              "\n",
              "    [theme=dark] .colab-df-convert {\n",
              "      background-color: #3B4455;\n",
              "      fill: #D2E3FC;\n",
              "    }\n",
              "\n",
              "    [theme=dark] .colab-df-convert:hover {\n",
              "      background-color: #434B5C;\n",
              "      box-shadow: 0px 1px 3px 1px rgba(0, 0, 0, 0.15);\n",
              "      filter: drop-shadow(0px 1px 2px rgba(0, 0, 0, 0.3));\n",
              "      fill: #FFFFFF;\n",
              "    }\n",
              "  </style>\n",
              "\n",
              "      <script>\n",
              "        const buttonEl =\n",
              "          document.querySelector('#df-6ec3256f-2886-48aa-9e78-984d3e45d7d5 button.colab-df-convert');\n",
              "        buttonEl.style.display =\n",
              "          google.colab.kernel.accessAllowed ? 'block' : 'none';\n",
              "\n",
              "        async function convertToInteractive(key) {\n",
              "          const element = document.querySelector('#df-6ec3256f-2886-48aa-9e78-984d3e45d7d5');\n",
              "          const dataTable =\n",
              "            await google.colab.kernel.invokeFunction('convertToInteractive',\n",
              "                                                     [key], {});\n",
              "          if (!dataTable) return;\n",
              "\n",
              "          const docLinkHtml = 'Like what you see? Visit the ' +\n",
              "            '<a target=\"_blank\" href=https://colab.research.google.com/notebooks/data_table.ipynb>data table notebook</a>'\n",
              "            + ' to learn more about interactive tables.';\n",
              "          element.innerHTML = '';\n",
              "          dataTable['output_type'] = 'display_data';\n",
              "          await google.colab.output.renderOutput(dataTable, element);\n",
              "          const docLink = document.createElement('div');\n",
              "          docLink.innerHTML = docLinkHtml;\n",
              "          element.appendChild(docLink);\n",
              "        }\n",
              "      </script>\n",
              "    </div>\n",
              "  </div>\n",
              "  "
            ]
          },
          "metadata": {},
          "execution_count": 187
        }
      ],
      "source": [
        "# Checking whether variables are correlated with each other\n",
        "track_df.corr()"
      ]
    },
    {
      "cell_type": "code",
      "execution_count": 188,
      "id": "0c5bb932",
      "metadata": {
        "colab": {
          "base_uri": "https://localhost:8080/",
          "height": 597
        },
        "id": "0c5bb932",
        "outputId": "c571ab64-0897-428d-a3d2-c4f2166d0f9e"
      },
      "outputs": [
        {
          "output_type": "stream",
          "name": "stderr",
          "text": [
            "<ipython-input-188-271fc6f9fbde>:2: FutureWarning: The default value of numeric_only in DataFrame.corr is deprecated. In a future version, it will default to False. Select only valid columns or specify the value of numeric_only to silence this warning.\n",
            "  ax = sns.heatmap(track_df.corr(), annot=False)\n"
          ]
        },
        {
          "output_type": "display_data",
          "data": {
            "text/plain": [
              "<Figure size 640x480 with 2 Axes>"
            ],
            "image/png": "[encoded data removed]"
          },
          "metadata": {}
        }
      ],
      "source": [
        "# Creating a heatmap to visualize correlations\n",
        "ax = sns.heatmap(track_df.corr(), annot=False)"
      ]
    },
    {
      "cell_type": "code",
      "execution_count": 189,
      "id": "2368e72a",
      "metadata": {
        "colab": {
          "base_uri": "https://localhost:8080/",
          "height": 526
        },
        "id": "2368e72a",
        "outputId": "b4e4dd3a-121a-484d-e7fc-0915e0b74593"
      },
      "outputs": [
        {
          "output_type": "display_data",
          "data": {
            "text/plain": [
              "<Figure size 640x480 with 1 Axes>"
            ],
            "image/png": "[encoded data removed]"
          },
          "metadata": {}
        },
        {
          "output_type": "stream",
          "name": "stdout",
          "text": [
            "Mean Popularity: 63.281999324552515\n",
            "Median Popularity: 65.0\n",
            "75th Percentile Popularity: 77.0\n"
          ]
        }
      ],
      "source": [
        "# Distribution of popularity\n",
        "\n",
        "# Plotting a histogram of the 'popularity' feature\n",
        "plt.hist(track_df['popularity'], bins=20)\n",
        "plt.xlabel('Popularity')\n",
        "plt.ylabel('Frequency')\n",
        "plt.title('Distribution of Popularity')\n",
        "plt.show()\n",
        "\n",
        "# Calculating summary statistics to find cut-off value\n",
        "popularity_mean = track_df['popularity'].mean()\n",
        "popularity_median = track_df['popularity'].median()\n",
        "popularity_percentile = track_df['popularity'].quantile(0.75)\n",
        "\n",
        "print(\"Mean Popularity:\", popularity_mean)\n",
        "print(\"Median Popularity:\", popularity_median)\n",
        "print(\"75th Percentile Popularity:\", popularity_percentile)"
      ]
    },
    {
      "cell_type": "markdown",
      "source": [
        "**Dataset overview:**\n",
        "\n",
        "Mean Popularity: 63.281999324552515\n",
        "\n",
        "Median Popularity: 65.0\n",
        "\n",
        "75th Percentile Popularity: 77.0"
      ],
      "metadata": {
        "id": "30Besdzh1nvl"
      },
      "id": "30Besdzh1nvl"
    },
    {
      "cell_type": "code",
      "execution_count": 190,
      "id": "54c5d335",
      "metadata": {
        "colab": {
          "base_uri": "https://localhost:8080/",
          "height": 322
        },
        "id": "54c5d335",
        "outputId": "223050f3-9df5-4ac6-ef75-4ae1271bbb2f"
      },
      "outputs": [
        {
          "output_type": "execute_result",
          "data": {
            "text/plain": [
              "             track.name                     album_name album_type  popularity  \\\n",
              "0  #Sarkanbaltsarkanais           #Sarkanbaltsarkanais     single        38.0   \n",
              "1    'Til We Meet Again  MY WORLD - The 3rd Mini Album     single        63.0   \n",
              "2                 00:00                          00:00     single        60.0   \n",
              "3                  0321                           0321     single        67.0   \n",
              "4         085 - Ao Vivo             Pode Crê (Ao Vivo)      album        83.0   \n",
              "\n",
              "   danceability  energy   key  loudness  speechiness  acousticness  \\\n",
              "0         0.738   0.785  11.0    -5.003       0.1040        0.0608   \n",
              "1         0.474   0.857   5.0    -2.577       0.0571        0.1340   \n",
              "2         0.563   0.572   4.0    -8.769       0.1250        0.6400   \n",
              "3         0.658   0.417   2.0    -6.485       0.0366        0.6250   \n",
              "4         0.850   0.655   2.0    -2.891       0.0298        0.2110   \n",
              "\n",
              "   instrumentalness  liveness  valence    tempo             artist  is_popular  \n",
              "0           0.00000     0.403   0.6260  110.118  Bermudu Divstūris           0  \n",
              "1           0.00000     0.113   0.5520  155.710              aespa           0  \n",
              "2           0.00227     0.100   0.3920   95.013           Lartiste           0  \n",
              "3           0.00000     0.132   0.0748  171.974            space x           1  \n",
              "4           0.00000     0.952   0.7970  106.031       MC Rogerinho           1  "
            ],
            "text/html": [
              "\n",
              "  <div id=\"df-54938f7f-ed8d-4f39-a368-d13ccc98cc75\">\n",
              "    <div class=\"colab-df-container\">\n",
              "      <div>\n",
              "<style scoped>\n",
              "    .dataframe tbody tr th:only-of-type {\n",
              "        vertical-align: middle;\n",
              "    }\n",
              "\n",
              "    .dataframe tbody tr th {\n",
              "        vertical-align: top;\n",
              "    }\n",
              "\n",
              "    .dataframe thead th {\n",
              "        text-align: right;\n",
              "    }\n",
              "</style>\n",
              "<table border=\"1\" class=\"dataframe\">\n",
              "  <thead>\n",
              "    <tr style=\"text-align: right;\">\n",
              "      <th></th>\n",
              "      <th>track.name</th>\n",
              "      <th>album_name</th>\n",
              "      <th>album_type</th>\n",
              "      <th>popularity</th>\n",
              "      <th>danceability</th>\n",
              "      <th>energy</th>\n",
              "      <th>key</th>\n",
              "      <th>loudness</th>\n",
              "      <th>speechiness</th>\n",
              "      <th>acousticness</th>\n",
              "      <th>instrumentalness</th>\n",
              "      <th>liveness</th>\n",
              "      <th>valence</th>\n",
              "      <th>tempo</th>\n",
              "      <th>artist</th>\n",
              "      <th>is_popular</th>\n",
              "    </tr>\n",
              "  </thead>\n",
              "  <tbody>\n",
              "    <tr>\n",
              "      <th>0</th>\n",
              "      <td>#Sarkanbaltsarkanais</td>\n",
              "      <td>#Sarkanbaltsarkanais</td>\n",
              "      <td>single</td>\n",
              "      <td>38.0</td>\n",
              "      <td>0.738</td>\n",
              "      <td>0.785</td>\n",
              "      <td>11.0</td>\n",
              "      <td>-5.003</td>\n",
              "      <td>0.1040</td>\n",
              "      <td>0.0608</td>\n",
              "      <td>0.00000</td>\n",
              "      <td>0.403</td>\n",
              "      <td>0.6260</td>\n",
              "      <td>110.118</td>\n",
              "      <td>Bermudu Divstūris</td>\n",
              "      <td>0</td>\n",
              "    </tr>\n",
              "    <tr>\n",
              "      <th>1</th>\n",
              "      <td>'Til We Meet Again</td>\n",
              "      <td>MY WORLD - The 3rd Mini Album</td>\n",
              "      <td>single</td>\n",
              "      <td>63.0</td>\n",
              "      <td>0.474</td>\n",
              "      <td>0.857</td>\n",
              "      <td>5.0</td>\n",
              "      <td>-2.577</td>\n",
              "      <td>0.0571</td>\n",
              "      <td>0.1340</td>\n",
              "      <td>0.00000</td>\n",
              "      <td>0.113</td>\n",
              "      <td>0.5520</td>\n",
              "      <td>155.710</td>\n",
              "      <td>aespa</td>\n",
              "      <td>0</td>\n",
              "    </tr>\n",
              "    <tr>\n",
              "      <th>2</th>\n",
              "      <td>00:00</td>\n",
              "      <td>00:00</td>\n",
              "      <td>single</td>\n",
              "      <td>60.0</td>\n",
              "      <td>0.563</td>\n",
              "      <td>0.572</td>\n",
              "      <td>4.0</td>\n",
              "      <td>-8.769</td>\n",
              "      <td>0.1250</td>\n",
              "      <td>0.6400</td>\n",
              "      <td>0.00227</td>\n",
              "      <td>0.100</td>\n",
              "      <td>0.3920</td>\n",
              "      <td>95.013</td>\n",
              "      <td>Lartiste</td>\n",
              "      <td>0</td>\n",
              "    </tr>\n",
              "    <tr>\n",
              "      <th>3</th>\n",
              "      <td>0321</td>\n",
              "      <td>0321</td>\n",
              "      <td>single</td>\n",
              "      <td>67.0</td>\n",
              "      <td>0.658</td>\n",
              "      <td>0.417</td>\n",
              "      <td>2.0</td>\n",
              "      <td>-6.485</td>\n",
              "      <td>0.0366</td>\n",
              "      <td>0.6250</td>\n",
              "      <td>0.00000</td>\n",
              "      <td>0.132</td>\n",
              "      <td>0.0748</td>\n",
              "      <td>171.974</td>\n",
              "      <td>space x</td>\n",
              "      <td>1</td>\n",
              "    </tr>\n",
              "    <tr>\n",
              "      <th>4</th>\n",
              "      <td>085 - Ao Vivo</td>\n",
              "      <td>Pode Crê (Ao Vivo)</td>\n",
              "      <td>album</td>\n",
              "      <td>83.0</td>\n",
              "      <td>0.850</td>\n",
              "      <td>0.655</td>\n",
              "      <td>2.0</td>\n",
              "      <td>-2.891</td>\n",
              "      <td>0.0298</td>\n",
              "      <td>0.2110</td>\n",
              "      <td>0.00000</td>\n",
              "      <td>0.952</td>\n",
              "      <td>0.7970</td>\n",
              "      <td>106.031</td>\n",
              "      <td>MC Rogerinho</td>\n",
              "      <td>1</td>\n",
              "    </tr>\n",
              "  </tbody>\n",
              "</table>\n",
              "</div>\n",
              "      <button class=\"colab-df-convert\" onclick=\"convertToInteractive('df-54938f7f-ed8d-4f39-a368-d13ccc98cc75')\"\n",
              "              title=\"Convert this dataframe to an interactive table.\"\n",
              "              style=\"display:none;\">\n",
              "        \n",
              "  <svg xmlns=\"http://www.w3.org/2000/svg\" height=\"24px\"viewBox=\"0 0 24 24\"\n",
              "       width=\"24px\">\n",
              "    <path d=\"M0 0h24v24H0V0z\" fill=\"none\"/>\n",
              "    <path d=\"M18.56 5.44l.94 2.06.94-2.06 2.06-.94-2.06-.94-.94-2.06-.94 2.06-2.06.94zm-11 1L8.5 8.5l.94-2.06 2.06-.94-2.06-.94L8.5 2.5l-.94 2.06-2.06.94zm10 10l.94 2.06.94-2.06 2.06-.94-2.06-.94-.94-2.06-.94 2.06-2.06.94z\"/><path d=\"M17.41 7.96l-1.37-1.37c-.4-.4-.92-.59-1.43-.59-.52 0-1.04.2-1.43.59L10.3 9.45l-7.72 7.72c-.78.78-.78 2.05 0 2.83L4 21.41c.39.39.9.59 1.41.59.51 0 1.02-.2 1.41-.59l7.78-7.78 2.81-2.81c.8-.78.8-2.07 0-2.86zM5.41 20L4 18.59l7.72-7.72 1.47 1.35L5.41 20z\"/>\n",
              "  </svg>\n",
              "      </button>\n",
              "      \n",
              "  <style>\n",
              "    .colab-df-container {\n",
              "      display:flex;\n",
              "      flex-wrap:wrap;\n",
              "      gap: 12px;\n",
              "    }\n",
              "\n",
              "    .colab-df-convert {\n",
              "      background-color: #E8F0FE;\n",
              "      border: none;\n",
              "      border-radius: 50%;\n",
              "      cursor: pointer;\n",
              "      display: none;\n",
              "      fill: #1967D2;\n",
              "      height: 32px;\n",
              "      padding: 0 0 0 0;\n",
              "      width: 32px;\n",
              "    }\n",
              "\n",
              "    .colab-df-convert:hover {\n",
              "      background-color: #E2EBFA;\n",
              "      box-shadow: 0px 1px 2px rgba(60, 64, 67, 0.3), 0px 1px 3px 1px rgba(60, 64, 67, 0.15);\n",
              "      fill: #174EA6;\n",
              "    }\n",
              "\n",
              "    [theme=dark] .colab-df-convert {\n",
              "      background-color: #3B4455;\n",
              "      fill: #D2E3FC;\n",
              "    }\n",
              "\n",
              "    [theme=dark] .colab-df-convert:hover {\n",
              "      background-color: #434B5C;\n",
              "      box-shadow: 0px 1px 3px 1px rgba(0, 0, 0, 0.15);\n",
              "      filter: drop-shadow(0px 1px 2px rgba(0, 0, 0, 0.3));\n",
              "      fill: #FFFFFF;\n",
              "    }\n",
              "  </style>\n",
              "\n",
              "      <script>\n",
              "        const buttonEl =\n",
              "          document.querySelector('#df-54938f7f-ed8d-4f39-a368-d13ccc98cc75 button.colab-df-convert');\n",
              "        buttonEl.style.display =\n",
              "          google.colab.kernel.accessAllowed ? 'block' : 'none';\n",
              "\n",
              "        async function convertToInteractive(key) {\n",
              "          const element = document.querySelector('#df-54938f7f-ed8d-4f39-a368-d13ccc98cc75');\n",
              "          const dataTable =\n",
              "            await google.colab.kernel.invokeFunction('convertToInteractive',\n",
              "                                                     [key], {});\n",
              "          if (!dataTable) return;\n",
              "\n",
              "          const docLinkHtml = 'Like what you see? Visit the ' +\n",
              "            '<a target=\"_blank\" href=https://colab.research.google.com/notebooks/data_table.ipynb>data table notebook</a>'\n",
              "            + ' to learn more about interactive tables.';\n",
              "          element.innerHTML = '';\n",
              "          dataTable['output_type'] = 'display_data';\n",
              "          await google.colab.output.renderOutput(dataTable, element);\n",
              "          const docLink = document.createElement('div');\n",
              "          docLink.innerHTML = docLinkHtml;\n",
              "          element.appendChild(docLink);\n",
              "        }\n",
              "      </script>\n",
              "    </div>\n",
              "  </div>\n",
              "  "
            ]
          },
          "metadata": {},
          "execution_count": 190
        }
      ],
      "source": [
        "# Creating is_popular column with our cutoff point - considering 65 as our cutoff value from the median popularity\n",
        "track_df['is_popular']=(track_df['popularity']>=65).astype('int')\n",
        "track_df.head()"
      ]
    },
    {
      "cell_type": "code",
      "execution_count": 191,
      "id": "d4dcd07a",
      "metadata": {
        "colab": {
          "base_uri": "https://localhost:8080/",
          "height": 322
        },
        "id": "d4dcd07a",
        "outputId": "4a1e1864-c62d-4c5b-dcd1-c71174136c96"
      },
      "outputs": [
        {
          "output_type": "execute_result",
          "data": {
            "text/plain": [
              "             track.name                     album_name album_type  \\\n",
              "0  #Sarkanbaltsarkanais           #Sarkanbaltsarkanais     single   \n",
              "1    'Til We Meet Again  MY WORLD - The 3rd Mini Album     single   \n",
              "2                 00:00                          00:00     single   \n",
              "3                  0321                           0321     single   \n",
              "4         085 - Ao Vivo             Pode Crê (Ao Vivo)      album   \n",
              "\n",
              "   danceability  energy   key  loudness  speechiness  acousticness  \\\n",
              "0         0.738   0.785  11.0    -5.003       0.1040        0.0608   \n",
              "1         0.474   0.857   5.0    -2.577       0.0571        0.1340   \n",
              "2         0.563   0.572   4.0    -8.769       0.1250        0.6400   \n",
              "3         0.658   0.417   2.0    -6.485       0.0366        0.6250   \n",
              "4         0.850   0.655   2.0    -2.891       0.0298        0.2110   \n",
              "\n",
              "   instrumentalness  liveness  valence    tempo             artist  is_popular  \n",
              "0           0.00000     0.403   0.6260  110.118  Bermudu Divstūris           0  \n",
              "1           0.00000     0.113   0.5520  155.710              aespa           0  \n",
              "2           0.00227     0.100   0.3920   95.013           Lartiste           0  \n",
              "3           0.00000     0.132   0.0748  171.974            space x           1  \n",
              "4           0.00000     0.952   0.7970  106.031       MC Rogerinho           1  "
            ],
            "text/html": [
              "\n",
              "  <div id=\"df-77f92ad0-59b9-4a05-847b-39d78b006617\">\n",
              "    <div class=\"colab-df-container\">\n",
              "      <div>\n",
              "<style scoped>\n",
              "    .dataframe tbody tr th:only-of-type {\n",
              "        vertical-align: middle;\n",
              "    }\n",
              "\n",
              "    .dataframe tbody tr th {\n",
              "        vertical-align: top;\n",
              "    }\n",
              "\n",
              "    .dataframe thead th {\n",
              "        text-align: right;\n",
              "    }\n",
              "</style>\n",
              "<table border=\"1\" class=\"dataframe\">\n",
              "  <thead>\n",
              "    <tr style=\"text-align: right;\">\n",
              "      <th></th>\n",
              "      <th>track.name</th>\n",
              "      <th>album_name</th>\n",
              "      <th>album_type</th>\n",
              "      <th>danceability</th>\n",
              "      <th>energy</th>\n",
              "      <th>key</th>\n",
              "      <th>loudness</th>\n",
              "      <th>speechiness</th>\n",
              "      <th>acousticness</th>\n",
              "      <th>instrumentalness</th>\n",
              "      <th>liveness</th>\n",
              "      <th>valence</th>\n",
              "      <th>tempo</th>\n",
              "      <th>artist</th>\n",
              "      <th>is_popular</th>\n",
              "    </tr>\n",
              "  </thead>\n",
              "  <tbody>\n",
              "    <tr>\n",
              "      <th>0</th>\n",
              "      <td>#Sarkanbaltsarkanais</td>\n",
              "      <td>#Sarkanbaltsarkanais</td>\n",
              "      <td>single</td>\n",
              "      <td>0.738</td>\n",
              "      <td>0.785</td>\n",
              "      <td>11.0</td>\n",
              "      <td>-5.003</td>\n",
              "      <td>0.1040</td>\n",
              "      <td>0.0608</td>\n",
              "      <td>0.00000</td>\n",
              "      <td>0.403</td>\n",
              "      <td>0.6260</td>\n",
              "      <td>110.118</td>\n",
              "      <td>Bermudu Divstūris</td>\n",
              "      <td>0</td>\n",
              "    </tr>\n",
              "    <tr>\n",
              "      <th>1</th>\n",
              "      <td>'Til We Meet Again</td>\n",
              "      <td>MY WORLD - The 3rd Mini Album</td>\n",
              "      <td>single</td>\n",
              "      <td>0.474</td>\n",
              "      <td>0.857</td>\n",
              "      <td>5.0</td>\n",
              "      <td>-2.577</td>\n",
              "      <td>0.0571</td>\n",
              "      <td>0.1340</td>\n",
              "      <td>0.00000</td>\n",
              "      <td>0.113</td>\n",
              "      <td>0.5520</td>\n",
              "      <td>155.710</td>\n",
              "      <td>aespa</td>\n",
              "      <td>0</td>\n",
              "    </tr>\n",
              "    <tr>\n",
              "      <th>2</th>\n",
              "      <td>00:00</td>\n",
              "      <td>00:00</td>\n",
              "      <td>single</td>\n",
              "      <td>0.563</td>\n",
              "      <td>0.572</td>\n",
              "      <td>4.0</td>\n",
              "      <td>-8.769</td>\n",
              "      <td>0.1250</td>\n",
              "      <td>0.6400</td>\n",
              "      <td>0.00227</td>\n",
              "      <td>0.100</td>\n",
              "      <td>0.3920</td>\n",
              "      <td>95.013</td>\n",
              "      <td>Lartiste</td>\n",
              "      <td>0</td>\n",
              "    </tr>\n",
              "    <tr>\n",
              "      <th>3</th>\n",
              "      <td>0321</td>\n",
              "      <td>0321</td>\n",
              "      <td>single</td>\n",
              "      <td>0.658</td>\n",
              "      <td>0.417</td>\n",
              "      <td>2.0</td>\n",
              "      <td>-6.485</td>\n",
              "      <td>0.0366</td>\n",
              "      <td>0.6250</td>\n",
              "      <td>0.00000</td>\n",
              "      <td>0.132</td>\n",
              "      <td>0.0748</td>\n",
              "      <td>171.974</td>\n",
              "      <td>space x</td>\n",
              "      <td>1</td>\n",
              "    </tr>\n",
              "    <tr>\n",
              "      <th>4</th>\n",
              "      <td>085 - Ao Vivo</td>\n",
              "      <td>Pode Crê (Ao Vivo)</td>\n",
              "      <td>album</td>\n",
              "      <td>0.850</td>\n",
              "      <td>0.655</td>\n",
              "      <td>2.0</td>\n",
              "      <td>-2.891</td>\n",
              "      <td>0.0298</td>\n",
              "      <td>0.2110</td>\n",
              "      <td>0.00000</td>\n",
              "      <td>0.952</td>\n",
              "      <td>0.7970</td>\n",
              "      <td>106.031</td>\n",
              "      <td>MC Rogerinho</td>\n",
              "      <td>1</td>\n",
              "    </tr>\n",
              "  </tbody>\n",
              "</table>\n",
              "</div>\n",
              "      <button class=\"colab-df-convert\" onclick=\"convertToInteractive('df-77f92ad0-59b9-4a05-847b-39d78b006617')\"\n",
              "              title=\"Convert this dataframe to an interactive table.\"\n",
              "              style=\"display:none;\">\n",
              "        \n",
              "  <svg xmlns=\"http://www.w3.org/2000/svg\" height=\"24px\"viewBox=\"0 0 24 24\"\n",
              "       width=\"24px\">\n",
              "    <path d=\"M0 0h24v24H0V0z\" fill=\"none\"/>\n",
              "    <path d=\"M18.56 5.44l.94 2.06.94-2.06 2.06-.94-2.06-.94-.94-2.06-.94 2.06-2.06.94zm-11 1L8.5 8.5l.94-2.06 2.06-.94-2.06-.94L8.5 2.5l-.94 2.06-2.06.94zm10 10l.94 2.06.94-2.06 2.06-.94-2.06-.94-.94-2.06-.94 2.06-2.06.94z\"/><path d=\"M17.41 7.96l-1.37-1.37c-.4-.4-.92-.59-1.43-.59-.52 0-1.04.2-1.43.59L10.3 9.45l-7.72 7.72c-.78.78-.78 2.05 0 2.83L4 21.41c.39.39.9.59 1.41.59.51 0 1.02-.2 1.41-.59l7.78-7.78 2.81-2.81c.8-.78.8-2.07 0-2.86zM5.41 20L4 18.59l7.72-7.72 1.47 1.35L5.41 20z\"/>\n",
              "  </svg>\n",
              "      </button>\n",
              "      \n",
              "  <style>\n",
              "    .colab-df-container {\n",
              "      display:flex;\n",
              "      flex-wrap:wrap;\n",
              "      gap: 12px;\n",
              "    }\n",
              "\n",
              "    .colab-df-convert {\n",
              "      background-color: #E8F0FE;\n",
              "      border: none;\n",
              "      border-radius: 50%;\n",
              "      cursor: pointer;\n",
              "      display: none;\n",
              "      fill: #1967D2;\n",
              "      height: 32px;\n",
              "      padding: 0 0 0 0;\n",
              "      width: 32px;\n",
              "    }\n",
              "\n",
              "    .colab-df-convert:hover {\n",
              "      background-color: #E2EBFA;\n",
              "      box-shadow: 0px 1px 2px rgba(60, 64, 67, 0.3), 0px 1px 3px 1px rgba(60, 64, 67, 0.15);\n",
              "      fill: #174EA6;\n",
              "    }\n",
              "\n",
              "    [theme=dark] .colab-df-convert {\n",
              "      background-color: #3B4455;\n",
              "      fill: #D2E3FC;\n",
              "    }\n",
              "\n",
              "    [theme=dark] .colab-df-convert:hover {\n",
              "      background-color: #434B5C;\n",
              "      box-shadow: 0px 1px 3px 1px rgba(0, 0, 0, 0.15);\n",
              "      filter: drop-shadow(0px 1px 2px rgba(0, 0, 0, 0.3));\n",
              "      fill: #FFFFFF;\n",
              "    }\n",
              "  </style>\n",
              "\n",
              "      <script>\n",
              "        const buttonEl =\n",
              "          document.querySelector('#df-77f92ad0-59b9-4a05-847b-39d78b006617 button.colab-df-convert');\n",
              "        buttonEl.style.display =\n",
              "          google.colab.kernel.accessAllowed ? 'block' : 'none';\n",
              "\n",
              "        async function convertToInteractive(key) {\n",
              "          const element = document.querySelector('#df-77f92ad0-59b9-4a05-847b-39d78b006617');\n",
              "          const dataTable =\n",
              "            await google.colab.kernel.invokeFunction('convertToInteractive',\n",
              "                                                     [key], {});\n",
              "          if (!dataTable) return;\n",
              "\n",
              "          const docLinkHtml = 'Like what you see? Visit the ' +\n",
              "            '<a target=\"_blank\" href=https://colab.research.google.com/notebooks/data_table.ipynb>data table notebook</a>'\n",
              "            + ' to learn more about interactive tables.';\n",
              "          element.innerHTML = '';\n",
              "          dataTable['output_type'] = 'display_data';\n",
              "          await google.colab.output.renderOutput(dataTable, element);\n",
              "          const docLink = document.createElement('div');\n",
              "          docLink.innerHTML = docLinkHtml;\n",
              "          element.appendChild(docLink);\n",
              "        }\n",
              "      </script>\n",
              "    </div>\n",
              "  </div>\n",
              "  "
            ]
          },
          "metadata": {},
          "execution_count": 191
        }
      ],
      "source": [
        "# Dropping popularity score column since we will not be using it\n",
        "track_df.drop(['popularity'], axis=1, inplace=True)\n",
        "track_df.head()"
      ]
    },
    {
      "cell_type": "code",
      "execution_count": 192,
      "id": "44ef0bdf",
      "metadata": {
        "colab": {
          "base_uri": "https://localhost:8080/"
        },
        "id": "44ef0bdf",
        "outputId": "9d1bc780-5a12-4b58-fed4-18f0a529e36a"
      },
      "outputs": [
        {
          "output_type": "execute_result",
          "data": {
            "text/plain": [
              "1    1525\n",
              "0    1436\n",
              "Name: is_popular, dtype: int64"
            ]
          },
          "metadata": {},
          "execution_count": 192
        }
      ],
      "source": [
        "# Seeing the distribution of data points in each category\n",
        "track_df[\"is_popular\"].value_counts()"
      ]
    },
    {
      "cell_type": "markdown",
      "id": "c24f8b12",
      "metadata": {
        "id": "c24f8b12"
      },
      "source": [
        "# Logistic Regression Model with the Original Data"
      ]
    },
    {
      "cell_type": "code",
      "execution_count": 193,
      "id": "acc47420",
      "metadata": {
        "id": "acc47420"
      },
      "outputs": [],
      "source": [
        "# Importing dependencies related to model building\n",
        "import numpy as np\n",
        "from sklearn.model_selection import train_test_split\n",
        "from sklearn.preprocessing import StandardScaler\n",
        "from sklearn.linear_model import LogisticRegression\n",
        "from sklearn.metrics import accuracy_score, balanced_accuracy_score, confusion_matrix, classification_report\n",
        "import tensorflow as tf"
      ]
    },
    {
      "cell_type": "code",
      "execution_count": 194,
      "id": "5804f9a6",
      "metadata": {
        "id": "5804f9a6"
      },
      "outputs": [],
      "source": [
        "# Splitting the data into features (X) and target (y)\n",
        "y = track_df[['is_popular']]\n",
        "X = track_df[['speechiness','acousticness','liveness','valence','energy','loudness']]"
      ]
    },
    {
      "cell_type": "code",
      "execution_count": 195,
      "id": "422c9487",
      "metadata": {
        "id": "422c9487"
      },
      "outputs": [],
      "source": [
        "# Splitting the data using train_test_split\n",
        "x_train,x_test,y_train,y_test= train_test_split(X,y)"
      ]
    },
    {
      "cell_type": "code",
      "execution_count": 196,
      "id": "63eb8808",
      "metadata": {
        "colab": {
          "base_uri": "https://localhost:8080/"
        },
        "id": "63eb8808",
        "outputId": "bdadf7f6-40a0-4304-dd6f-f242b8faf51c"
      },
      "outputs": [
        {
          "output_type": "stream",
          "name": "stderr",
          "text": [
            "/usr/local/lib/python3.10/dist-packages/sklearn/utils/validation.py:1143: DataConversionWarning: A column-vector y was passed when a 1d array was expected. Please change the shape of y to (n_samples, ), for example using ravel().\n",
            "  y = column_or_1d(y, warn=True)\n"
          ]
        }
      ],
      "source": [
        "# Instantiating the Logistic Regression model and assigning a random_state parameter of 1 to the model\n",
        "logistic_regression_model = LogisticRegression(random_state=1)\n",
        "\n",
        "# Fitting the model using training data\n",
        "lr_model = logistic_regression_model.fit(x_train, y_train)"
      ]
    },
    {
      "cell_type": "code",
      "execution_count": 197,
      "id": "a48aed88",
      "metadata": {
        "id": "a48aed88"
      },
      "outputs": [],
      "source": [
        "# Making a prediction using the testing data\n",
        "testing_predictions = lr_model.predict(x_test)"
      ]
    },
    {
      "cell_type": "code",
      "execution_count": 198,
      "id": "66e3a179",
      "metadata": {
        "colab": {
          "base_uri": "https://localhost:8080/"
        },
        "id": "66e3a179",
        "outputId": "330e856b-22b8-4591-c5bf-da6a8899cd73"
      },
      "outputs": [
        {
          "output_type": "stream",
          "name": "stdout",
          "text": [
            "Training Data Score: 0.6013513513513513\n",
            "Testing Data Score: 0.6167341430499326\n",
            "Balanced Accuracy Score: 0.6137811634349031\n"
          ]
        }
      ],
      "source": [
        "# Printing the accuracy and balanced accuracy score of the model\n",
        "print(f\"Training Data Score: {lr_model.score(x_train, y_train)}\")\n",
        "print(f\"Testing Data Score: {lr_model.score(x_test, y_test)}\")\n",
        "print(f\"Balanced Accuracy Score: {balanced_accuracy_score(y_test, testing_predictions)}\")"
      ]
    },
    {
      "cell_type": "code",
      "execution_count": 199,
      "id": "3fc2319e",
      "metadata": {
        "colab": {
          "base_uri": "https://localhost:8080/"
        },
        "id": "3fc2319e",
        "outputId": "ac08db65-8e51-46e4-bc04-7ed4117cb595"
      },
      "outputs": [
        {
          "output_type": "stream",
          "name": "stdout",
          "text": [
            "[[180 181]\n",
            " [103 277]]\n"
          ]
        }
      ],
      "source": [
        "# Generating a confusion matrix for the model\n",
        "testing_matrix = confusion_matrix(y_test, testing_predictions)\n",
        "print(testing_matrix)"
      ]
    },
    {
      "cell_type": "code",
      "execution_count": 200,
      "id": "ae768563",
      "metadata": {
        "colab": {
          "base_uri": "https://localhost:8080/"
        },
        "id": "ae768563",
        "outputId": "e0d46529-820b-40e9-a0bd-c956da58e40c"
      },
      "outputs": [
        {
          "output_type": "stream",
          "name": "stdout",
          "text": [
            "              precision    recall  f1-score   support\n",
            "\n",
            "           0       0.64      0.50      0.56       361\n",
            "           1       0.60      0.73      0.66       380\n",
            "\n",
            "    accuracy                           0.62       741\n",
            "   macro avg       0.62      0.61      0.61       741\n",
            "weighted avg       0.62      0.62      0.61       741\n",
            "\n"
          ]
        }
      ],
      "source": [
        "# Printing the classification report for the model\n",
        "testing_report = classification_report(y_test, testing_predictions)\n",
        "print(testing_report)"
      ]
    },
    {
      "cell_type": "markdown",
      "id": "75d8b066",
      "metadata": {
        "id": "75d8b066"
      },
      "source": [
        "For the \"0\" label (NOT POPULAR), the precision is 0.64, indicating that the model  predicts not popular track with a precision of 64%. For the \"1\" label (popular), the precision is 0.60, meaning that when the model predicts popular track, it is correct around 60% of the time.\n",
        "\n",
        "For the \"0\" label (Not popular), the recall is 0.50, . For the \"1\" label (POPULAR), the recall is 0.73, meaning that the model captures approximately 73% of the actual popular track.\n",
        "\n",
        "Overall, the logistic regression model demonstrates  predictive performance for both the \"0\" and \"1\" labels."
      ]
    },
    {
      "cell_type": "markdown",
      "id": "da251157",
      "metadata": {
        "id": "da251157"
      },
      "source": [
        "# Predict a Logistic Regression Model with Resampled Training Data"
      ]
    },
    {
      "cell_type": "code",
      "execution_count": 201,
      "id": "1357b9ff",
      "metadata": {
        "id": "1357b9ff"
      },
      "outputs": [],
      "source": [
        "# Importing the RandomOverSampler module form imbalanced-learn\n",
        "from imblearn.over_sampling import RandomOverSampler\n",
        "\n",
        "# Instantiating the random oversampler model and assigning a random_state parameter of 1 to the model\n",
        "ROS = RandomOverSampler(random_state=1)\n",
        "\n",
        "# Fitting the original training data to the random_oversampler model\n",
        "x_resampled, y_resampled= ROS.fit_resample(x_train, y_train)"
      ]
    },
    {
      "cell_type": "code",
      "execution_count": 202,
      "id": "becff54f",
      "metadata": {
        "colab": {
          "base_uri": "https://localhost:8080/"
        },
        "id": "becff54f",
        "outputId": "a945f52d-b1ba-423f-a11d-192686cd4d92"
      },
      "outputs": [
        {
          "output_type": "execute_result",
          "data": {
            "text/plain": [
              "is_popular\n",
              "0             1145\n",
              "1             1145\n",
              "dtype: int64"
            ]
          },
          "metadata": {},
          "execution_count": 202
        }
      ],
      "source": [
        "# Counting the distinct values of the resampled labels data\n",
        "y_resampled.value_counts()"
      ]
    },
    {
      "cell_type": "code",
      "execution_count": 203,
      "id": "64db3b94",
      "metadata": {
        "colab": {
          "base_uri": "https://localhost:8080/"
        },
        "id": "64db3b94",
        "outputId": "94cd3afd-7db4-41da-9163-88028081a49c"
      },
      "outputs": [
        {
          "output_type": "stream",
          "name": "stderr",
          "text": [
            "/usr/local/lib/python3.10/dist-packages/sklearn/utils/validation.py:1143: DataConversionWarning: A column-vector y was passed when a 1d array was expected. Please change the shape of y to (n_samples, ), for example using ravel().\n",
            "  y = column_or_1d(y, warn=True)\n"
          ]
        }
      ],
      "source": [
        "# Instantiating the Logistic Regression model and assigning a random_state parameter of 1 to the model\n",
        "from sklearn.linear_model import LogisticRegression\n",
        "ros_model = LogisticRegression(solver='lbfgs', random_state=1)\n",
        "\n",
        "\n",
        "# Fitting the model using the resampled training data\n",
        "ros_model.fit(x_resampled, y_resampled)\n",
        "\n",
        "\n",
        "# Making a prediction using the testing data\n",
        "y_prediction = ros_model.predict(x_test)"
      ]
    },
    {
      "cell_type": "code",
      "execution_count": 204,
      "id": "3bfa8128",
      "metadata": {
        "colab": {
          "base_uri": "https://localhost:8080/"
        },
        "id": "3bfa8128",
        "outputId": "9cf9bf65-5119-459f-fbee-6ea2f04ba908"
      },
      "outputs": [
        {
          "output_type": "stream",
          "name": "stdout",
          "text": [
            "Training Data Score: 0.5981981981981982\n",
            "Testing Data Score: 0.6194331983805668\n",
            "Balanced Accuracy Score: 0.6174515235457063\n"
          ]
        }
      ],
      "source": [
        "# Printing the accuracy and balanced accuracy score of the model\n",
        "print(f\"Training Data Score: {ros_model.score(x_train, y_train)}\")\n",
        "print(f\"Testing Data Score: {ros_model.score(x_test, y_test)}\")\n",
        "print(f\"Balanced Accuracy Score: {balanced_accuracy_score(y_test, y_prediction)}\")"
      ]
    },
    {
      "cell_type": "code",
      "execution_count": 205,
      "id": "a8c0032e",
      "metadata": {
        "colab": {
          "base_uri": "https://localhost:8080/"
        },
        "id": "a8c0032e",
        "outputId": "8fac398a-d9ff-409e-e8fe-2a97a9e3f626"
      },
      "outputs": [
        {
          "output_type": "stream",
          "name": "stdout",
          "text": [
            "[[195 166]\n",
            " [116 264]]\n"
          ]
        }
      ],
      "source": [
        "# Generating a confusion matrix for the model\n",
        "ros_testing_matrix = confusion_matrix(y_test, y_prediction)\n",
        "print(ros_testing_matrix)"
      ]
    },
    {
      "cell_type": "code",
      "execution_count": 206,
      "id": "cb07b8f7",
      "metadata": {
        "colab": {
          "base_uri": "https://localhost:8080/"
        },
        "id": "cb07b8f7",
        "outputId": "bae87e95-e69e-41fd-a4dc-35eeb901f5f9"
      },
      "outputs": [
        {
          "output_type": "stream",
          "name": "stdout",
          "text": [
            "              precision    recall  f1-score   support\n",
            "\n",
            "           0       0.63      0.54      0.58       361\n",
            "           1       0.61      0.69      0.65       380\n",
            "\n",
            "    accuracy                           0.62       741\n",
            "   macro avg       0.62      0.62      0.62       741\n",
            "weighted avg       0.62      0.62      0.62       741\n",
            "\n"
          ]
        }
      ],
      "source": [
        "# Printing the classification report for the model\n",
        "ros_testing_report = classification_report(y_test, y_prediction)\n",
        "print(ros_testing_report)"
      ]
    },
    {
      "cell_type": "markdown",
      "source": [
        "For the \"0\" label (NOT POPULAR), the precision is 0.64, indicating that the model  predicts not popular track with a precision of 64%. For the \"1\" label (popular), the precision is 0.60, meaning that when the model predicts popular track, it is correct around 60% of the time.\n",
        "\n",
        "For the \"0\" label (Not popular), the recall is 0.50, . For the \"1\" label (POPULAR), the recall is 0.73, meaning that the model captures approximately 73% of the actual popular track.\n",
        "\n",
        "Overall, the logistic regression model demonstrates  predictive performance for both the \"0\" and \"1\" labels."
      ],
      "metadata": {
        "id": "c4MkhAVw2qgC"
      },
      "id": "c4MkhAVw2qgC"
    },
    {
      "cell_type": "markdown",
      "id": "55045ca9",
      "metadata": {
        "id": "55045ca9"
      },
      "source": [
        "**Conclusion from the 2 logistic regression models**\n",
        "\n",
        "Comparing the two models, it appears that there is not a big difference between the accuracy of the logistic regression model with resampled data and the model with the original data. Model with the resampled data achieved a slightly higher recall and F1-score for class 0 but lower recall and F1-score for class 1 as well as 1% lower . Resampling the data helped to balance the class distribution and improve the model's performance in identifying both classes more accurately."
      ]
    },
    {
      "cell_type": "markdown",
      "id": "0ef1cfa2",
      "metadata": {
        "id": "0ef1cfa2"
      },
      "source": [
        "# Neural Network"
      ]
    },
    {
      "cell_type": "markdown",
      "source": [
        "Is_popular is our target variables and speechiness, acousticness, liveness, valence, energy and loudness are the feature variables. For the target variable, 1 is considered as Popular and 0 is considered as non-Popular."
      ],
      "metadata": {
        "id": "b9EKKbUL3D67"
      },
      "id": "b9EKKbUL3D67"
    },
    {
      "cell_type": "code",
      "execution_count": 207,
      "id": "59b6dbf6",
      "metadata": {
        "id": "59b6dbf6"
      },
      "outputs": [],
      "source": [
        "# Splitting the data into features (X) and target (y)\n",
        "y = track_df[['is_popular']]\n",
        "X = track_df[['speechiness','acousticness','liveness','valence','energy','loudness']]"
      ]
    },
    {
      "cell_type": "code",
      "execution_count": 208,
      "id": "88eb3b2f",
      "metadata": {
        "id": "88eb3b2f"
      },
      "outputs": [],
      "source": [
        "# Splitting the preprocessed data into a training and testing dataset\n",
        "X_train, X_test, y_train, y_test = train_test_split(X, y, random_state=78)"
      ]
    },
    {
      "cell_type": "code",
      "execution_count": 209,
      "id": "162b9342",
      "metadata": {
        "id": "162b9342"
      },
      "outputs": [],
      "source": [
        "# Creating a StandardScaler instances\n",
        "scaler = StandardScaler()\n",
        "\n",
        "# Fitting the StandardScaler\n",
        "X_scaler = scaler.fit(X_train)\n",
        "\n",
        "# Scaling the data\n",
        "X_train_scaled = X_scaler.transform(X_train)\n",
        "X_test_scaled = X_scaler.transform(X_test)"
      ]
    },
    {
      "cell_type": "code",
      "execution_count": 210,
      "id": "4973c3ab",
      "metadata": {
        "scrolled": true,
        "colab": {
          "base_uri": "https://localhost:8080/"
        },
        "id": "4973c3ab",
        "outputId": "7de5a108-ccbc-449b-a042-b1cd5f1f9309"
      },
      "outputs": [
        {
          "output_type": "stream",
          "name": "stdout",
          "text": [
            "Model: \"sequential_10\"\n",
            "_________________________________________________________________\n",
            " Layer (type)                Output Shape              Param #   \n",
            "=================================================================\n",
            " dense_38 (Dense)            (None, 10)                70        \n",
            "                                                                 \n",
            " dense_39 (Dense)            (None, 20)                220       \n",
            "                                                                 \n",
            " dense_40 (Dense)            (None, 1)                 21        \n",
            "                                                                 \n",
            "=================================================================\n",
            "Total params: 311\n",
            "Trainable params: 311\n",
            "Non-trainable params: 0\n",
            "_________________________________________________________________\n"
          ]
        }
      ],
      "source": [
        "# Defining the model - deep neural net, i.e., the number of input features and hidden nodes for each layer.\n",
        "number_input_features = len(X_train_scaled[0])\n",
        "hidden_nodes_layer1 = 10\n",
        "hidden_nodes_layer2 = 20\n",
        "\n",
        "nn = tf.keras.models.Sequential()\n",
        "\n",
        "# First hidden layer\n",
        "nn.add(tf.keras.layers.Dense(units=hidden_nodes_layer1, input_dim=number_input_features, activation=\"relu\"))\n",
        "\n",
        "# Second hidden layer\n",
        "nn.add(tf.keras.layers.Dense(units=hidden_nodes_layer2, activation=\"relu\"))\n",
        "\n",
        "# Output layer\n",
        "nn.add(tf.keras.layers.Dense(units=1, activation=\"sigmoid\"))\n",
        "\n",
        "# Checking the structure of the model\n",
        "nn.summary()"
      ]
    },
    {
      "cell_type": "code",
      "execution_count": 211,
      "id": "c8baa8ed",
      "metadata": {
        "id": "c8baa8ed"
      },
      "outputs": [],
      "source": [
        "# Compiling the model\n",
        "nn.compile(loss=\"binary_crossentropy\", optimizer=\"adam\", metrics=[\"accuracy\"])"
      ]
    },
    {
      "cell_type": "code",
      "execution_count": 212,
      "id": "00718d0d",
      "metadata": {
        "colab": {
          "base_uri": "https://localhost:8080/"
        },
        "id": "00718d0d",
        "outputId": "ee3987ef-e271-41f3-c1a0-d8bf8631fd80"
      },
      "outputs": [
        {
          "output_type": "stream",
          "name": "stdout",
          "text": [
            "Epoch 1/100\n",
            "70/70 [==============================] - 1s 2ms/step - loss: 0.6816 - accuracy: 0.5590\n",
            "Epoch 2/100\n",
            "70/70 [==============================] - 0s 2ms/step - loss: 0.6692 - accuracy: 0.5869\n",
            "Epoch 3/100\n",
            "70/70 [==============================] - 0s 2ms/step - loss: 0.6639 - accuracy: 0.5968\n",
            "Epoch 4/100\n",
            "70/70 [==============================] - 0s 2ms/step - loss: 0.6607 - accuracy: 0.5977\n",
            "Epoch 5/100\n",
            "70/70 [==============================] - 0s 2ms/step - loss: 0.6580 - accuracy: 0.6014\n",
            "Epoch 6/100\n",
            "70/70 [==============================] - 0s 2ms/step - loss: 0.6573 - accuracy: 0.6072\n",
            "Epoch 7/100\n",
            "70/70 [==============================] - 0s 2ms/step - loss: 0.6558 - accuracy: 0.6086\n",
            "Epoch 8/100\n",
            "70/70 [==============================] - 0s 2ms/step - loss: 0.6552 - accuracy: 0.6099\n",
            "Epoch 9/100\n",
            "70/70 [==============================] - 0s 2ms/step - loss: 0.6537 - accuracy: 0.6113\n",
            "Epoch 10/100\n",
            "70/70 [==============================] - 0s 2ms/step - loss: 0.6533 - accuracy: 0.6158\n",
            "Epoch 11/100\n",
            "70/70 [==============================] - 0s 2ms/step - loss: 0.6526 - accuracy: 0.6144\n",
            "Epoch 12/100\n",
            "70/70 [==============================] - 0s 2ms/step - loss: 0.6521 - accuracy: 0.6149\n",
            "Epoch 13/100\n",
            "70/70 [==============================] - 0s 2ms/step - loss: 0.6516 - accuracy: 0.6180\n",
            "Epoch 14/100\n",
            "70/70 [==============================] - 0s 2ms/step - loss: 0.6512 - accuracy: 0.6194\n",
            "Epoch 15/100\n",
            "70/70 [==============================] - 0s 2ms/step - loss: 0.6506 - accuracy: 0.6149\n",
            "Epoch 16/100\n",
            "70/70 [==============================] - 0s 2ms/step - loss: 0.6495 - accuracy: 0.6171\n",
            "Epoch 17/100\n",
            "70/70 [==============================] - 0s 2ms/step - loss: 0.6494 - accuracy: 0.6212\n",
            "Epoch 18/100\n",
            "70/70 [==============================] - 0s 2ms/step - loss: 0.6489 - accuracy: 0.6230\n",
            "Epoch 19/100\n",
            "70/70 [==============================] - 0s 2ms/step - loss: 0.6480 - accuracy: 0.6185\n",
            "Epoch 20/100\n",
            "70/70 [==============================] - 0s 2ms/step - loss: 0.6482 - accuracy: 0.6203\n",
            "Epoch 21/100\n",
            "70/70 [==============================] - 0s 2ms/step - loss: 0.6479 - accuracy: 0.6212\n",
            "Epoch 22/100\n",
            "70/70 [==============================] - 0s 2ms/step - loss: 0.6466 - accuracy: 0.6207\n",
            "Epoch 23/100\n",
            "70/70 [==============================] - 0s 2ms/step - loss: 0.6467 - accuracy: 0.6234\n",
            "Epoch 24/100\n",
            "70/70 [==============================] - 0s 2ms/step - loss: 0.6458 - accuracy: 0.6252\n",
            "Epoch 25/100\n",
            "70/70 [==============================] - 0s 2ms/step - loss: 0.6454 - accuracy: 0.6221\n",
            "Epoch 26/100\n",
            "70/70 [==============================] - 0s 2ms/step - loss: 0.6454 - accuracy: 0.6243\n",
            "Epoch 27/100\n",
            "70/70 [==============================] - 0s 2ms/step - loss: 0.6449 - accuracy: 0.6221\n",
            "Epoch 28/100\n",
            "70/70 [==============================] - 0s 2ms/step - loss: 0.6441 - accuracy: 0.6248\n",
            "Epoch 29/100\n",
            "70/70 [==============================] - 0s 2ms/step - loss: 0.6436 - accuracy: 0.6279\n",
            "Epoch 30/100\n",
            "70/70 [==============================] - 0s 2ms/step - loss: 0.6432 - accuracy: 0.6207\n",
            "Epoch 31/100\n",
            "70/70 [==============================] - 0s 2ms/step - loss: 0.6432 - accuracy: 0.6279\n",
            "Epoch 32/100\n",
            "70/70 [==============================] - 0s 2ms/step - loss: 0.6428 - accuracy: 0.6198\n",
            "Epoch 33/100\n",
            "70/70 [==============================] - 0s 2ms/step - loss: 0.6434 - accuracy: 0.6207\n",
            "Epoch 34/100\n",
            "70/70 [==============================] - 0s 2ms/step - loss: 0.6416 - accuracy: 0.6234\n",
            "Epoch 35/100\n",
            "70/70 [==============================] - 0s 2ms/step - loss: 0.6415 - accuracy: 0.6243\n",
            "Epoch 36/100\n",
            "70/70 [==============================] - 0s 2ms/step - loss: 0.6409 - accuracy: 0.6257\n",
            "Epoch 37/100\n",
            "70/70 [==============================] - 0s 2ms/step - loss: 0.6403 - accuracy: 0.6270\n",
            "Epoch 38/100\n",
            "70/70 [==============================] - 0s 2ms/step - loss: 0.6409 - accuracy: 0.6239\n",
            "Epoch 39/100\n",
            "70/70 [==============================] - 0s 2ms/step - loss: 0.6399 - accuracy: 0.6293\n",
            "Epoch 40/100\n",
            "70/70 [==============================] - 0s 2ms/step - loss: 0.6392 - accuracy: 0.6234\n",
            "Epoch 41/100\n",
            "70/70 [==============================] - 0s 2ms/step - loss: 0.6386 - accuracy: 0.6270\n",
            "Epoch 42/100\n",
            "70/70 [==============================] - 0s 2ms/step - loss: 0.6386 - accuracy: 0.6275\n",
            "Epoch 43/100\n",
            "70/70 [==============================] - 0s 2ms/step - loss: 0.6384 - accuracy: 0.6320\n",
            "Epoch 44/100\n",
            "70/70 [==============================] - 0s 2ms/step - loss: 0.6380 - accuracy: 0.6293\n",
            "Epoch 45/100\n",
            "70/70 [==============================] - 0s 2ms/step - loss: 0.6375 - accuracy: 0.6315\n",
            "Epoch 46/100\n",
            "70/70 [==============================] - 0s 2ms/step - loss: 0.6372 - accuracy: 0.6302\n",
            "Epoch 47/100\n",
            "70/70 [==============================] - 0s 2ms/step - loss: 0.6369 - accuracy: 0.6302\n",
            "Epoch 48/100\n",
            "70/70 [==============================] - 0s 2ms/step - loss: 0.6365 - accuracy: 0.6270\n",
            "Epoch 49/100\n",
            "70/70 [==============================] - 0s 2ms/step - loss: 0.6368 - accuracy: 0.6302\n",
            "Epoch 50/100\n",
            "70/70 [==============================] - 0s 2ms/step - loss: 0.6367 - accuracy: 0.6333\n",
            "Epoch 51/100\n",
            "70/70 [==============================] - 0s 2ms/step - loss: 0.6357 - accuracy: 0.6315\n",
            "Epoch 52/100\n",
            "70/70 [==============================] - 0s 2ms/step - loss: 0.6354 - accuracy: 0.6266\n",
            "Epoch 53/100\n",
            "70/70 [==============================] - 0s 2ms/step - loss: 0.6362 - accuracy: 0.6311\n",
            "Epoch 54/100\n",
            "70/70 [==============================] - 0s 2ms/step - loss: 0.6351 - accuracy: 0.6320\n",
            "Epoch 55/100\n",
            "70/70 [==============================] - 0s 2ms/step - loss: 0.6348 - accuracy: 0.6342\n",
            "Epoch 56/100\n",
            "70/70 [==============================] - 0s 3ms/step - loss: 0.6351 - accuracy: 0.6356\n",
            "Epoch 57/100\n",
            "70/70 [==============================] - 1s 11ms/step - loss: 0.6341 - accuracy: 0.6374\n",
            "Epoch 58/100\n",
            "70/70 [==============================] - 1s 12ms/step - loss: 0.6342 - accuracy: 0.6360\n",
            "Epoch 59/100\n",
            "70/70 [==============================] - 0s 7ms/step - loss: 0.6337 - accuracy: 0.6351\n",
            "Epoch 60/100\n",
            "70/70 [==============================] - 0s 3ms/step - loss: 0.6336 - accuracy: 0.6369\n",
            "Epoch 61/100\n",
            "70/70 [==============================] - 0s 3ms/step - loss: 0.6330 - accuracy: 0.6293\n",
            "Epoch 62/100\n",
            "70/70 [==============================] - 0s 2ms/step - loss: 0.6332 - accuracy: 0.6365\n",
            "Epoch 63/100\n",
            "70/70 [==============================] - 0s 3ms/step - loss: 0.6323 - accuracy: 0.6315\n",
            "Epoch 64/100\n",
            "70/70 [==============================] - 0s 3ms/step - loss: 0.6325 - accuracy: 0.6333\n",
            "Epoch 65/100\n",
            "70/70 [==============================] - 0s 3ms/step - loss: 0.6320 - accuracy: 0.6320\n",
            "Epoch 66/100\n",
            "70/70 [==============================] - 0s 3ms/step - loss: 0.6319 - accuracy: 0.6297\n",
            "Epoch 67/100\n",
            "70/70 [==============================] - 0s 3ms/step - loss: 0.6313 - accuracy: 0.6351\n",
            "Epoch 68/100\n",
            "70/70 [==============================] - 0s 2ms/step - loss: 0.6314 - accuracy: 0.6392\n",
            "Epoch 69/100\n",
            "70/70 [==============================] - 0s 2ms/step - loss: 0.6314 - accuracy: 0.6257\n",
            "Epoch 70/100\n",
            "70/70 [==============================] - 0s 2ms/step - loss: 0.6308 - accuracy: 0.6306\n",
            "Epoch 71/100\n",
            "70/70 [==============================] - 0s 2ms/step - loss: 0.6310 - accuracy: 0.6347\n",
            "Epoch 72/100\n",
            "70/70 [==============================] - 0s 2ms/step - loss: 0.6306 - accuracy: 0.6347\n",
            "Epoch 73/100\n",
            "70/70 [==============================] - 0s 2ms/step - loss: 0.6300 - accuracy: 0.6356\n",
            "Epoch 74/100\n",
            "70/70 [==============================] - 0s 2ms/step - loss: 0.6304 - accuracy: 0.6324\n",
            "Epoch 75/100\n",
            "70/70 [==============================] - 0s 2ms/step - loss: 0.6305 - accuracy: 0.6306\n",
            "Epoch 76/100\n",
            "70/70 [==============================] - 0s 2ms/step - loss: 0.6300 - accuracy: 0.6383\n",
            "Epoch 77/100\n",
            "70/70 [==============================] - 0s 2ms/step - loss: 0.6294 - accuracy: 0.6378\n",
            "Epoch 78/100\n",
            "70/70 [==============================] - 0s 2ms/step - loss: 0.6293 - accuracy: 0.6338\n",
            "Epoch 79/100\n",
            "70/70 [==============================] - 0s 2ms/step - loss: 0.6286 - accuracy: 0.6383\n",
            "Epoch 80/100\n",
            "70/70 [==============================] - 0s 2ms/step - loss: 0.6295 - accuracy: 0.6347\n",
            "Epoch 81/100\n",
            "70/70 [==============================] - 0s 2ms/step - loss: 0.6287 - accuracy: 0.6356\n",
            "Epoch 82/100\n",
            "70/70 [==============================] - 0s 2ms/step - loss: 0.6282 - accuracy: 0.6405\n",
            "Epoch 83/100\n",
            "70/70 [==============================] - 0s 2ms/step - loss: 0.6288 - accuracy: 0.6374\n",
            "Epoch 84/100\n",
            "70/70 [==============================] - 0s 2ms/step - loss: 0.6287 - accuracy: 0.6342\n",
            "Epoch 85/100\n",
            "70/70 [==============================] - 0s 2ms/step - loss: 0.6281 - accuracy: 0.6378\n",
            "Epoch 86/100\n",
            "70/70 [==============================] - 0s 2ms/step - loss: 0.6281 - accuracy: 0.6365\n",
            "Epoch 87/100\n",
            "70/70 [==============================] - 0s 2ms/step - loss: 0.6278 - accuracy: 0.6369\n",
            "Epoch 88/100\n",
            "70/70 [==============================] - 0s 2ms/step - loss: 0.6284 - accuracy: 0.6401\n",
            "Epoch 89/100\n",
            "70/70 [==============================] - 0s 2ms/step - loss: 0.6275 - accuracy: 0.6401\n",
            "Epoch 90/100\n",
            "70/70 [==============================] - 0s 2ms/step - loss: 0.6284 - accuracy: 0.6320\n",
            "Epoch 91/100\n",
            "70/70 [==============================] - 0s 2ms/step - loss: 0.6270 - accuracy: 0.6360\n",
            "Epoch 92/100\n",
            "70/70 [==============================] - 0s 2ms/step - loss: 0.6272 - accuracy: 0.6410\n",
            "Epoch 93/100\n",
            "70/70 [==============================] - 0s 2ms/step - loss: 0.6269 - accuracy: 0.6365\n",
            "Epoch 94/100\n",
            "70/70 [==============================] - 0s 2ms/step - loss: 0.6265 - accuracy: 0.6396\n",
            "Epoch 95/100\n",
            "70/70 [==============================] - 0s 2ms/step - loss: 0.6261 - accuracy: 0.6383\n",
            "Epoch 96/100\n",
            "70/70 [==============================] - 0s 2ms/step - loss: 0.6269 - accuracy: 0.6401\n",
            "Epoch 97/100\n",
            "70/70 [==============================] - 0s 2ms/step - loss: 0.6271 - accuracy: 0.6347\n",
            "Epoch 98/100\n",
            "70/70 [==============================] - 0s 2ms/step - loss: 0.6257 - accuracy: 0.6342\n",
            "Epoch 99/100\n",
            "70/70 [==============================] - 0s 2ms/step - loss: 0.6264 - accuracy: 0.6338\n",
            "Epoch 100/100\n",
            "70/70 [==============================] - 0s 2ms/step - loss: 0.6256 - accuracy: 0.6410\n"
          ]
        }
      ],
      "source": [
        "# Training the model\n",
        "fit_model = nn.fit(X_train_scaled,y_train,epochs=100)"
      ]
    },
    {
      "cell_type": "code",
      "execution_count": 213,
      "id": "bae9f54e",
      "metadata": {
        "colab": {
          "base_uri": "https://localhost:8080/"
        },
        "id": "bae9f54e",
        "outputId": "56105cb7-7e8e-4e9e-d9b4-c85ba6751cc8"
      },
      "outputs": [
        {
          "output_type": "stream",
          "name": "stdout",
          "text": [
            "24/24 - 0s - loss: 0.6809 - accuracy: 0.5803 - 157ms/epoch - 7ms/step\n",
            "Loss: 0.6809135675430298, Accuracy: 0.5802968740463257\n"
          ]
        }
      ],
      "source": [
        "# Evaluating the model using the test data\n",
        "model_loss, model_accuracy = nn.evaluate(X_test_scaled,y_test,verbose=2)\n",
        "print(f\"Loss: {model_loss}, Accuracy: {model_accuracy}\")"
      ]
    },
    {
      "cell_type": "code",
      "execution_count": 214,
      "id": "64a423c2",
      "metadata": {
        "colab": {
          "base_uri": "https://localhost:8080/",
          "height": 448
        },
        "id": "64a423c2",
        "outputId": "dc8c174e-9bf1-40f4-f82a-0930b6e14964"
      },
      "outputs": [
        {
          "output_type": "execute_result",
          "data": {
            "text/plain": [
              "<Axes: >"
            ]
          },
          "metadata": {},
          "execution_count": 214
        },
        {
          "output_type": "display_data",
          "data": {
            "text/plain": [
              "<Figure size 640x480 with 1 Axes>"
            ],
            "image/png": "[encoded data removed]"
          },
          "metadata": {}
        }
      ],
      "source": [
        "# Plotting the accuracy\n",
        "history_df = pd.DataFrame(fit_model.history, index = range(1, len(fit_model.history['loss'])+1))\n",
        "history_df.plot(y = 'accuracy')"
      ]
    },
    {
      "cell_type": "markdown",
      "id": "bb1522af",
      "metadata": {
        "id": "bb1522af"
      },
      "source": [
        "Cutoff = 65\n",
        "\n",
        "Layer1 = 10 : activation function = relu\n",
        "\n",
        "Layer2 = 20 : activation function = relu\n",
        "\n",
        "Loss: 0.6809 - Accuracy: 0.5803\n",
        "\n",
        "A loss value of 68% indicates that the model can be further optimized. The accuracy percent shows that 58% of the model's predicted values align with the true values in the original dataset."
      ]
    },
    {
      "cell_type": "markdown",
      "source": [
        "# Changing activation function"
      ],
      "metadata": {
        "id": "DMIVgdXU83TM"
      },
      "id": "DMIVgdXU83TM"
    },
    {
      "cell_type": "code",
      "source": [
        "# Define the model - deep neural net, i.e., the number of input features and hidden nodes for each layer.\n",
        "number_input_features = len(X_train_scaled[0])\n",
        "hidden_nodes_layer1 = 10\n",
        "hidden_nodes_layer2 = 20\n",
        "\n",
        "\n",
        "nn = tf.keras.models.Sequential()\n",
        "\n",
        "# First hidden layer\n",
        "nn.add(tf.keras.layers.Dense(units=hidden_nodes_layer1, input_dim=number_input_features, activation=\"relu\"))\n",
        "\n",
        "# Second hidden layer\n",
        "nn.add(tf.keras.layers.Dense(units=hidden_nodes_layer2, activation=\"tanh\"))\n",
        "\n",
        "# Output layer\n",
        "nn.add(tf.keras.layers.Dense(units=1, activation=\"sigmoid\"))\n",
        "\n",
        "# Checking the structure of the model\n",
        "nn.summary()"
      ],
      "metadata": {
        "id": "VN5Wn_fi4di0"
      },
      "id": "VN5Wn_fi4di0",
      "execution_count": null,
      "outputs": []
    },
    {
      "cell_type": "code",
      "source": [
        "nn.compile(loss=\"binary_crossentropy\", optimizer=\"adam\", metrics=[\"accuracy\"])"
      ],
      "metadata": {
        "id": "arQOB8is4hD3"
      },
      "id": "arQOB8is4hD3",
      "execution_count": 229,
      "outputs": []
    },
    {
      "cell_type": "code",
      "source": [
        "fit_model = nn.fit(X_train_scaled,y_train,epochs=100)"
      ],
      "metadata": {
        "id": "Mfv_r3924s-Q"
      },
      "id": "Mfv_r3924s-Q",
      "execution_count": null,
      "outputs": []
    },
    {
      "cell_type": "code",
      "source": [
        "# Evaluating the model using the test data\n",
        "model_loss, model_accuracy = nn.evaluate(X_test_scaled,y_test,verbose=2)\n",
        "print(f\"Loss: {model_loss}, Accuracy: {model_accuracy}\")"
      ],
      "metadata": {
        "colab": {
          "base_uri": "https://localhost:8080/"
        },
        "id": "52gvNAfI4xx7",
        "outputId": "3cf12d16-73ce-4eaa-94ac-afd8e023f522"
      },
      "id": "52gvNAfI4xx7",
      "execution_count": 231,
      "outputs": [
        {
          "output_type": "stream",
          "name": "stdout",
          "text": [
            "24/24 - 0s - loss: 0.6628 - accuracy: 0.6059 - 155ms/epoch - 6ms/step\n",
            "Loss: 0.6628409028053284, Accuracy: 0.6059378981590271\n"
          ]
        }
      ]
    },
    {
      "cell_type": "markdown",
      "source": [
        "Cutoff = 65\n",
        "\n",
        "Layer1 = 10 : activation function = relu\n",
        "\n",
        "Layer2 = 20 : activation function = tanh\n",
        "\n",
        "Loss: 0.6628409028053284, Accuracy: 0.6059378981590271\n",
        "\n",
        "\n",
        "By changing the activation function, the model was able to take into account the negative values in the dataset as the tanh function takes input and outputs values in the range -1 to 1 and hence might have fit the data better. This change resulted in a slightly lower loss (66%) and higher accuracy (61%). This added complexity improved the model's performance by almost 3%."
      ],
      "metadata": {
        "id": "IBLxCgV6_Npj"
      },
      "id": "IBLxCgV6_Npj"
    },
    {
      "cell_type": "markdown",
      "id": "80f0522f",
      "metadata": {
        "id": "80f0522f"
      },
      "source": [
        "# Adding hidden layer with the original activation function"
      ]
    },
    {
      "cell_type": "markdown",
      "source": [
        "Next, we add a hidden layer to our model in order to enable more interaction between features and yield a higher accuracy. We kept the activation function as the original one (relu)."
      ],
      "metadata": {
        "id": "U4AooSYe6Toi"
      },
      "id": "U4AooSYe6Toi"
    },
    {
      "cell_type": "code",
      "execution_count": null,
      "id": "fa13e96e",
      "metadata": {
        "id": "fa13e96e"
      },
      "outputs": [],
      "source": [
        "# Defining the model - deep neural net, i.e., the number of input features and hidden nodes for each layer.\n",
        "number_input_features = len(X_train_scaled[0])\n",
        "hidden_nodes_layer1 = 10\n",
        "hidden_nodes_layer2 = 20\n",
        "hidden_nodes_layer3 = 30\n",
        "\n",
        "nn = tf.keras.models.Sequential()\n",
        "\n",
        "# First hidden layer\n",
        "nn.add(tf.keras.layers.Dense(units=hidden_nodes_layer1, input_dim=number_input_features, activation=\"relu\"))\n",
        "\n",
        "# Second hidden layer\n",
        "nn.add(tf.keras.layers.Dense(units=hidden_nodes_layer2, activation=\"relu\"))\n",
        "\n",
        "# Third hidden layer\n",
        "nn.add(tf.keras.layers.Dense(units=hidden_nodes_layer3, activation=\"relu\"))\n",
        "\n",
        "\n",
        "# Output layer\n",
        "nn.add(tf.keras.layers.Dense(units=1, activation=\"sigmoid\"))\n",
        "\n",
        "# Check the structure of the model\n",
        "nn.summary()"
      ]
    },
    {
      "cell_type": "code",
      "execution_count": 216,
      "id": "ca70f55d",
      "metadata": {
        "id": "ca70f55d"
      },
      "outputs": [],
      "source": [
        "# Compile the model\n",
        "nn.compile(loss=\"binary_crossentropy\", optimizer=\"adam\", metrics=[\"accuracy\"])"
      ]
    },
    {
      "cell_type": "code",
      "execution_count": null,
      "id": "0c1fafc2",
      "metadata": {
        "id": "0c1fafc2"
      },
      "outputs": [],
      "source": [
        "# Train the model\n",
        "fit_model = nn.fit(X_train_scaled,y_train,epochs=100)"
      ]
    },
    {
      "cell_type": "code",
      "execution_count": 218,
      "id": "252cc37d",
      "metadata": {
        "colab": {
          "base_uri": "https://localhost:8080/"
        },
        "id": "252cc37d",
        "outputId": "96219bcd-ebb6-46ce-cd64-2d145516582b"
      },
      "outputs": [
        {
          "output_type": "stream",
          "name": "stdout",
          "text": [
            "24/24 - 0s - loss: 0.6953 - accuracy: 0.6005 - 163ms/epoch - 7ms/step\n",
            "Loss: 0.6952848434448242, Accuracy: 0.6005398035049438\n"
          ]
        }
      ],
      "source": [
        "#Evaluate the model using the test data\n",
        "model_loss, model_accuracy = nn.evaluate(X_test_scaled,y_test,verbose=2)\n",
        "print(f\"Loss: {model_loss}, Accuracy: {model_accuracy}\")"
      ]
    },
    {
      "cell_type": "markdown",
      "source": [
        "Cutoff = 65\n",
        "\n",
        "Layer1 = 10 : activation function = relu\n",
        "\n",
        "Layer2 = 20 : activation function = relu\n",
        "\n",
        "Layer3 = 30 : activation function = relu\n",
        "\n",
        "Loss: 0.6952848434448242, Accuracy: 0.6005398035049438\n",
        "\n",
        "\n",
        "By adding a hidden layer, the model's complexity increased, allowing for the extraction of more intricate patterns in the data. This change resulted in a slightly higher loss (69%) and accuracy (60%). This added complexity improved the model's performance by 2%."
      ],
      "metadata": {
        "id": "K2myHXR4lO3r"
      },
      "id": "K2myHXR4lO3r"
    },
    {
      "cell_type": "markdown",
      "id": "6dfb7cb4",
      "metadata": {
        "id": "6dfb7cb4"
      },
      "source": [
        "# Changing activation function and adding hidden layer"
      ]
    },
    {
      "cell_type": "markdown",
      "source": [
        "By changing the activation function, the model might become more effective in capturing non-linear as well as non-positive patterns in the data. Hence we introduced the tanh activation function for the second and third hidden layers for this particular attempt."
      ],
      "metadata": {
        "id": "BVtemqGV8Cy0"
      },
      "id": "BVtemqGV8Cy0"
    },
    {
      "cell_type": "code",
      "execution_count": 219,
      "id": "2e57b332",
      "metadata": {
        "colab": {
          "base_uri": "https://localhost:8080/"
        },
        "id": "2e57b332",
        "outputId": "664f80c6-b638-4a45-c21b-749786749608"
      },
      "outputs": [
        {
          "output_type": "stream",
          "name": "stdout",
          "text": [
            "Model: \"sequential_12\"\n",
            "_________________________________________________________________\n",
            " Layer (type)                Output Shape              Param #   \n",
            "=================================================================\n",
            " dense_45 (Dense)            (None, 10)                70        \n",
            "                                                                 \n",
            " dense_46 (Dense)            (None, 20)                220       \n",
            "                                                                 \n",
            " dense_47 (Dense)            (None, 30)                630       \n",
            "                                                                 \n",
            " dense_48 (Dense)            (None, 1)                 31        \n",
            "                                                                 \n",
            "=================================================================\n",
            "Total params: 951\n",
            "Trainable params: 951\n",
            "Non-trainable params: 0\n",
            "_________________________________________________________________\n"
          ]
        }
      ],
      "source": [
        "# Define the model - deep neural net, i.e., the number of input features and hidden nodes for each layer.\n",
        "number_input_features = len(X_train_scaled[0])\n",
        "hidden_nodes_layer1 = 10\n",
        "hidden_nodes_layer2 = 20\n",
        "hidden_nodes_layer3 = 30\n",
        "\n",
        "nn = tf.keras.models.Sequential()\n",
        "\n",
        "# First hidden layer\n",
        "nn.add(tf.keras.layers.Dense(units=hidden_nodes_layer1, input_dim=number_input_features, activation=\"relu\"))\n",
        "\n",
        "# Second hidden layer\n",
        "nn.add(tf.keras.layers.Dense(units=hidden_nodes_layer2, activation=\"tanh\"))\n",
        "\n",
        "# Third hidden layer\n",
        "nn.add(tf.keras.layers.Dense(units=hidden_nodes_layer3, activation=\"tanh\"))\n",
        "\n",
        "# Output layer\n",
        "nn.add(tf.keras.layers.Dense(units=1, activation=\"sigmoid\"))\n",
        "\n",
        "# Checking the structure of the model\n",
        "nn.summary()"
      ]
    },
    {
      "cell_type": "code",
      "execution_count": 220,
      "id": "3a235b9b",
      "metadata": {
        "id": "3a235b9b"
      },
      "outputs": [],
      "source": [
        "# Compiling the model\n",
        "nn.compile(loss=\"binary_crossentropy\", optimizer=\"adam\", metrics=[\"accuracy\"])"
      ]
    },
    {
      "cell_type": "code",
      "execution_count": null,
      "id": "9de92024",
      "metadata": {
        "id": "9de92024"
      },
      "outputs": [],
      "source": [
        "# Training the model\n",
        "fit_model = nn.fit(X_train_scaled,y_train,epochs=100)"
      ]
    },
    {
      "cell_type": "code",
      "execution_count": 222,
      "id": "28d66f20",
      "metadata": {
        "colab": {
          "base_uri": "https://localhost:8080/"
        },
        "id": "28d66f20",
        "outputId": "dc012d88-b334-4f20-98bc-361ce5d250b0"
      },
      "outputs": [
        {
          "output_type": "stream",
          "name": "stdout",
          "text": [
            "24/24 - 0s - loss: 0.6714 - accuracy: 0.5789 - 156ms/epoch - 6ms/step\n",
            "Loss: 0.6714479327201843, Accuracy: 0.5789473652839661\n"
          ]
        }
      ],
      "source": [
        "# Evaluating the model using the test data\n",
        "model_loss, model_accuracy = nn.evaluate(X_test_scaled,y_test,verbose=2)\n",
        "print(f\"Loss: {model_loss}, Accuracy: {model_accuracy}\")"
      ]
    },
    {
      "cell_type": "markdown",
      "source": [
        "Cutoff = 65\n",
        "\n",
        "Layer1 = 10 : activation function = relu\n",
        "\n",
        "Layer2 = 20 : activation function = tanh\n",
        "\n",
        "Layer3 = 30 : activation function = tanh\n",
        "\n",
        "Loss: 0.6714479327201843, Accuracy: 0.5789473652839661\n",
        "\n",
        "By adding a hidden layer and changin the activation functions the model's complexity increased however, this change impaired the accuracy of the model as it was back to 58% and slightly decreased the loss to 67% from the previous model."
      ],
      "metadata": {
        "id": "2MroZzI2lDi5"
      },
      "id": "2MroZzI2lDi5"
    },
    {
      "cell_type": "markdown",
      "source": [
        "Hence it seems like the best accuracy of the model was obtained with 2 hidden layers with relu as the activation function of the first layer and tanh as the activation function for the second layer."
      ],
      "metadata": {
        "id": "CQtR5iV8CM9g"
      },
      "id": "CQtR5iV8CM9g"
    },
    {
      "cell_type": "code",
      "execution_count": 105,
      "id": "b588fbb5",
      "metadata": {
        "id": "b588fbb5"
      },
      "outputs": [],
      "source": [
        "# Exporting our model to HDF5 file\n",
        "nn.save('Model/Model.h5')"
      ]
    },
    {
      "cell_type": "markdown",
      "id": "000feaa2",
      "metadata": {
        "id": "000feaa2"
      },
      "source": [
        "# Random Forest"
      ]
    },
    {
      "cell_type": "markdown",
      "source": [
        "Using Random Forest model which is robust against overfitting, outliers and non-linear data"
      ],
      "metadata": {
        "id": "La_Pt0XjCtfx"
      },
      "id": "La_Pt0XjCtfx"
    },
    {
      "cell_type": "code",
      "execution_count": 232,
      "id": "3fb52492",
      "metadata": {
        "colab": {
          "base_uri": "https://localhost:8080/"
        },
        "id": "3fb52492",
        "outputId": "6884e59e-a419-40d1-f677-35e42c35d616"
      },
      "outputs": [
        {
          "output_type": "stream",
          "name": "stdout",
          "text": [
            "Random Forest Accuracy: 0.5767284991568297\n"
          ]
        }
      ],
      "source": [
        "from sklearn.ensemble import RandomForestClassifier\n",
        "\n",
        "# Using the speechiness, acousticness, liveness, valence, energy and loudness columns\n",
        "X = track_df[['speechiness','acousticness','liveness','valence','energy','loudness']]\n",
        "\n",
        "# Updating y with the target variable column\n",
        "y = track_df['is_popular'].values\n",
        "X_train, X_test, y_train, y_test = train_test_split(X, y, test_size=0.2, random_state=42)\n",
        "\n",
        "# Training Random Forest model\n",
        "rf_model = RandomForestClassifier(random_state=42)\n",
        "rf_model.fit(X_train, y_train)\n",
        "rf_predictions = rf_model.predict(X_test)\n",
        "rf_accuracy = accuracy_score(y_test, rf_predictions)\n",
        "\n",
        "# Printing the accuracies of the three models\n",
        "print(\"Random Forest Accuracy:\", rf_accuracy)"
      ]
    },
    {
      "cell_type": "code",
      "source": [
        "print(classification_report(y_test, rf_predictions))"
      ],
      "metadata": {
        "colab": {
          "base_uri": "https://localhost:8080/"
        },
        "id": "Nzy62URXmzQt",
        "outputId": "93362c99-bd65-46ef-c339-f9cead71fe45"
      },
      "id": "Nzy62URXmzQt",
      "execution_count": 233,
      "outputs": [
        {
          "output_type": "stream",
          "name": "stdout",
          "text": [
            "              precision    recall  f1-score   support\n",
            "\n",
            "           0       0.59      0.55      0.57       304\n",
            "           1       0.56      0.61      0.58       289\n",
            "\n",
            "    accuracy                           0.58       593\n",
            "   macro avg       0.58      0.58      0.58       593\n",
            "weighted avg       0.58      0.58      0.58       593\n",
            "\n"
          ]
        }
      ]
    },
    {
      "cell_type": "code",
      "source": [
        "y_pred = rf_model.predict(X_train)\n",
        "print(classification_report(y_train, y_pred))"
      ],
      "metadata": {
        "colab": {
          "base_uri": "https://localhost:8080/"
        },
        "id": "gmlVSwQInpil",
        "outputId": "fba516c2-8450-4ade-9d97-ad2f9169dfeb"
      },
      "id": "gmlVSwQInpil",
      "execution_count": 234,
      "outputs": [
        {
          "output_type": "stream",
          "name": "stdout",
          "text": [
            "              precision    recall  f1-score   support\n",
            "\n",
            "           0       1.00      1.00      1.00      1132\n",
            "           1       1.00      1.00      1.00      1236\n",
            "\n",
            "    accuracy                           1.00      2368\n",
            "   macro avg       1.00      1.00      1.00      2368\n",
            "weighted avg       1.00      1.00      1.00      2368\n",
            "\n"
          ]
        }
      ]
    },
    {
      "cell_type": "code",
      "source": [
        "# Using the speechiness,acousticness,liveness,valence,energy and loudness columns\n",
        "X = track_df[['speechiness','acousticness','liveness','valence','energy','loudness']]\n",
        "\n",
        "# Updating y with the target variable column\n",
        "y = track_df['is_popular'].values\n",
        "X_train, X_test, y_train, y_test = train_test_split(X, y, test_size=0.2, random_state=42)\n",
        "\n",
        "# Training Random Forest model\n",
        "rf_model2 = RandomForestClassifier(criterion='entropy', max_depth=None,\n",
        "                                      min_samples_leaf=2, class_weight='balanced',\n",
        "                                      random_state=42)\n",
        "rf_model2.fit(X_train, y_train)\n",
        "rf_predictions = rf_model2.predict(X_test)\n",
        "rf_accuracy = accuracy_score(y_test, rf_predictions)\n",
        "\n",
        "# Printing the accuracies of the three models\n",
        "print(\"Random Forest Accuracy:\", rf_accuracy)"
      ],
      "metadata": {
        "colab": {
          "base_uri": "https://localhost:8080/"
        },
        "id": "6duscNt2pSm2",
        "outputId": "e982dcda-3b54-4b5a-83d3-359d48addd4b"
      },
      "id": "6duscNt2pSm2",
      "execution_count": 235,
      "outputs": [
        {
          "output_type": "stream",
          "name": "stdout",
          "text": [
            "Random Forest Accuracy: 0.5902192242833052\n"
          ]
        }
      ]
    },
    {
      "cell_type": "code",
      "source": [
        "print(classification_report(y_test, rf_predictions))"
      ],
      "metadata": {
        "colab": {
          "base_uri": "https://localhost:8080/"
        },
        "id": "6pPyJnsMpTX7",
        "outputId": "4b63b532-c463-4936-ceb0-e6fee8b7986f"
      },
      "id": "6pPyJnsMpTX7",
      "execution_count": 236,
      "outputs": [
        {
          "output_type": "stream",
          "name": "stdout",
          "text": [
            "              precision    recall  f1-score   support\n",
            "\n",
            "           0       0.61      0.55      0.58       304\n",
            "           1       0.57      0.63      0.60       289\n",
            "\n",
            "    accuracy                           0.59       593\n",
            "   macro avg       0.59      0.59      0.59       593\n",
            "weighted avg       0.59      0.59      0.59       593\n",
            "\n"
          ]
        }
      ]
    },
    {
      "cell_type": "code",
      "execution_count": 237,
      "id": "968c7dca",
      "metadata": {
        "colab": {
          "base_uri": "https://localhost:8080/"
        },
        "id": "968c7dca",
        "outputId": "4fda4762-effe-4e1f-8913-2d2c20d15cfb"
      },
      "outputs": [
        {
          "output_type": "execute_result",
          "data": {
            "text/plain": [
              "[(0.19127473084035562, 'loudness'),\n",
              " (0.17676254467248068, 'speechiness'),\n",
              " (0.1653504599445122, 'acousticness'),\n",
              " (0.16188629026472018, 'energy'),\n",
              " (0.15346200395471699, 'valence'),\n",
              " (0.15126397032321445, 'liveness')]"
            ]
          },
          "metadata": {},
          "execution_count": 237
        }
      ],
      "source": [
        "# Sorting the features by their importance\n",
        "importances = rf_model2.feature_importances_\n",
        "sorted(zip(rf_model2.feature_importances_, X.columns), reverse=True)"
      ]
    },
    {
      "cell_type": "code",
      "execution_count": 238,
      "id": "5d15eb58",
      "metadata": {
        "colab": {
          "base_uri": "https://localhost:8080/",
          "height": 470
        },
        "id": "5d15eb58",
        "outputId": "036d5a25-b3a7-4bc3-b72d-9634e4f97ac5"
      },
      "outputs": [
        {
          "output_type": "execute_result",
          "data": {
            "text/plain": [
              "<Axes: title={'center': 'Features Importances'}, ylabel='1'>"
            ]
          },
          "metadata": {},
          "execution_count": 238
        },
        {
          "output_type": "display_data",
          "data": {
            "text/plain": [
              "<Figure size 640x480 with 1 Axes>"
            ],
            "image/png": "[encoded data removed]"
          },
          "metadata": {}
        }
      ],
      "source": [
        "# Creating a bar graph to visualize feature importance\n",
        "importances_df = pd.DataFrame(sorted(zip(rf_model.feature_importances_, X.columns), reverse=True))\n",
        "importances_df.set_index(importances_df[1], inplace=True)\n",
        "importances_df.drop(columns=1, inplace=True)\n",
        "importances_df.rename(columns={0: 'Feature Importances'}, inplace=True)\n",
        "importances_sorted = importances_df.sort_values(by='Feature Importances')\n",
        "importances_sorted.plot(kind='barh', color='lightgreen', title= 'Features Importances', legend=False)"
      ]
    },
    {
      "cell_type": "markdown",
      "source": [
        "The random forest model performs with an accuracy of 58%."
      ],
      "metadata": {
        "id": "VnvYITvrmGLO"
      },
      "id": "VnvYITvrmGLO"
    },
    {
      "cell_type": "markdown",
      "source": [
        "Conclusion: - The logistic regression model with resampled data showed improved performance compared to the model with original data, with slightly higher precision, recall, and F1-score for both classes. - The neural network model showed varying performance based on changes made, indicating the importance of model architecture and activation functions. -  The random forest model achieved an accuracy of 0.5565, indicating moderate performance. - Overall, further model optimization and exploration of different algorithms may be necessary to improve the predictive performance of the models on the given dataset.\n",
        "\n",
        "Overall, the optimization process involved experimenting with different architectural changes and activation functions. The addition of a hidden layer did not yield a significant improvement but changing the activation function resulted in a better-performing model with a lower loss and higher accuracy."
      ],
      "metadata": {
        "id": "Jr5OO_XNk98p"
      },
      "id": "Jr5OO_XNk98p"
    },
    {
      "cell_type": "code",
      "source": [],
      "metadata": {
        "id": "7kC__fdb8w1O"
      },
      "id": "7kC__fdb8w1O",
      "execution_count": null,
      "outputs": []
    }
  ],
  "metadata": {
    "kernelspec": {
      "display_name": "base",
      "language": "python",
      "name": "python3"
    },
    "language_info": {
      "codemirror_mode": {
        "name": "ipython",
        "version": 3
      },
      "file_extension": ".py",
      "mimetype": "text/x-python",
      "name": "python",
      "nbconvert_exporter": "python",
      "pygments_lexer": "ipython3",
      "version": "3.9.13"
    },
    "colab": {
      "provenance": []
    }
  },
  "nbformat": 4,
  "nbformat_minor": 5
}